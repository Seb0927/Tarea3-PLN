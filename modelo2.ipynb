{
 "cells": [
  {
   "cell_type": "markdown",
   "id": "b095802c-df2f-4e5f-8dc6-31c1bb771a2d",
   "metadata": {},
   "source": [
    "# Modelo 2: Bilstm + CRF + embedding"
   ]
  },
  {
   "cell_type": "markdown",
   "id": "71a035bd-c690-4d9f-8ade-a0ec47203231",
   "metadata": {},
   "source": [
    "Realizado por:\n",
    "- Jose Luis Hincapie Bucheli (2125340)\n",
    "- Sebastián Idrobo Avirama (2122637)\n",
    "- Paul Rodrigo Rojas Guerrero (2127891)"
   ]
  }
 ],
 "metadata": {
  "kernelspec": {
   "display_name": "Python 3 (ipykernel)",
   "language": "python",
   "name": "python3"
  },
  "language_info": {
   "codemirror_mode": {
    "name": "ipython",
    "version": 3
   },
   "file_extension": ".py",
   "mimetype": "text/x-python",
   "name": "python",
   "nbconvert_exporter": "python",
   "pygments_lexer": "ipython3",
   "version": "3.10.13"
  }
 },
 "nbformat": 4,
 "nbformat_minor": 5
}
