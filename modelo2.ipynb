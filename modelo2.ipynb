{
 "cells": [
  {
   "cell_type": "markdown",
   "id": "b095802c-df2f-4e5f-8dc6-31c1bb771a2d",
   "metadata": {
    "id": "b095802c-df2f-4e5f-8dc6-31c1bb771a2d"
   },
   "source": [
    "# Modelo 2: Bilstm + CRF + embedding"
   ]
  },
  {
   "cell_type": "markdown",
   "id": "71a035bd-c690-4d9f-8ade-a0ec47203231",
   "metadata": {
    "id": "71a035bd-c690-4d9f-8ade-a0ec47203231"
   },
   "source": [
    "Realizado por:\n",
    "- Jose Luis Hincapie Bucheli (2125340)\n",
    "- Sebastián Idrobo Avirama (2122637)\n",
    "- Paul Rodrigo Rojas Guerrero (2127891)"
   ]
  },
  {
   "cell_type": "markdown",
   "id": "6f6e3a89-f617-46a2-ad75-acf9d85696f3",
   "metadata": {
    "id": "6f6e3a89-f617-46a2-ad75-acf9d85696f3"
   },
   "source": [
    "## Instalación e importación de Librerías"
   ]
  },
  {
   "cell_type": "code",
   "execution_count": null,
   "id": "W6528YqnCMnP",
   "metadata": {
    "id": "W6528YqnCMnP"
   },
   "outputs": [],
   "source": [
    "try:\n",
    "    import seqeval\n",
    "except ModuleNotFoundError as err:\n",
    "    !pip install seqeval"
   ]
  },
  {
   "cell_type": "code",
   "execution_count": 2,
   "id": "b89bd37f-52cb-4ab5-a82d-4f9d82e0447d",
   "metadata": {
    "colab": {
     "base_uri": "https://localhost:8080/"
    },
    "id": "b89bd37f-52cb-4ab5-a82d-4f9d82e0447d",
    "outputId": "9248725b-e8d6-48b4-ad03-09a653496e4c"
   },
   "outputs": [
    {
     "name": "stdout",
     "output_type": "stream",
     "text": [
      "Requirement already satisfied: matplotlib in /home/paul/Documents/nlp/workshop3/venv/lib/python3.10/site-packages (3.8.4)\n",
      "Requirement already satisfied: kiwisolver>=1.3.1 in /home/paul/Documents/nlp/workshop3/venv/lib/python3.10/site-packages (from matplotlib) (1.4.5)\n",
      "Requirement already satisfied: python-dateutil>=2.7 in /home/paul/Documents/nlp/workshop3/venv/lib/python3.10/site-packages (from matplotlib) (2.9.0.post0)\n",
      "Requirement already satisfied: pillow>=8 in /home/paul/Documents/nlp/workshop3/venv/lib/python3.10/site-packages (from matplotlib) (10.3.0)\n",
      "Requirement already satisfied: numpy>=1.21 in /home/paul/Documents/nlp/workshop3/venv/lib/python3.10/site-packages (from matplotlib) (1.26.4)\n",
      "Requirement already satisfied: fonttools>=4.22.0 in /home/paul/Documents/nlp/workshop3/venv/lib/python3.10/site-packages (from matplotlib) (4.51.0)\n",
      "Requirement already satisfied: packaging>=20.0 in /home/paul/Documents/nlp/workshop3/venv/lib/python3.10/site-packages (from matplotlib) (24.0)\n",
      "Requirement already satisfied: cycler>=0.10 in /home/paul/Documents/nlp/workshop3/venv/lib/python3.10/site-packages (from matplotlib) (0.12.1)\n",
      "Requirement already satisfied: contourpy>=1.0.1 in /home/paul/Documents/nlp/workshop3/venv/lib/python3.10/site-packages (from matplotlib) (1.2.1)\n",
      "Requirement already satisfied: pyparsing>=2.3.1 in /home/paul/Documents/nlp/workshop3/venv/lib/python3.10/site-packages (from matplotlib) (3.1.2)\n",
      "Requirement already satisfied: six>=1.5 in /home/paul/Documents/nlp/workshop3/venv/lib/python3.10/site-packages (from python-dateutil>=2.7->matplotlib) (1.16.0)\n",
      "Requirement already satisfied: scikit-learn in /home/paul/Documents/nlp/workshop3/venv/lib/python3.10/site-packages (1.4.2)\n",
      "Requirement already satisfied: threadpoolctl>=2.0.0 in /home/paul/Documents/nlp/workshop3/venv/lib/python3.10/site-packages (from scikit-learn) (3.4.0)\n",
      "Requirement already satisfied: scipy>=1.6.0 in /home/paul/Documents/nlp/workshop3/venv/lib/python3.10/site-packages (from scikit-learn) (1.13.0)\n",
      "Requirement already satisfied: numpy>=1.19.5 in /home/paul/Documents/nlp/workshop3/venv/lib/python3.10/site-packages (from scikit-learn) (1.26.4)\n",
      "Requirement already satisfied: joblib>=1.2.0 in /home/paul/Documents/nlp/workshop3/venv/lib/python3.10/site-packages (from scikit-learn) (1.4.0)\n",
      "Requirement already satisfied: pandas in /home/paul/Documents/nlp/workshop3/venv/lib/python3.10/site-packages (2.2.2)\n",
      "Requirement already satisfied: python-dateutil>=2.8.2 in /home/paul/Documents/nlp/workshop3/venv/lib/python3.10/site-packages (from pandas) (2.9.0.post0)\n",
      "Requirement already satisfied: pytz>=2020.1 in /home/paul/Documents/nlp/workshop3/venv/lib/python3.10/site-packages (from pandas) (2024.1)\n",
      "Requirement already satisfied: tzdata>=2022.7 in /home/paul/Documents/nlp/workshop3/venv/lib/python3.10/site-packages (from pandas) (2024.1)\n",
      "Requirement already satisfied: numpy>=1.22.4 in /home/paul/Documents/nlp/workshop3/venv/lib/python3.10/site-packages (from pandas) (1.26.4)\n",
      "Requirement already satisfied: six>=1.5 in /home/paul/Documents/nlp/workshop3/venv/lib/python3.10/site-packages (from python-dateutil>=2.8.2->pandas) (1.16.0)\n",
      "Requirement already satisfied: tensorflow-addons==.0.23.0 in /home/paul/Documents/nlp/workshop3/venv/lib/python3.10/site-packages (0.23.0)\n",
      "Requirement already satisfied: typeguard<3.0.0,>=2.7 in /home/paul/Documents/nlp/workshop3/venv/lib/python3.10/site-packages (from tensorflow-addons==.0.23.0) (2.13.3)\n",
      "Requirement already satisfied: packaging in /home/paul/Documents/nlp/workshop3/venv/lib/python3.10/site-packages (from tensorflow-addons==.0.23.0) (24.0)\n",
      "Requirement already satisfied: tensorflow==2.15.0 in /home/paul/Documents/nlp/workshop3/venv/lib/python3.10/site-packages (2.15.0)\n",
      "Requirement already satisfied: grpcio<2.0,>=1.24.3 in /home/paul/Documents/nlp/workshop3/venv/lib/python3.10/site-packages (from tensorflow==2.15.0) (1.62.2)\n",
      "Requirement already satisfied: gast!=0.5.0,!=0.5.1,!=0.5.2,>=0.2.1 in /home/paul/Documents/nlp/workshop3/venv/lib/python3.10/site-packages (from tensorflow==2.15.0) (0.5.4)\n",
      "Requirement already satisfied: protobuf!=4.21.0,!=4.21.1,!=4.21.2,!=4.21.3,!=4.21.4,!=4.21.5,<5.0.0dev,>=3.20.3 in /home/paul/Documents/nlp/workshop3/venv/lib/python3.10/site-packages (from tensorflow==2.15.0) (3.20.3)\n",
      "Requirement already satisfied: keras<2.16,>=2.15.0 in /home/paul/Documents/nlp/workshop3/venv/lib/python3.10/site-packages (from tensorflow==2.15.0) (2.15.0)\n",
      "Requirement already satisfied: flatbuffers>=23.5.26 in /home/paul/Documents/nlp/workshop3/venv/lib/python3.10/site-packages (from tensorflow==2.15.0) (24.3.25)\n",
      "Requirement already satisfied: astunparse>=1.6.0 in /home/paul/Documents/nlp/workshop3/venv/lib/python3.10/site-packages (from tensorflow==2.15.0) (1.6.3)\n",
      "Requirement already satisfied: setuptools in /home/paul/Documents/nlp/workshop3/venv/lib/python3.10/site-packages (from tensorflow==2.15.0) (59.6.0)\n",
      "Requirement already satisfied: packaging in /home/paul/Documents/nlp/workshop3/venv/lib/python3.10/site-packages (from tensorflow==2.15.0) (24.0)\n",
      "Requirement already satisfied: ml-dtypes~=0.2.0 in /home/paul/Documents/nlp/workshop3/venv/lib/python3.10/site-packages (from tensorflow==2.15.0) (0.2.0)\n",
      "Requirement already satisfied: absl-py>=1.0.0 in /home/paul/Documents/nlp/workshop3/venv/lib/python3.10/site-packages (from tensorflow==2.15.0) (1.4.0)\n",
      "Requirement already satisfied: tensorflow-estimator<2.16,>=2.15.0 in /home/paul/Documents/nlp/workshop3/venv/lib/python3.10/site-packages (from tensorflow==2.15.0) (2.15.0)\n",
      "Requirement already satisfied: opt-einsum>=2.3.2 in /home/paul/Documents/nlp/workshop3/venv/lib/python3.10/site-packages (from tensorflow==2.15.0) (3.3.0)\n",
      "Requirement already satisfied: wrapt<1.15,>=1.11.0 in /home/paul/Documents/nlp/workshop3/venv/lib/python3.10/site-packages (from tensorflow==2.15.0) (1.14.1)\n",
      "Requirement already satisfied: tensorflow-io-gcs-filesystem>=0.23.1 in /home/paul/Documents/nlp/workshop3/venv/lib/python3.10/site-packages (from tensorflow==2.15.0) (0.36.0)\n",
      "Requirement already satisfied: tensorboard<2.16,>=2.15 in /home/paul/Documents/nlp/workshop3/venv/lib/python3.10/site-packages (from tensorflow==2.15.0) (2.15.2)\n",
      "Requirement already satisfied: libclang>=13.0.0 in /home/paul/Documents/nlp/workshop3/venv/lib/python3.10/site-packages (from tensorflow==2.15.0) (18.1.1)\n",
      "Requirement already satisfied: h5py>=2.9.0 in /home/paul/Documents/nlp/workshop3/venv/lib/python3.10/site-packages (from tensorflow==2.15.0) (3.11.0)\n",
      "Requirement already satisfied: typing-extensions>=3.6.6 in /home/paul/Documents/nlp/workshop3/venv/lib/python3.10/site-packages (from tensorflow==2.15.0) (4.11.0)\n",
      "Requirement already satisfied: termcolor>=1.1.0 in /home/paul/Documents/nlp/workshop3/venv/lib/python3.10/site-packages (from tensorflow==2.15.0) (2.4.0)\n",
      "Requirement already satisfied: numpy<2.0.0,>=1.23.5 in /home/paul/Documents/nlp/workshop3/venv/lib/python3.10/site-packages (from tensorflow==2.15.0) (1.26.4)\n",
      "Requirement already satisfied: google-pasta>=0.1.1 in /home/paul/Documents/nlp/workshop3/venv/lib/python3.10/site-packages (from tensorflow==2.15.0) (0.2.0)\n",
      "Requirement already satisfied: six>=1.12.0 in /home/paul/Documents/nlp/workshop3/venv/lib/python3.10/site-packages (from tensorflow==2.15.0) (1.16.0)\n",
      "Requirement already satisfied: wheel<1.0,>=0.23.0 in /home/paul/Documents/nlp/workshop3/venv/lib/python3.10/site-packages (from astunparse>=1.6.0->tensorflow==2.15.0) (0.43.0)\n",
      "Requirement already satisfied: werkzeug>=1.0.1 in /home/paul/Documents/nlp/workshop3/venv/lib/python3.10/site-packages (from tensorboard<2.16,>=2.15->tensorflow==2.15.0) (3.0.2)\n",
      "Requirement already satisfied: google-auth-oauthlib<2,>=0.5 in /home/paul/Documents/nlp/workshop3/venv/lib/python3.10/site-packages (from tensorboard<2.16,>=2.15->tensorflow==2.15.0) (1.2.0)\n",
      "Requirement already satisfied: requests<3,>=2.21.0 in /home/paul/Documents/nlp/workshop3/venv/lib/python3.10/site-packages (from tensorboard<2.16,>=2.15->tensorflow==2.15.0) (2.31.0)\n",
      "Requirement already satisfied: tensorboard-data-server<0.8.0,>=0.7.0 in /home/paul/Documents/nlp/workshop3/venv/lib/python3.10/site-packages (from tensorboard<2.16,>=2.15->tensorflow==2.15.0) (0.7.2)\n",
      "Requirement already satisfied: markdown>=2.6.8 in /home/paul/Documents/nlp/workshop3/venv/lib/python3.10/site-packages (from tensorboard<2.16,>=2.15->tensorflow==2.15.0) (3.6)\n",
      "Requirement already satisfied: google-auth<3,>=1.6.3 in /home/paul/Documents/nlp/workshop3/venv/lib/python3.10/site-packages (from tensorboard<2.16,>=2.15->tensorflow==2.15.0) (2.29.0)\n",
      "Requirement already satisfied: rsa<5,>=3.1.4 in /home/paul/Documents/nlp/workshop3/venv/lib/python3.10/site-packages (from google-auth<3,>=1.6.3->tensorboard<2.16,>=2.15->tensorflow==2.15.0) (4.9)\n",
      "Requirement already satisfied: pyasn1-modules>=0.2.1 in /home/paul/Documents/nlp/workshop3/venv/lib/python3.10/site-packages (from google-auth<3,>=1.6.3->tensorboard<2.16,>=2.15->tensorflow==2.15.0) (0.4.0)\n",
      "Requirement already satisfied: cachetools<6.0,>=2.0.0 in /home/paul/Documents/nlp/workshop3/venv/lib/python3.10/site-packages (from google-auth<3,>=1.6.3->tensorboard<2.16,>=2.15->tensorflow==2.15.0) (5.3.3)\n",
      "Requirement already satisfied: requests-oauthlib>=0.7.0 in /home/paul/Documents/nlp/workshop3/venv/lib/python3.10/site-packages (from google-auth-oauthlib<2,>=0.5->tensorboard<2.16,>=2.15->tensorflow==2.15.0) (2.0.0)\n",
      "Requirement already satisfied: idna<4,>=2.5 in /home/paul/Documents/nlp/workshop3/venv/lib/python3.10/site-packages (from requests<3,>=2.21.0->tensorboard<2.16,>=2.15->tensorflow==2.15.0) (3.7)\n",
      "Requirement already satisfied: urllib3<3,>=1.21.1 in /home/paul/Documents/nlp/workshop3/venv/lib/python3.10/site-packages (from requests<3,>=2.21.0->tensorboard<2.16,>=2.15->tensorflow==2.15.0) (2.2.1)\n",
      "Requirement already satisfied: certifi>=2017.4.17 in /home/paul/Documents/nlp/workshop3/venv/lib/python3.10/site-packages (from requests<3,>=2.21.0->tensorboard<2.16,>=2.15->tensorflow==2.15.0) (2024.2.2)\n",
      "Requirement already satisfied: charset-normalizer<4,>=2 in /home/paul/Documents/nlp/workshop3/venv/lib/python3.10/site-packages (from requests<3,>=2.21.0->tensorboard<2.16,>=2.15->tensorflow==2.15.0) (3.3.2)\n",
      "Requirement already satisfied: MarkupSafe>=2.1.1 in /home/paul/Documents/nlp/workshop3/venv/lib/python3.10/site-packages (from werkzeug>=1.0.1->tensorboard<2.16,>=2.15->tensorflow==2.15.0) (2.1.5)\n",
      "Requirement already satisfied: pyasn1<0.7.0,>=0.4.6 in /home/paul/Documents/nlp/workshop3/venv/lib/python3.10/site-packages (from pyasn1-modules>=0.2.1->google-auth<3,>=1.6.3->tensorboard<2.16,>=2.15->tensorflow==2.15.0) (0.6.0)\n",
      "Requirement already satisfied: oauthlib>=3.0.0 in /home/paul/Documents/nlp/workshop3/venv/lib/python3.10/site-packages (from requests-oauthlib>=0.7.0->google-auth-oauthlib<2,>=0.5->tensorboard<2.16,>=2.15->tensorflow==2.15.0) (3.2.2)\n",
      "Requirement already satisfied: keras==2.15.0 in /home/paul/Documents/nlp/workshop3/venv/lib/python3.10/site-packages (2.15.0)\n",
      "Requirement already satisfied: nltk==3.8.1 in /home/paul/Documents/nlp/workshop3/venv/lib/python3.10/site-packages (3.8.1)\n",
      "Requirement already satisfied: joblib in /home/paul/Documents/nlp/workshop3/venv/lib/python3.10/site-packages (from nltk==3.8.1) (1.4.0)\n",
      "Requirement already satisfied: regex>=2021.8.3 in /home/paul/Documents/nlp/workshop3/venv/lib/python3.10/site-packages (from nltk==3.8.1) (2024.4.16)\n",
      "Requirement already satisfied: tqdm in /home/paul/Documents/nlp/workshop3/venv/lib/python3.10/site-packages (from nltk==3.8.1) (4.66.2)\n",
      "Requirement already satisfied: click in /home/paul/Documents/nlp/workshop3/venv/lib/python3.10/site-packages (from nltk==3.8.1) (8.1.7)\n",
      "Requirement already satisfied: seqeval in /home/paul/Documents/nlp/workshop3/venv/lib/python3.10/site-packages (1.2.2)\n",
      "Requirement already satisfied: scikit-learn>=0.21.3 in /home/paul/Documents/nlp/workshop3/venv/lib/python3.10/site-packages (from seqeval) (1.4.2)\n",
      "Requirement already satisfied: numpy>=1.14.0 in /home/paul/Documents/nlp/workshop3/venv/lib/python3.10/site-packages (from seqeval) (1.26.4)\n",
      "Requirement already satisfied: threadpoolctl>=2.0.0 in /home/paul/Documents/nlp/workshop3/venv/lib/python3.10/site-packages (from scikit-learn>=0.21.3->seqeval) (3.4.0)\n",
      "Requirement already satisfied: scipy>=1.6.0 in /home/paul/Documents/nlp/workshop3/venv/lib/python3.10/site-packages (from scikit-learn>=0.21.3->seqeval) (1.13.0)\n",
      "Requirement already satisfied: joblib>=1.2.0 in /home/paul/Documents/nlp/workshop3/venv/lib/python3.10/site-packages (from scikit-learn>=0.21.3->seqeval) (1.4.0)\n"
     ]
    }
   ],
   "source": [
    "!pip install matplotlib\n",
    "!pip install scikit-learn\n",
    "#!pip install nltk\n",
    "#!pip install tensorflow\n",
    "#!pip install tensorflow-addons\n",
    "!pip install pandas\n",
    "#!pip install 'keras<3.0.0' mediapipe-model-maker\n",
    "#!pip install keras==2.9\n",
    "!pip install tensorflow-addons==.0.23.0\n",
    "!pip install tensorflow==2.15.0\n",
    "!pip install keras==2.15.0\n",
    "!pip install nltk==3.8.1\n",
    "!pip install seqeval\n",
    "import sys\n",
    "\n",
    "sys.path.append('./packages')"
   ]
  },
  {
   "cell_type": "code",
   "execution_count": null,
   "id": "3b700eb4-01e5-48ff-b47d-860b9624b66a",
   "metadata": {
    "id": "3b700eb4-01e5-48ff-b47d-860b9624b66a"
   },
   "outputs": [],
   "source": [
    "import tensorflow as tf\n",
    "import matplotlib.pyplot as plt\n",
    "import numpy as np\n",
    "import pickle\n",
    "import pandas as pd\n",
    "from itertools import islice\n",
    "\n",
    "from sklearn.metrics import confusion_matrix\n",
    "from sklearn.metrics import classification_report as eskclarep\n",
    "from sklearn.preprocessing import LabelBinarizer\n",
    "from itertools import chain\n",
    "\n",
    "from tensorflow.keras.preprocessing.sequence import pad_sequences\n",
    "from tensorflow.keras.models import Model, Sequential\n",
    "from tensorflow.keras.layers import Concatenate, Lambda, Input, LSTM, Embedding, Dense, TimeDistributed, Dropout, Bidirectional, InputLayer, Activation, Flatten\n",
    "from tensorflow.keras.optimizers import Adam, schedules\n",
    "from crfta import CRF as crf4\n",
    "from utils import build_matrix_embeddings as bme, plot_model_performance, logits_to_tokens, report_to_df\n",
    "\n",
    "from tensorflow.keras.callbacks import ModelCheckpoint\n",
    "from tensorflow.keras.callbacks import TensorBoard\n",
    "\n",
    "from IPython.core.display import display, HTML\n",
    "\n",
    "import datetime, os\n",
    "import random\n",
    "import nltk\n",
    "\n"
   ]
  },
  {
   "cell_type": "markdown",
   "id": "a555a044-9fdd-46ba-bde6-d46b4121dbee",
   "metadata": {
    "id": "a555a044-9fdd-46ba-bde6-d46b4121dbee"
   },
   "source": [
    "## Obtención de conll2002"
   ]
  },
  {
   "cell_type": "code",
   "execution_count": null,
   "id": "6bb4a847-0472-4ef6-8b98-eb0c8c07c78a",
   "metadata": {
    "colab": {
     "base_uri": "https://localhost:8080/"
    },
    "id": "6bb4a847-0472-4ef6-8b98-eb0c8c07c78a",
    "outputId": "2dc0d25d-2fe0-4aac-8a80-9cc707f071d1"
   },
   "outputs": [
    {
     "name": "stderr",
     "output_type": "stream",
     "text": [
      "[nltk_data] Downloading package conll2002 to /root/nltk_data...\n",
      "[nltk_data]   Package conll2002 is already up-to-date!\n"
     ]
    },
    {
     "data": {
      "text/plain": [
       "['esp.testa', 'esp.testb', 'esp.train', 'ned.testa', 'ned.testb', 'ned.train']"
      ]
     },
     "execution_count": 69,
     "metadata": {},
     "output_type": "execute_result"
    }
   ],
   "source": [
    "nltk.download('conll2002')\n",
    "nltk.corpus.conll2002.fileids()"
   ]
  },
  {
   "cell_type": "markdown",
   "id": "bb0a4fd3-2fe8-4341-8a4e-1ba74689a220",
   "metadata": {
    "id": "bb0a4fd3-2fe8-4341-8a4e-1ba74689a220"
   },
   "source": [
    "## Separación de datos"
   ]
  },
  {
   "cell_type": "code",
   "execution_count": null,
   "id": "4bc988ba-e0d0-4934-bfa5-9a542c284e70",
   "metadata": {
    "colab": {
     "base_uri": "https://localhost:8080/"
    },
    "id": "4bc988ba-e0d0-4934-bfa5-9a542c284e70",
    "outputId": "69da0896-633c-495a-8e46-971f1923fa02"
   },
   "outputs": [
    {
     "name": "stdout",
     "output_type": "stream",
     "text": [
      "8323 1238\n",
      "1517 202\n",
      "1915 141\n"
     ]
    }
   ],
   "source": [
    "train_sents = list(nltk.corpus.conll2002.iob_sents('esp.train'))\n",
    "test_sents = list(nltk.corpus.conll2002.iob_sents('esp.testb'))\n",
    "eval_sents = list(nltk.corpus.conll2002.iob_sents('esp.testa'))\n",
    "print(len(train_sents),len(max(train_sents,key=len)))\n",
    "print(len(test_sents),len(max(test_sents,key=len)))\n",
    "print(len(eval_sents),len(max(eval_sents,key=len)))"
   ]
  },
  {
   "cell_type": "markdown",
   "id": "82c38b1e-5b3c-4bf1-a960-25060865d52a",
   "metadata": {
    "id": "82c38b1e-5b3c-4bf1-a960-25060865d52a"
   },
   "source": [
    "# Preprocesamiento de datos"
   ]
  },
  {
   "cell_type": "code",
   "execution_count": null,
   "id": "3851be8a-af43-4c7c-8348-a87a5c1a9902",
   "metadata": {
    "id": "3851be8a-af43-4c7c-8348-a87a5c1a9902"
   },
   "outputs": [],
   "source": [
    "def sent2labels(sent):\n",
    "    return [label for token, postag, label in sent]\n",
    "\n",
    "def sent2tokens(sent):\n",
    "    return [token for token, postag, label in sent]"
   ]
  },
  {
   "cell_type": "code",
   "execution_count": null,
   "id": "1954fcbb-d6de-4380-8791-2986e5ec32e9",
   "metadata": {
    "id": "1954fcbb-d6de-4380-8791-2986e5ec32e9"
   },
   "outputs": [],
   "source": [
    "X_train = [sent2tokens(s) for s in train_sents]\n",
    "y_train = [sent2labels(s) for s in train_sents]\n",
    "\n",
    "X_test = [sent2tokens(s) for s in test_sents]\n",
    "y_test = [sent2labels(s) for s in test_sents]\n",
    "\n",
    "X_eval = [sent2tokens(s) for s in eval_sents]\n",
    "y_eval = [sent2labels(s) for s in eval_sents]"
   ]
  },
  {
   "cell_type": "code",
   "execution_count": null,
   "id": "33a2210b-35d4-44c5-a735-678b70c03503",
   "metadata": {
    "colab": {
     "base_uri": "https://localhost:8080/"
    },
    "id": "33a2210b-35d4-44c5-a735-678b70c03503",
    "outputId": "b88acf63-51e7-427f-cd43-13368acd6f8b"
   },
   "outputs": [
    {
     "name": "stdout",
     "output_type": "stream",
     "text": [
      "28384\n",
      "11\n",
      "{'B-MISC': 2, 'I-ORG': 3, 'B-PER': 4, 'I-PER': 5, 'I-LOC': 6, 'B-LOC': 7, 'I-MISC': 8, 'B-ORG': 9, 'O': 10, '-PAD-': 0, '-OOV-': 1}\n",
      "{'B-MISC', 'I-ORG', 'B-PER', 'I-PER', 'I-LOC', 'B-LOC', 'I-MISC', 'B-ORG', 'O'}\n"
     ]
    }
   ],
   "source": [
    "import numpy as np\n",
    "\n",
    "words, tagsss = set([]), set([])\n",
    "\n",
    "for s in (X_train + X_eval + X_test):\n",
    "    for w in s:\n",
    "        words.add(w.lower())\n",
    "\n",
    "for ts in (y_train + y_eval + y_test):\n",
    "    for t in ts:\n",
    "        tagsss.add(t)\n",
    "\n",
    "word2index = {w: i + 2 for i, w in enumerate(list(words))}\n",
    "word2index['-PAD-'] = 0  # The special value used for padding\n",
    "word2index['-OOV-'] = 1  # The special value used for OOVs\n",
    "\n",
    "tag2index = {t: i + 2 for i, t in enumerate(list(tagsss))}\n",
    "tag2index['-PAD-'] = 0  # The special value used to padding\n",
    "tag2index['-OOV-'] = 1  # The special value used to padding\n",
    "\n",
    "print (len(word2index))\n",
    "print (len(tag2index))\n",
    "print(tag2index)\n",
    "\n",
    "\n",
    "print(tagsss)"
   ]
  },
  {
   "cell_type": "code",
   "execution_count": null,
   "id": "675f8e31-abcc-4ad7-8fe1-a9e8d38516f7",
   "metadata": {
    "id": "675f8e31-abcc-4ad7-8fe1-a9e8d38516f7"
   },
   "outputs": [],
   "source": [
    "train_sentences_X, eval_sentences_X, test_sentences_X, train_tags_y, eval_tags_y, test_tags_y = [], [], [], [], [], []\n",
    "\n",
    "for s in X_train:\n",
    "    s_int = []\n",
    "    for w in s:\n",
    "        try:\n",
    "            s_int.append(word2index[w.lower()])\n",
    "        except KeyError:\n",
    "            s_int.append(word2index['-OOV-'])\n",
    "\n",
    "    train_sentences_X.append(s_int)\n",
    "\n",
    "for s in X_eval:\n",
    "    s_int = []\n",
    "    for w in s:\n",
    "        try:\n",
    "            s_int.append(word2index[w.lower()])\n",
    "        except KeyError:\n",
    "            s_int.append(word2index['-OOV-'])\n",
    "\n",
    "    eval_sentences_X.append(s_int)\n",
    "\n",
    "for s in X_test:\n",
    "    s_int = []\n",
    "    for w in s:\n",
    "        try:\n",
    "            s_int.append(word2index[w.lower()])\n",
    "        except KeyError:\n",
    "            s_int.append(word2index['-OOV-'])\n",
    "\n",
    "    test_sentences_X.append(s_int)\n",
    "\n",
    "for s in y_train:\n",
    "    s_int = []\n",
    "    for w in s:\n",
    "        try:\n",
    "            s_int.append(tag2index[w])\n",
    "        except KeyError:\n",
    "            s_int.append(tag2index['-OOV-'])\n",
    "\n",
    "    train_tags_y.append(s_int)\n",
    "\n",
    "for s in y_eval:\n",
    "    s_int = []\n",
    "    for w in s:\n",
    "        try:\n",
    "            s_int.append(tag2index[w])\n",
    "        except KeyError:\n",
    "            s_int.append(tag2index['-OOV-'])\n",
    "\n",
    "    eval_tags_y.append(s_int)\n",
    "\n",
    "for s in y_test:\n",
    "    s_int = []\n",
    "    for w in s:\n",
    "        try:\n",
    "            s_int.append(tag2index[w])\n",
    "        except KeyError:\n",
    "            s_int.append(tag2index['-OOV-'])\n",
    "\n",
    "    test_tags_y.append(s_int)\n"
   ]
  },
  {
   "cell_type": "code",
   "execution_count": null,
   "id": "d0d61afb-8542-4ccc-8eaa-4c71b631512d",
   "metadata": {
    "id": "d0d61afb-8542-4ccc-8eaa-4c71b631512d"
   },
   "outputs": [],
   "source": [
    "MAX_LENGTH=202\n",
    "train_sentences_X = pad_sequences(train_sentences_X, maxlen=MAX_LENGTH, padding='post')\n",
    "eval_sentences_X = pad_sequences(eval_sentences_X, maxlen=MAX_LENGTH, padding='post')\n",
    "test_sentences_X = pad_sequences(test_sentences_X, maxlen=MAX_LENGTH, padding='post')\n",
    "train_tags_y = pad_sequences(train_tags_y, maxlen=MAX_LENGTH, padding='post')\n",
    "eval_tags_y = pad_sequences(eval_tags_y, maxlen=MAX_LENGTH, padding='post')\n",
    "test_tags_y = pad_sequences(test_tags_y, maxlen=MAX_LENGTH, padding='post')\n"
   ]
  },
  {
   "cell_type": "code",
   "execution_count": null,
   "id": "4QVZGfzDz9v0",
   "metadata": {
    "id": "4QVZGfzDz9v0"
   },
   "outputs": [],
   "source": [
    "def to_categoricals(sequences, categories):\n",
    "    cat_sequences = []\n",
    "    for s in sequences:\n",
    "        cats = []\n",
    "        for item in s:\n",
    "            cats.append(np.zeros(categories))\n",
    "            cats[-1][item] = 1.0\n",
    "        cat_sequences.append(cats)\n",
    "    return np.array(cat_sequences)"
   ]
  },
  {
   "cell_type": "code",
   "execution_count": null,
   "id": "PvZ8SjlWz_CA",
   "metadata": {
    "id": "PvZ8SjlWz_CA"
   },
   "outputs": [],
   "source": [
    "\n",
    "def encode(data):\n",
    "    print('Shape of data (BEFORE encode): %s' % str(data.shape))\n",
    "    encoded = to_categorical(data)\n",
    "    print('Shape of data (AFTER  encode): %s\\n' % str(encoded.shape))\n",
    "    return encoded"
   ]
  },
  {
   "cell_type": "code",
   "execution_count": null,
   "id": "zOEcFc2h0JID",
   "metadata": {
    "id": "zOEcFc2h0JID"
   },
   "outputs": [],
   "source": [
    "cat_train_tags_y = to_categoricals(train_tags_y, len(tag2index))\n",
    "cat_eval_tags_y  = to_categoricals(eval_tags_y, len(tag2index))\n",
    "cat_test_tags_y  = to_categoricals(test_tags_y, len(tag2index))"
   ]
  },
  {
   "cell_type": "markdown",
   "id": "zTa0RGSf26Lj",
   "metadata": {
    "id": "zTa0RGSf26Lj"
   },
   "source": [
    "## Entrenamiento del modelo"
   ]
  },
  {
   "cell_type": "code",
   "execution_count": null,
   "id": "aySsKiiK52BY",
   "metadata": {
    "colab": {
     "base_uri": "https://localhost:8080/",
     "height": 133,
     "referenced_widgets": [
      "c31ec805da864777bdd623c8a542d87e",
      "5ef3642654e6488f84e7c83edf03562b",
      "d591e0cea686447a8d38267e9ab240b2",
      "8d155e1333084008ba36706f3613b760",
      "e9ea9dba29ca40af83bb46b6dc06f4d8",
      "87b8dbb769e64e3491acc4003fb2d7de",
      "e20be2d222e54cddbcffd2fb86b6e850",
      "b8d906113baa4e1f91e59819e57a7acd",
      "d7dbd9548f5949ff99f142db8e3f36c4",
      "0ba9af61d9af4e1fba8fc975fec977d9",
      "6587ada69a5f456c874467b973e52eb5",
      "fc34732d363f4b648dbd14619cd6607c",
      "927fff680f9c4503bd9346b9176ca2f6",
      "b91e003cb3414bc58cc00cad464fad4c",
      "f050c4987fe248498a00e971305f0cc2",
      "9329a7ac2bb749e6bf11f56634e8ed50",
      "fed95a2b578145aebaff3c3173a305f9",
      "f61713640fd74080a09792d295a16dab",
      "92de6aba42034451ab1974b1b0d2f3c9",
      "ff6f24dd60c24846a25131d006a9bc7e",
      "d800ac7b6af24b7d81094b68c7741e1d",
      "29821270260347ce962f6e44459afe94"
     ]
    },
    "id": "aySsKiiK52BY",
    "outputId": "4718eea5-5383-481d-eb96-30c7f54ed4a7"
   },
   "outputs": [
    {
     "name": "stdout",
     "output_type": "stream",
     "text": [
      "Cargando archivo...\n"
     ]
    },
    {
     "data": {
      "application/vnd.jupyter.widget-view+json": {
       "model_id": "c31ec805da864777bdd623c8a542d87e",
       "version_major": 2,
       "version_minor": 0
      },
      "text/plain": [
       "0it [00:00, ?it/s]"
      ]
     },
     "metadata": {},
     "output_type": "display_data"
    },
    {
     "name": "stdout",
     "output_type": "stream",
     "text": [
      "Encontrado 220714 Word Vectors.\n"
     ]
    },
    {
     "data": {
      "application/vnd.jupyter.widget-view+json": {
       "model_id": "fc34732d363f4b648dbd14619cd6607c",
       "version_major": 2,
       "version_minor": 0
      },
      "text/plain": [
       "  0%|          | 0/28384 [00:00<?, ?it/s]"
      ]
     },
     "metadata": {},
     "output_type": "display_data"
    },
    {
     "name": "stdout",
     "output_type": "stream",
     "text": [
      "Convertidos: 17841 Tokens | Perdidos: 10543 Tokens\n"
     ]
    }
   ],
   "source": [
    "from utils import build_matrix_embeddings as bme, plot_model_performance, logits_to_tokens, report_to_df\n",
    "EMBED_DIM = 300\n",
    "\n",
    "embedding_file = \"./embeddings/word2vex_jose_sebastian_paul300.txt\"\n",
    "\n",
    "embedding_matrix = bme(embedding_file, len(word2index), EMBED_DIM, word2index)"
   ]
  },
  {
   "cell_type": "code",
   "execution_count": null,
   "id": "lb5iOEK-3EUI",
   "metadata": {
    "id": "lb5iOEK-3EUI"
   },
   "outputs": [],
   "source": [
    "from tf2crf import CRF as crf6\n",
    "from wrapper import ModelWithCRFLoss, ModelWithCRFLossDSCLoss\n",
    "from utils import build_matrix_embeddings as bme, plot_model_performance, logits_to_tokens, report_to_df\n",
    "from tensorflow.keras.layers import Concatenate, Lambda, Input, LSTM, Embedding, Dense, TimeDistributed, Dropout, Bidirectional, InputLayer, Activation, Flatten, Masking\n",
    "from tensorflow.keras.optimizers import Adam, schedules\n",
    "input = Input(shape=(MAX_LENGTH,))\n",
    "word_embedding_size = 300\n",
    "EMBED_DIM=300\n",
    "# Embedding Layer\n",
    "model = Embedding(input_dim=len(word2index),\n",
    "                weights=[embedding_matrix],\n",
    "                output_dim=word_embedding_size,\n",
    "                input_length=MAX_LENGTH,\n",
    "                mask_zero=False)(input)\n",
    "\n",
    "# BI-LSTM Layer\n",
    "model = Bidirectional(LSTM(units=50,\n",
    "                     return_sequences=True,\n",
    "                     dropout=0.5,\n",
    "                     recurrent_dropout=0.5))(model)\n",
    "model  = Dropout(0.5, name='dropout_lstm')(model)\n",
    "model  = Dense(units=EMBED_DIM * 2, activation='relu')(model)\n",
    "model  = Dense(units=len(tag2index), activation='relu')(model)\n",
    "\n",
    "model  = Masking(mask_value=0.,input_shape=(MAX_LENGTH, len(tag2index)))(model)\n",
    "\n",
    "\n",
    "crf = crf6(units=len(tag2index), name=\"ner_crf\")\n",
    "predictions = crf(model)\n",
    "\n",
    "base_model = Model(inputs=input, outputs=predictions)\n",
    "model = ModelWithCRFLoss(base_model, sparse_target=True)\n",
    "\n",
    "model.compile(optimizer='adam')\n",
    "#model.summary()"
   ]
  },
  {
   "cell_type": "code",
   "execution_count": null,
   "id": "dzhxtyjm3G5i",
   "metadata": {
    "colab": {
     "base_uri": "https://localhost:8080/"
    },
    "id": "dzhxtyjm3G5i",
    "outputId": "338e5a6e-57b5-455b-dde2-4abb378c09be"
   },
   "outputs": [
    {
     "name": "stdout",
     "output_type": "stream",
     "text": [
      "Epoch 1/50\n",
      "66/66 - 355s - loss: 138.5842 - accuracy: 0.7733 - val_loss_val: 22.9098 - val_val_accuracy: 0.9777 - 355s/epoch - 5s/step\n",
      "Epoch 2/50\n",
      "66/66 - 355s - loss: 18.6285 - accuracy: 0.9795 - val_loss_val: 15.3263 - val_val_accuracy: 0.9804 - 355s/epoch - 5s/step\n",
      "Epoch 3/50\n",
      "66/66 - 352s - loss: 13.7164 - accuracy: 0.9815 - val_loss_val: 13.0774 - val_val_accuracy: 0.9817 - 352s/epoch - 5s/step\n",
      "Epoch 4/50\n",
      "66/66 - 351s - loss: 11.5284 - accuracy: 0.9831 - val_loss_val: 11.7951 - val_val_accuracy: 0.9829 - 351s/epoch - 5s/step\n",
      "Epoch 5/50\n",
      "66/66 - 346s - loss: 10.0004 - accuracy: 0.9848 - val_loss_val: 10.8637 - val_val_accuracy: 0.9839 - 346s/epoch - 5s/step\n",
      "Epoch 6/50\n",
      "66/66 - 351s - loss: 8.8822 - accuracy: 0.9864 - val_loss_val: 10.0251 - val_val_accuracy: 0.9851 - 351s/epoch - 5s/step\n",
      "Epoch 7/50\n",
      "66/66 - 360s - loss: 7.9091 - accuracy: 0.9880 - val_loss_val: 9.5446 - val_val_accuracy: 0.9861 - 360s/epoch - 5s/step\n",
      "Epoch 8/50\n",
      "66/66 - 363s - loss: 6.9879 - accuracy: 0.9891 - val_loss_val: 9.0516 - val_val_accuracy: 0.9866 - 363s/epoch - 5s/step\n",
      "Epoch 9/50\n",
      "66/66 - 360s - loss: 6.1669 - accuracy: 0.9902 - val_loss_val: 8.8646 - val_val_accuracy: 0.9871 - 360s/epoch - 5s/step\n",
      "Epoch 10/50\n",
      "66/66 - 358s - loss: 5.6038 - accuracy: 0.9911 - val_loss_val: 8.6958 - val_val_accuracy: 0.9876 - 358s/epoch - 5s/step\n",
      "Epoch 11/50\n",
      "66/66 - 345s - loss: 5.1364 - accuracy: 0.9916 - val_loss_val: 8.4762 - val_val_accuracy: 0.9879 - 345s/epoch - 5s/step\n",
      "Epoch 12/50\n",
      "66/66 - 359s - loss: 4.8159 - accuracy: 0.9922 - val_loss_val: 8.3779 - val_val_accuracy: 0.9881 - 359s/epoch - 5s/step\n",
      "Epoch 13/50\n",
      "66/66 - 354s - loss: 4.5837 - accuracy: 0.9928 - val_loss_val: 8.1539 - val_val_accuracy: 0.9885 - 354s/epoch - 5s/step\n",
      "Epoch 14/50\n",
      "66/66 - 358s - loss: 4.2050 - accuracy: 0.9931 - val_loss_val: 7.9311 - val_val_accuracy: 0.9887 - 358s/epoch - 5s/step\n",
      "Epoch 15/50\n",
      "66/66 - 359s - loss: 3.8673 - accuracy: 0.9935 - val_loss_val: 7.9396 - val_val_accuracy: 0.9887 - 359s/epoch - 5s/step\n",
      "Epoch 16/50\n",
      "66/66 - 357s - loss: 3.6672 - accuracy: 0.9939 - val_loss_val: 7.8884 - val_val_accuracy: 0.9890 - 357s/epoch - 5s/step\n",
      "Epoch 17/50\n",
      "66/66 - 365s - loss: 3.4603 - accuracy: 0.9941 - val_loss_val: 7.9146 - val_val_accuracy: 0.9890 - 365s/epoch - 6s/step\n",
      "Epoch 18/50\n",
      "66/66 - 365s - loss: 3.2175 - accuracy: 0.9945 - val_loss_val: 7.9389 - val_val_accuracy: 0.9891 - 365s/epoch - 6s/step\n",
      "Epoch 19/50\n",
      "66/66 - 368s - loss: 3.0642 - accuracy: 0.9947 - val_loss_val: 7.7848 - val_val_accuracy: 0.9893 - 368s/epoch - 6s/step\n",
      "Epoch 20/50\n",
      "66/66 - 357s - loss: 2.8966 - accuracy: 0.9949 - val_loss_val: 7.9170 - val_val_accuracy: 0.9892 - 357s/epoch - 5s/step\n",
      "Epoch 21/50\n",
      "66/66 - 352s - loss: 2.8100 - accuracy: 0.9952 - val_loss_val: 8.0677 - val_val_accuracy: 0.9892 - 352s/epoch - 5s/step\n",
      "Epoch 22/50\n",
      "66/66 - 365s - loss: 2.6118 - accuracy: 0.9954 - val_loss_val: 7.7674 - val_val_accuracy: 0.9894 - 365s/epoch - 6s/step\n",
      "Epoch 23/50\n",
      "66/66 - 364s - loss: 2.4923 - accuracy: 0.9955 - val_loss_val: 7.8135 - val_val_accuracy: 0.9895 - 364s/epoch - 6s/step\n",
      "Epoch 24/50\n",
      "66/66 - 359s - loss: 2.3550 - accuracy: 0.9958 - val_loss_val: 7.8059 - val_val_accuracy: 0.9894 - 359s/epoch - 5s/step\n",
      "Epoch 25/50\n",
      "66/66 - 356s - loss: 2.2522 - accuracy: 0.9960 - val_loss_val: 7.9502 - val_val_accuracy: 0.9896 - 356s/epoch - 5s/step\n",
      "Epoch 26/50\n",
      "66/66 - 341s - loss: 2.1899 - accuracy: 0.9960 - val_loss_val: 7.8907 - val_val_accuracy: 0.9897 - 341s/epoch - 5s/step\n",
      "Epoch 27/50\n",
      "66/66 - 340s - loss: 2.1848 - accuracy: 0.9962 - val_loss_val: 7.9396 - val_val_accuracy: 0.9898 - 340s/epoch - 5s/step\n",
      "Epoch 28/50\n",
      "66/66 - 351s - loss: 2.0024 - accuracy: 0.9963 - val_loss_val: 8.1899 - val_val_accuracy: 0.9895 - 351s/epoch - 5s/step\n",
      "Epoch 29/50\n",
      "66/66 - 352s - loss: 1.8924 - accuracy: 0.9964 - val_loss_val: 8.0070 - val_val_accuracy: 0.9897 - 352s/epoch - 5s/step\n",
      "Epoch 30/50\n",
      "66/66 - 341s - loss: 1.8247 - accuracy: 0.9966 - val_loss_val: 8.0034 - val_val_accuracy: 0.9899 - 341s/epoch - 5s/step\n",
      "Epoch 31/50\n",
      "66/66 - 348s - loss: 1.7333 - accuracy: 0.9968 - val_loss_val: 8.2234 - val_val_accuracy: 0.9899 - 348s/epoch - 5s/step\n",
      "Epoch 32/50\n",
      "66/66 - 350s - loss: 1.6926 - accuracy: 0.9969 - val_loss_val: 7.9689 - val_val_accuracy: 0.9897 - 350s/epoch - 5s/step\n",
      "Epoch 33/50\n",
      "66/66 - 350s - loss: 1.6201 - accuracy: 0.9969 - val_loss_val: 8.3361 - val_val_accuracy: 0.9897 - 350s/epoch - 5s/step\n",
      "Epoch 34/50\n",
      "66/66 - 349s - loss: 1.6219 - accuracy: 0.9971 - val_loss_val: 8.4865 - val_val_accuracy: 0.9898 - 349s/epoch - 5s/step\n",
      "Epoch 35/50\n",
      "66/66 - 363s - loss: 1.5135 - accuracy: 0.9971 - val_loss_val: 8.1671 - val_val_accuracy: 0.9897 - 363s/epoch - 6s/step\n",
      "Epoch 36/50\n",
      "66/66 - 375s - loss: 1.4627 - accuracy: 0.9972 - val_loss_val: 8.4596 - val_val_accuracy: 0.9898 - 375s/epoch - 6s/step\n",
      "Epoch 37/50\n",
      "66/66 - 371s - loss: 1.4254 - accuracy: 0.9973 - val_loss_val: 8.4426 - val_val_accuracy: 0.9898 - 371s/epoch - 6s/step\n",
      "Epoch 38/50\n",
      "66/66 - 348s - loss: 1.3900 - accuracy: 0.9974 - val_loss_val: 8.6085 - val_val_accuracy: 0.9899 - 348s/epoch - 5s/step\n",
      "Epoch 39/50\n",
      "66/66 - 361s - loss: 1.3245 - accuracy: 0.9975 - val_loss_val: 8.4777 - val_val_accuracy: 0.9899 - 361s/epoch - 5s/step\n",
      "Epoch 40/50\n",
      "66/66 - 358s - loss: 1.2955 - accuracy: 0.9976 - val_loss_val: 8.6735 - val_val_accuracy: 0.9897 - 358s/epoch - 5s/step\n",
      "Epoch 41/50\n",
      "66/66 - 359s - loss: 1.2515 - accuracy: 0.9976 - val_loss_val: 8.3597 - val_val_accuracy: 0.9899 - 359s/epoch - 5s/step\n",
      "Epoch 42/50\n",
      "66/66 - 356s - loss: 1.2003 - accuracy: 0.9977 - val_loss_val: 8.7156 - val_val_accuracy: 0.9898 - 356s/epoch - 5s/step\n",
      "Epoch 43/50\n",
      "66/66 - 347s - loss: 1.2048 - accuracy: 0.9977 - val_loss_val: 8.8053 - val_val_accuracy: 0.9897 - 347s/epoch - 5s/step\n",
      "Epoch 44/50\n",
      "66/66 - 351s - loss: 1.1458 - accuracy: 0.9978 - val_loss_val: 8.7232 - val_val_accuracy: 0.9901 - 351s/epoch - 5s/step\n",
      "Epoch 45/50\n",
      "66/66 - 346s - loss: 1.1381 - accuracy: 0.9979 - val_loss_val: 9.0766 - val_val_accuracy: 0.9898 - 346s/epoch - 5s/step\n",
      "Epoch 46/50\n",
      "66/66 - 346s - loss: 1.1422 - accuracy: 0.9979 - val_loss_val: 8.9728 - val_val_accuracy: 0.9899 - 346s/epoch - 5s/step\n",
      "Epoch 47/50\n",
      "66/66 - 342s - loss: 1.1108 - accuracy: 0.9979 - val_loss_val: 8.8382 - val_val_accuracy: 0.9900 - 342s/epoch - 5s/step\n",
      "Epoch 48/50\n",
      "66/66 - 348s - loss: 1.1158 - accuracy: 0.9980 - val_loss_val: 9.2883 - val_val_accuracy: 0.9900 - 348s/epoch - 5s/step\n",
      "Epoch 49/50\n",
      "66/66 - 344s - loss: 1.0626 - accuracy: 0.9979 - val_loss_val: 8.6780 - val_val_accuracy: 0.9900 - 344s/epoch - 5s/step\n",
      "Epoch 50/50\n",
      "66/66 - 342s - loss: 1.0889 - accuracy: 0.9981 - val_loss_val: 8.8009 - val_val_accuracy: 0.9899 - 342s/epoch - 5s/step\n"
     ]
    }
   ],
   "source": [
    "history= model.fit(train_sentences_X, cat_train_tags_y,\n",
    "                       validation_data=(eval_sentences_X, cat_eval_tags_y),\n",
    "                       batch_size=128,\n",
    "                       epochs=50,\n",
    "                       verbose=2)"
   ]
  },
  {
   "cell_type": "code",
   "execution_count": null,
   "id": "QHHPAVd73Kmj",
   "metadata": {
    "colab": {
     "base_uri": "https://localhost:8080/"
    },
    "id": "QHHPAVd73Kmj",
    "outputId": "f2d615cb-435d-4486-9439-a87475880105"
   },
   "outputs": [
    {
     "name": "stdout",
     "output_type": "stream",
     "text": [
      "48/48 [==============================] - 15s 275ms/step\n"
     ]
    }
   ],
   "source": [
    "y_pred= model.predict(test_sentences_X)"
   ]
  },
  {
   "cell_type": "code",
   "execution_count": null,
   "id": "KgDRcfE13PGU",
   "metadata": {
    "colab": {
     "base_uri": "https://localhost:8080/"
    },
    "id": "KgDRcfE13PGU",
    "outputId": "dde0c224-6911-4eff-9d3e-9e7740e2c1c3"
   },
   "outputs": [
    {
     "name": "stdout",
     "output_type": "stream",
     "text": [
      "{2: 'B-MISC', 3: 'I-ORG', 4: 'B-PER', 5: 'I-PER', 6: 'I-LOC', 7: 'B-LOC', 8: 'I-MISC', 9: 'B-ORG', 10: 'O', 0: '-PAD-', 1: '-OOV-'}\n",
      "['O', 'O', 'O', 'O', 'O', 'B-ORG', 'I-ORG', 'I-ORG', 'I-ORG', 'O', 'O', 'O', 'O', 'O', 'B-ORG', 'I-ORG', 'O', 'O', 'B-ORG', 'I-ORG', 'O', 'O', 'O', 'O', 'O', 'O', 'O', 'O', 'O', 'O', 'O', 'O', 'O', 'O', 'O', 'O', 'O', 'O', 'O', 'O', 'O', 'O', 'O', 'O', 'O', '-PAD-', '-PAD-', '-PAD-', '-PAD-', '-PAD-', '-PAD-', '-PAD-', '-PAD-', '-PAD-', '-PAD-', '-PAD-', '-PAD-', '-PAD-', '-PAD-', '-PAD-', '-PAD-', '-PAD-', '-PAD-', '-PAD-', '-PAD-', '-PAD-', '-PAD-', '-PAD-', '-PAD-', '-PAD-', '-PAD-', '-PAD-', '-PAD-', '-PAD-', '-PAD-', '-PAD-', '-PAD-', '-PAD-', '-PAD-', '-PAD-', '-PAD-', '-PAD-', '-PAD-', '-PAD-', '-PAD-', '-PAD-', '-PAD-', '-PAD-', '-PAD-', '-PAD-', '-PAD-', '-PAD-', '-PAD-', '-PAD-', '-PAD-', '-PAD-', '-PAD-', '-PAD-', '-PAD-', '-PAD-', '-PAD-', '-PAD-', '-PAD-', '-PAD-', '-PAD-', '-PAD-', '-PAD-', '-PAD-', '-PAD-', '-PAD-', '-PAD-', '-PAD-', '-PAD-', '-PAD-', '-PAD-', '-PAD-', '-PAD-', '-PAD-', '-PAD-', '-PAD-', '-PAD-', '-PAD-', '-PAD-', '-PAD-', '-PAD-', '-PAD-', '-PAD-', '-PAD-', '-PAD-', '-PAD-', '-PAD-', '-PAD-', '-PAD-', '-PAD-', '-PAD-', '-PAD-', '-PAD-', '-PAD-', '-PAD-', '-PAD-', '-PAD-', '-PAD-', '-PAD-', '-PAD-', '-PAD-', '-PAD-', '-PAD-', '-PAD-', '-PAD-', '-PAD-', '-PAD-', '-PAD-', '-PAD-', '-PAD-', '-PAD-', '-PAD-', '-PAD-', '-PAD-', '-PAD-', '-PAD-', '-PAD-', '-PAD-', '-PAD-', '-PAD-', '-PAD-', '-PAD-', '-PAD-', '-PAD-', '-PAD-', '-PAD-', '-PAD-', '-PAD-', '-PAD-', '-PAD-', '-PAD-', '-PAD-', '-PAD-', '-PAD-', '-PAD-', '-PAD-', '-PAD-', '-PAD-', '-PAD-', '-PAD-', '-PAD-', '-PAD-', '-PAD-', '-PAD-', '-PAD-', '-PAD-', '-PAD-', '-PAD-', '-PAD-', '-PAD-', '-PAD-', '-PAD-', '-PAD-', '-PAD-', '-PAD-', '-PAD-', '-PAD-', '-PAD-']\n"
     ]
    }
   ],
   "source": [
    "from utils import build_matrix_embeddings as bme, plot_model_performance, logits_to_tokens, report_to_df\n",
    "index2tag = {i: t for t, i in tag2index.items()}\n",
    "print(index2tag)\n",
    "y1_pred = logits_to_tokens(y_pred, index2tag)\n",
    "print(y1_pred[10])"
   ]
  },
  {
   "cell_type": "code",
   "execution_count": null,
   "id": "lx4IJq7g3R8d",
   "metadata": {
    "colab": {
     "base_uri": "https://localhost:8080/"
    },
    "id": "lx4IJq7g3R8d",
    "outputId": "e151a28b-95cf-4529-ec2f-76cc50563611"
   },
   "outputs": [
    {
     "name": "stdout",
     "output_type": "stream",
     "text": [
      "{2: 'B-MISC', 3: 'I-ORG', 4: 'B-PER', 5: 'I-PER', 6: 'I-LOC', 7: 'B-LOC', 8: 'I-MISC', 9: 'B-ORG', 10: 'O', 0: '-PAD-', 1: '-OOV-'}\n",
      "['O', 'O', 'O', 'O', 'O', 'B-ORG', 'I-ORG', 'I-ORG', 'I-ORG', 'O', 'O', 'O', 'O', 'O', 'B-ORG', 'I-ORG', 'O', 'O', 'B-ORG', 'I-ORG', 'O', 'O', 'O', 'O', 'O', 'O', 'O', 'O', 'O', 'O', 'O', 'O', 'O', 'O', 'O', 'O', 'O', 'O', 'O', 'O', 'O', 'O', 'O', 'O', 'O', '-PAD-', '-PAD-', '-PAD-', '-PAD-', '-PAD-', '-PAD-', '-PAD-', '-PAD-', '-PAD-', '-PAD-', '-PAD-', '-PAD-', '-PAD-', '-PAD-', '-PAD-', '-PAD-', '-PAD-', '-PAD-', '-PAD-', '-PAD-', '-PAD-', '-PAD-', '-PAD-', '-PAD-', '-PAD-', '-PAD-', '-PAD-', '-PAD-', '-PAD-', '-PAD-', '-PAD-', '-PAD-', '-PAD-', '-PAD-', '-PAD-', '-PAD-', '-PAD-', '-PAD-', '-PAD-', '-PAD-', '-PAD-', '-PAD-', '-PAD-', '-PAD-', '-PAD-', '-PAD-', '-PAD-', '-PAD-', '-PAD-', '-PAD-', '-PAD-', '-PAD-', '-PAD-', '-PAD-', '-PAD-', '-PAD-', '-PAD-', '-PAD-', '-PAD-', '-PAD-', '-PAD-', '-PAD-', '-PAD-', '-PAD-', '-PAD-', '-PAD-', '-PAD-', '-PAD-', '-PAD-', '-PAD-', '-PAD-', '-PAD-', '-PAD-', '-PAD-', '-PAD-', '-PAD-', '-PAD-', '-PAD-', '-PAD-', '-PAD-', '-PAD-', '-PAD-', '-PAD-', '-PAD-', '-PAD-', '-PAD-', '-PAD-', '-PAD-', '-PAD-', '-PAD-', '-PAD-', '-PAD-', '-PAD-', '-PAD-', '-PAD-', '-PAD-', '-PAD-', '-PAD-', '-PAD-', '-PAD-', '-PAD-', '-PAD-', '-PAD-', '-PAD-', '-PAD-', '-PAD-', '-PAD-', '-PAD-', '-PAD-', '-PAD-', '-PAD-', '-PAD-', '-PAD-', '-PAD-', '-PAD-', '-PAD-', '-PAD-', '-PAD-', '-PAD-', '-PAD-', '-PAD-', '-PAD-', '-PAD-', '-PAD-', '-PAD-', '-PAD-', '-PAD-', '-PAD-', '-PAD-', '-PAD-', '-PAD-', '-PAD-', '-PAD-', '-PAD-', '-PAD-', '-PAD-', '-PAD-', '-PAD-', '-PAD-', '-PAD-', '-PAD-', '-PAD-', '-PAD-', '-PAD-', '-PAD-', '-PAD-', '-PAD-', '-PAD-', '-PAD-', '-PAD-', '-PAD-', '-PAD-', '-PAD-', '-PAD-', '-PAD-', '-PAD-', '-PAD-']\n"
     ]
    }
   ],
   "source": [
    "from utils import build_matrix_embeddings as bme, plot_model_performance, logits_to_tokens, report_to_df\n",
    "index2tag = {i: t for t, i in tag2index.items()}\n",
    "print(index2tag)\n",
    "y1_true = logits_to_tokens(test_tags_y, index2tag)\n",
    "print(y1_true[10])"
   ]
  },
  {
   "cell_type": "code",
   "execution_count": null,
   "id": "Gi-xCOcY3Uec",
   "metadata": {
    "colab": {
     "base_uri": "https://localhost:8080/"
    },
    "id": "Gi-xCOcY3Uec",
    "outputId": "9171ec44-1e41-4191-a196-e0fa7774eec0"
   },
   "outputs": [
    {
     "name": "stderr",
     "output_type": "stream",
     "text": [
      "/usr/local/lib/python3.10/dist-packages/seqeval/metrics/sequence_labeling.py:171: UserWarning: -PAD- seems not to be NE tag.\n",
      "  warnings.warn('{} seems not to be NE tag.'.format(chunk))\n"
     ]
    },
    {
     "name": "stdout",
     "output_type": "stream",
     "text": [
      "precision: 71.0%\n",
      "   recall: 65.9%\n",
      " accuracy: 99.1%\n",
      " F1-score: 68.3%\n"
     ]
    }
   ],
   "source": [
    "from seqeval.metrics import classification_report as seqclarep\n",
    "from seqeval.metrics import precision_score, recall_score, f1_score, accuracy_score\n",
    "print(\"precision: {:.1%}\".format(precision_score(y1_true, y1_pred)))\n",
    "print(\"   recall: {:.1%}\".format(recall_score(y1_true,    y1_pred)))\n",
    "print(\" accuracy: {:.1%}\".format(accuracy_score(y1_true,  y1_pred)))\n",
    "print(\" F1-score: {:.1%}\".format(f1_score(y1_true,        y1_pred)))"
   ]
  },
  {
   "cell_type": "code",
   "execution_count": null,
   "id": "zIUHI8rE3W_J",
   "metadata": {
    "id": "zIUHI8rE3W_J"
   },
   "outputs": [],
   "source": [
    "import pandas as pd\n",
    "li1 = sum(y1_true, [])\n",
    "li2 = sum(y1_pred, [])\n",
    "\n",
    "results = pd.DataFrame(columns=['Expected', 'Predicted'])\n",
    "\n",
    "results['Expected'] = li1\n",
    "results['Predicted'] = li2"
   ]
  },
  {
   "cell_type": "code",
   "execution_count": null,
   "id": "JlTYbmT23b0d",
   "metadata": {
    "colab": {
     "base_uri": "https://localhost:8080/"
    },
    "id": "JlTYbmT23b0d",
    "outputId": "fb545130-d743-4993-ce39-45446f0d9058"
   },
   "outputs": [
    {
     "name": "stdout",
     "output_type": "stream",
     "text": [
      "  Class Name precision recall f1-score support\n",
      "0      -PAD-      1.00   1.00     1.00  254901\n",
      "1      B-LOC      0.80   0.71     0.75    1084\n",
      "2     B-MISC      0.48   0.39     0.43     339\n",
      "3      B-ORG      0.77   0.76     0.76    1400\n",
      "4      B-PER      0.82   0.69     0.75     735\n",
      "5      I-LOC      0.76   0.53     0.63     325\n",
      "6     I-MISC      0.53   0.37     0.44     557\n",
      "7      I-ORG      0.76   0.67     0.72    1104\n",
      "8      I-PER      0.88   0.80     0.84     634\n",
      "9          O      0.97   0.99     0.98   45355\n"
     ]
    }
   ],
   "source": [
    "from sklearn.metrics import classification_report as eskclarep\n",
    "report = eskclarep(results['Expected'], results['Predicted'])\n",
    "#print('\\nclassification_report:\\n', report)\n",
    "\n",
    "print(report_to_df(report))"
   ]
  },
  {
   "cell_type": "code",
   "execution_count": null,
   "id": "qsQWV6II3ehY",
   "metadata": {
    "colab": {
     "base_uri": "https://localhost:8080/"
    },
    "id": "qsQWV6II3ehY",
    "outputId": "4b9dd98a-9eb4-410a-f10f-0bc103ace5b3"
   },
   "outputs": [
    {
     "name": "stdout",
     "output_type": "stream",
     "text": [
      "[['James', 'Rodriguez', 'es', 'el', 'jugador', 'colombiano', 'más', 'importante', 'con', 'Radamel', 'Falcao.'], ['Jugadores', 'de', 'la', 'selección', 'Colombia', 'que', 'juegan', 'en', 'el', 'Reino', 'Unido']]\n"
     ]
    }
   ],
   "source": [
    "test_samples1 = [\n",
    "    \"James Rodriguez es el jugador colombiano más importante con Radamel Falcao.\".split(),\n",
    "    \" Jugadores de la selección Colombia que juegan en el Reino Unido\".split()\n",
    "]\n",
    "#print(max(test_samples))\n",
    "print(test_samples1)"
   ]
  },
  {
   "cell_type": "code",
   "execution_count": null,
   "id": "bVW42yvN3hKJ",
   "metadata": {
    "colab": {
     "base_uri": "https://localhost:8080/"
    },
    "id": "bVW42yvN3hKJ",
    "outputId": "2a92d5dd-7588-4f63-b3b0-09784a72feff"
   },
   "outputs": [
    {
     "name": "stdout",
     "output_type": "stream",
     "text": [
      "[['La', 'federación', 'Nacional', 'de', 'cafeteros', 'de', 'Colombia', 'es', 'dirigida', 'por', 'Horacio', 'Sánchez'], ['y', 'se', 'ubica', 'en', 'las', 'ciudades', 'de', 'Cali', 'y', 'Medellín', 'con', 'el', 'instituto', 'colombiano', 'del', 'café']]\n"
     ]
    }
   ],
   "source": [
    "test_samples = [\n",
    "    \"La federación Nacional de cafeteros de Colombia es dirigida por Horacio Sánchez\".split(),\n",
    "    \" y se ubica en las ciudades de  Cali y Medellín con el instituto colombiano del café \".split()\n",
    "]\n",
    "#print(max(test_samples))\n",
    "print(test_samples)"
   ]
  },
  {
   "cell_type": "code",
   "execution_count": null,
   "id": "00DeEjw53jvg",
   "metadata": {
    "colab": {
     "base_uri": "https://localhost:8080/"
    },
    "id": "00DeEjw53jvg",
    "outputId": "6f81ecc8-e9bc-48b8-f6bd-c49ec0f595c0"
   },
   "outputs": [
    {
     "name": "stdout",
     "output_type": "stream",
     "text": [
      "[[15647 10984 25616  4563 21475  4563  7648 13511 25321  3404     1 10531\n",
      "      0     0     0     0     0     0     0     0     0     0     0     0\n",
      "      0     0     0     0     0     0     0     0     0     0     0     0\n",
      "      0     0     0     0     0     0     0     0     0     0     0     0\n",
      "      0     0     0     0     0     0     0     0     0     0     0     0\n",
      "      0     0     0     0     0     0     0     0     0     0     0     0\n",
      "      0     0     0     0     0     0     0     0     0     0     0     0\n",
      "      0     0     0     0     0     0     0     0     0     0     0     0\n",
      "      0     0     0     0     0     0     0     0     0     0     0     0\n",
      "      0     0     0     0     0     0     0     0     0     0     0     0\n",
      "      0     0     0     0     0     0     0     0     0     0     0     0\n",
      "      0     0     0     0     0     0     0     0     0     0     0     0\n",
      "      0     0     0     0     0     0     0     0     0     0     0     0\n",
      "      0     0     0     0     0     0     0     0     0     0     0     0\n",
      "      0     0     0     0     0     0     0     0     0     0     0     0\n",
      "      0     0     0     0     0     0     0     0     0     0     0     0\n",
      "      0     0     0     0     0     0     0     0     0     0]\n",
      " [ 8678 14613 27069 25872 21525 16640  4563 18136  8678     1 26853 19273\n",
      "   3360 22575 18712 21902     0     0     0     0     0     0     0     0\n",
      "      0     0     0     0     0     0     0     0     0     0     0     0\n",
      "      0     0     0     0     0     0     0     0     0     0     0     0\n",
      "      0     0     0     0     0     0     0     0     0     0     0     0\n",
      "      0     0     0     0     0     0     0     0     0     0     0     0\n",
      "      0     0     0     0     0     0     0     0     0     0     0     0\n",
      "      0     0     0     0     0     0     0     0     0     0     0     0\n",
      "      0     0     0     0     0     0     0     0     0     0     0     0\n",
      "      0     0     0     0     0     0     0     0     0     0     0     0\n",
      "      0     0     0     0     0     0     0     0     0     0     0     0\n",
      "      0     0     0     0     0     0     0     0     0     0     0     0\n",
      "      0     0     0     0     0     0     0     0     0     0     0     0\n",
      "      0     0     0     0     0     0     0     0     0     0     0     0\n",
      "      0     0     0     0     0     0     0     0     0     0     0     0\n",
      "      0     0     0     0     0     0     0     0     0     0     0     0\n",
      "      0     0     0     0     0     0     0     0     0     0]]\n",
      "(2, 202)\n"
     ]
    }
   ],
   "source": [
    "test_samples_X = []\n",
    "for s in test_samples:\n",
    "    s_int = []\n",
    "    for w in s:\n",
    "        try:\n",
    "            s_int.append(word2index[w.lower()])\n",
    "        except KeyError:\n",
    "            s_int.append(word2index['-OOV-'])\n",
    "    test_samples_X.append(s_int)\n",
    "\n",
    "test_samples_X = pad_sequences(test_samples_X, maxlen=MAX_LENGTH, padding='post')\n",
    "print(test_samples_X)\n",
    "print(test_samples_X.shape)"
   ]
  },
  {
   "cell_type": "code",
   "execution_count": null,
   "id": "eWJQVBP23mZB",
   "metadata": {
    "colab": {
     "base_uri": "https://localhost:8080/"
    },
    "id": "eWJQVBP23mZB",
    "outputId": "83e5202c-9127-4ccc-9546-05032d14e38b"
   },
   "outputs": [
    {
     "name": "stdout",
     "output_type": "stream",
     "text": [
      "1/1 [==============================] - 0s 195ms/step\n",
      "[[10  9  3  3  3  3  3 10 10 10  0  0  0  0  0  0  0  0  0  0  0  0  0  0\n",
      "   0  0  0  0  0  0  0  0  0  0  0  0  0  0  0  0  0  0  0  0  0  0  0  0\n",
      "   0  0  0  0  0  0  0  0  0  0  0  0  0  0  0  0  0  0  0  0  0  0  0  0\n",
      "   0  0  0  0  0  0  0  0  0  0  0  0  0  0  0  0  0  0  0  0  0  0  0  0\n",
      "   0  0  0  0  0  0  0  0  0  0  0  0  0  0  0  0  0  0  0  0  0  0  0  0\n",
      "   0  0  0  0  0  0  0  0  0  0  0  0  0  0  0  0  0  0  0  0  0  0  0  0\n",
      "   0  0  0  0  0  0  0  0  0  0  0  0  0  0  0  0  0  0  0  0  0  0  0  0\n",
      "   0  0  0  0  0  0  0  0  0  0  0  0  0  0  0  0  0  0  0  0  0  0  0  0\n",
      "   0  0  0  0  0  0  0  0  0  0]\n",
      " [10 10 10 10 10 10 10  7 10 10 10 10 10 10 10  0  0  0  0  0  0  0  0  0\n",
      "   0  0  0  0  0  0  0  0  0  0  0  0  0  0  0  0  0  0  0  0  0  0  0  0\n",
      "   0  0  0  0  0  0  0  0  0  0  0  0  0  0  0  0  0  0  0  0  0  0  0  0\n",
      "   0  0  0  0  0  0  0  0  0  0  0  0  0  0  0  0  0  0  0  0  0  0  0  0\n",
      "   0  0  0  0  0  0  0  0  0  0  0  0  0  0  0  0  0  0  0  0  0  0  0  0\n",
      "   0  0  0  0  0  0  0  0  0  0  0  0  0  0  0  0  0  0  0  0  0  0  0  0\n",
      "   0  0  0  0  0  0  0  0  0  0  0  0  0  0  0  0  0  0  0  0  0  0  0  0\n",
      "   0  0  0  0  0  0  0  0  0  0  0  0  0  0  0  0  0  0  0  0  0  0  0  0\n",
      "   0  0  0  0  0  0  0  0  0  0]] (2, 202)\n"
     ]
    }
   ],
   "source": [
    "predictions = model.predict(test_samples_X)\n",
    "print(predictions, predictions.shape)"
   ]
  },
  {
   "cell_type": "code",
   "execution_count": null,
   "id": "OERdYzvh3o17",
   "metadata": {
    "colab": {
     "base_uri": "https://localhost:8080/"
    },
    "id": "OERdYzvh3o17",
    "outputId": "247fb168-701c-4247-ef7d-c8fdd3a0e553"
   },
   "outputs": [
    {
     "name": "stdout",
     "output_type": "stream",
     "text": [
      "[['O', 'B-ORG', 'I-ORG', 'I-ORG', 'I-ORG', 'I-ORG', 'I-ORG', 'O', 'O', 'O', '-PAD-', '-PAD-', '-PAD-', '-PAD-', '-PAD-', '-PAD-', '-PAD-', '-PAD-', '-PAD-', '-PAD-', '-PAD-', '-PAD-', '-PAD-', '-PAD-', '-PAD-', '-PAD-', '-PAD-', '-PAD-', '-PAD-', '-PAD-', '-PAD-', '-PAD-', '-PAD-', '-PAD-', '-PAD-', '-PAD-', '-PAD-', '-PAD-', '-PAD-', '-PAD-', '-PAD-', '-PAD-', '-PAD-', '-PAD-', '-PAD-', '-PAD-', '-PAD-', '-PAD-', '-PAD-', '-PAD-', '-PAD-', '-PAD-', '-PAD-', '-PAD-', '-PAD-', '-PAD-', '-PAD-', '-PAD-', '-PAD-', '-PAD-', '-PAD-', '-PAD-', '-PAD-', '-PAD-', '-PAD-', '-PAD-', '-PAD-', '-PAD-', '-PAD-', '-PAD-', '-PAD-', '-PAD-', '-PAD-', '-PAD-', '-PAD-', '-PAD-', '-PAD-', '-PAD-', '-PAD-', '-PAD-', '-PAD-', '-PAD-', '-PAD-', '-PAD-', '-PAD-', '-PAD-', '-PAD-', '-PAD-', '-PAD-', '-PAD-', '-PAD-', '-PAD-', '-PAD-', '-PAD-', '-PAD-', '-PAD-', '-PAD-', '-PAD-', '-PAD-', '-PAD-', '-PAD-', '-PAD-', '-PAD-', '-PAD-', '-PAD-', '-PAD-', '-PAD-', '-PAD-', '-PAD-', '-PAD-', '-PAD-', '-PAD-', '-PAD-', '-PAD-', '-PAD-', '-PAD-', '-PAD-', '-PAD-', '-PAD-', '-PAD-', '-PAD-', '-PAD-', '-PAD-', '-PAD-', '-PAD-', '-PAD-', '-PAD-', '-PAD-', '-PAD-', '-PAD-', '-PAD-', '-PAD-', '-PAD-', '-PAD-', '-PAD-', '-PAD-', '-PAD-', '-PAD-', '-PAD-', '-PAD-', '-PAD-', '-PAD-', '-PAD-', '-PAD-', '-PAD-', '-PAD-', '-PAD-', '-PAD-', '-PAD-', '-PAD-', '-PAD-', '-PAD-', '-PAD-', '-PAD-', '-PAD-', '-PAD-', '-PAD-', '-PAD-', '-PAD-', '-PAD-', '-PAD-', '-PAD-', '-PAD-', '-PAD-', '-PAD-', '-PAD-', '-PAD-', '-PAD-', '-PAD-', '-PAD-', '-PAD-', '-PAD-', '-PAD-', '-PAD-', '-PAD-', '-PAD-', '-PAD-', '-PAD-', '-PAD-', '-PAD-', '-PAD-', '-PAD-', '-PAD-', '-PAD-', '-PAD-', '-PAD-', '-PAD-', '-PAD-', '-PAD-', '-PAD-', '-PAD-', '-PAD-', '-PAD-', '-PAD-', '-PAD-', '-PAD-', '-PAD-', '-PAD-', '-PAD-', '-PAD-', '-PAD-', '-PAD-'], ['O', 'O', 'O', 'O', 'O', 'O', 'O', 'B-LOC', 'O', 'O', 'O', 'O', 'O', 'O', 'O', '-PAD-', '-PAD-', '-PAD-', '-PAD-', '-PAD-', '-PAD-', '-PAD-', '-PAD-', '-PAD-', '-PAD-', '-PAD-', '-PAD-', '-PAD-', '-PAD-', '-PAD-', '-PAD-', '-PAD-', '-PAD-', '-PAD-', '-PAD-', '-PAD-', '-PAD-', '-PAD-', '-PAD-', '-PAD-', '-PAD-', '-PAD-', '-PAD-', '-PAD-', '-PAD-', '-PAD-', '-PAD-', '-PAD-', '-PAD-', '-PAD-', '-PAD-', '-PAD-', '-PAD-', '-PAD-', '-PAD-', '-PAD-', '-PAD-', '-PAD-', '-PAD-', '-PAD-', '-PAD-', '-PAD-', '-PAD-', '-PAD-', '-PAD-', '-PAD-', '-PAD-', '-PAD-', '-PAD-', '-PAD-', '-PAD-', '-PAD-', '-PAD-', '-PAD-', '-PAD-', '-PAD-', '-PAD-', '-PAD-', '-PAD-', '-PAD-', '-PAD-', '-PAD-', '-PAD-', '-PAD-', '-PAD-', '-PAD-', '-PAD-', '-PAD-', '-PAD-', '-PAD-', '-PAD-', '-PAD-', '-PAD-', '-PAD-', '-PAD-', '-PAD-', '-PAD-', '-PAD-', '-PAD-', '-PAD-', '-PAD-', '-PAD-', '-PAD-', '-PAD-', '-PAD-', '-PAD-', '-PAD-', '-PAD-', '-PAD-', '-PAD-', '-PAD-', '-PAD-', '-PAD-', '-PAD-', '-PAD-', '-PAD-', '-PAD-', '-PAD-', '-PAD-', '-PAD-', '-PAD-', '-PAD-', '-PAD-', '-PAD-', '-PAD-', '-PAD-', '-PAD-', '-PAD-', '-PAD-', '-PAD-', '-PAD-', '-PAD-', '-PAD-', '-PAD-', '-PAD-', '-PAD-', '-PAD-', '-PAD-', '-PAD-', '-PAD-', '-PAD-', '-PAD-', '-PAD-', '-PAD-', '-PAD-', '-PAD-', '-PAD-', '-PAD-', '-PAD-', '-PAD-', '-PAD-', '-PAD-', '-PAD-', '-PAD-', '-PAD-', '-PAD-', '-PAD-', '-PAD-', '-PAD-', '-PAD-', '-PAD-', '-PAD-', '-PAD-', '-PAD-', '-PAD-', '-PAD-', '-PAD-', '-PAD-', '-PAD-', '-PAD-', '-PAD-', '-PAD-', '-PAD-', '-PAD-', '-PAD-', '-PAD-', '-PAD-', '-PAD-', '-PAD-', '-PAD-', '-PAD-', '-PAD-', '-PAD-', '-PAD-', '-PAD-', '-PAD-', '-PAD-', '-PAD-', '-PAD-', '-PAD-', '-PAD-', '-PAD-', '-PAD-', '-PAD-', '-PAD-', '-PAD-', '-PAD-', '-PAD-', '-PAD-', '-PAD-', '-PAD-', '-PAD-']]\n"
     ]
    }
   ],
   "source": [
    "#print(len(predictions))\n",
    "log_tokens = logits_to_tokens(predictions, {i: t for t, i in tag2index.items()})\n",
    "print(log_tokens)"
   ]
  },
  {
   "cell_type": "code",
   "execution_count": null,
   "id": "aB-DmenR3rIO",
   "metadata": {
    "colab": {
     "base_uri": "https://localhost:8080/"
    },
    "id": "aB-DmenR3rIO",
    "outputId": "1b4575d9-dbf4-400a-affd-37e6d5ad344c"
   },
   "outputs": [
    {
     "name": "stdout",
     "output_type": "stream",
     "text": [
      "Requirement already satisfied: tabulate in /usr/local/lib/python3.10/dist-packages (0.9.0)\n",
      "La    federación    Nacional    de     cafeteros    de     Colombia    es    dirigida    por    Horacio    Sánchez\n",
      "----  ------------  ----------  -----  -----------  -----  ----------  ----  ----------  -----  ---------  ---------\n",
      "O     B-ORG         I-ORG       I-ORG  I-ORG        I-ORG  I-ORG       O     O           O      -PAD-      -PAD-\n",
      "\n",
      "\n",
      "y    se    ubica    en    las    ciudades    de    Cali    y    Medellín    con    el    instituto    colombiano    del    café\n",
      "---  ----  -------  ----  -----  ----------  ----  ------  ---  ----------  -----  ----  -----------  ------------  -----  ------\n",
      "O    O     O        O     O      O           O     B-LOC   O    O           O      O     O            O             O      -PAD-\n"
     ]
    }
   ],
   "source": [
    "!pip install tabulate\n",
    "from tabulate import tabulate\n",
    "\n",
    "heads1 = test_samples[0]\n",
    "body1 = [log_tokens[0][:len(test_samples[0])]]\n",
    "\n",
    "heads2 = test_samples[1]\n",
    "body2 = [log_tokens[1][:len(test_samples[1])]]\n",
    "\n",
    "print(tabulate(body1, headers=heads1))\n",
    "\n",
    "print (\"\\n\")\n",
    "\n",
    "print(tabulate(body2, headers=heads2))\n",
    "\n",
    "\n",
    "## postagging Freeling 4.1\n",
    "\n",
    "## El      hombre   bajo     corre    bajo  el      puente   con  bajo  índice   de  adrenalina  .\n",
    "## DA0MS0  NCMS000  AQ0MS00  VMIP3S0  SP    DA0MS0  NCMS000  SP   SP    NCMS000  SP  NCFS000     Fp\n",
    "\n",
    "\n",
    "## pos tagger Stanford NLP\n",
    "\n",
    "## El      hombre   bajo     corre    bajo  el      puente   con    bajo   índice  de    adrenalina  .\n",
    "## da0000  nc0s000  aq0000   vmip000  sp000 da0000  nc0s000  sp000  aq0000 nc0s000 sp000 nc0s000     fp"
   ]
  },
  {
   "cell_type": "code",
   "execution_count": null,
   "id": "GEpF7S0Qf_jT",
   "metadata": {
    "id": "GEpF7S0Qf_jT"
   },
   "outputs": [],
   "source": []
  }
 ],
 "metadata": {
  "accelerator": "TPU",
  "colab": {
   "gpuType": "V28",
   "provenance": []
  },
  "kernelspec": {
   "display_name": "Python 3 (ipykernel)",
   "language": "python",
   "name": "python3"
  },
  "language_info": {
   "codemirror_mode": {
    "name": "ipython",
    "version": 3
   },
   "file_extension": ".py",
   "mimetype": "text/x-python",
   "name": "python",
   "nbconvert_exporter": "python",
   "pygments_lexer": "ipython3",
   "version": "3.10.12"
  },
  "widgets": {
   "application/vnd.jupyter.widget-state+json": {
    "0ba9af61d9af4e1fba8fc975fec977d9": {
     "model_module": "@jupyter-widgets/base",
     "model_module_version": "1.2.0",
     "model_name": "LayoutModel",
     "state": {
      "_model_module": "@jupyter-widgets/base",
      "_model_module_version": "1.2.0",
      "_model_name": "LayoutModel",
      "_view_count": null,
      "_view_module": "@jupyter-widgets/base",
      "_view_module_version": "1.2.0",
      "_view_name": "LayoutView",
      "align_content": null,
      "align_items": null,
      "align_self": null,
      "border": null,
      "bottom": null,
      "display": null,
      "flex": null,
      "flex_flow": null,
      "grid_area": null,
      "grid_auto_columns": null,
      "grid_auto_flow": null,
      "grid_auto_rows": null,
      "grid_column": null,
      "grid_gap": null,
      "grid_row": null,
      "grid_template_areas": null,
      "grid_template_columns": null,
      "grid_template_rows": null,
      "height": null,
      "justify_content": null,
      "justify_items": null,
      "left": null,
      "margin": null,
      "max_height": null,
      "max_width": null,
      "min_height": null,
      "min_width": null,
      "object_fit": null,
      "object_position": null,
      "order": null,
      "overflow": null,
      "overflow_x": null,
      "overflow_y": null,
      "padding": null,
      "right": null,
      "top": null,
      "visibility": null,
      "width": null
     }
    },
    "29821270260347ce962f6e44459afe94": {
     "model_module": "@jupyter-widgets/controls",
     "model_module_version": "1.5.0",
     "model_name": "DescriptionStyleModel",
     "state": {
      "_model_module": "@jupyter-widgets/controls",
      "_model_module_version": "1.5.0",
      "_model_name": "DescriptionStyleModel",
      "_view_count": null,
      "_view_module": "@jupyter-widgets/base",
      "_view_module_version": "1.2.0",
      "_view_name": "StyleView",
      "description_width": ""
     }
    },
    "5ef3642654e6488f84e7c83edf03562b": {
     "model_module": "@jupyter-widgets/controls",
     "model_module_version": "1.5.0",
     "model_name": "HTMLModel",
     "state": {
      "_dom_classes": [],
      "_model_module": "@jupyter-widgets/controls",
      "_model_module_version": "1.5.0",
      "_model_name": "HTMLModel",
      "_view_count": null,
      "_view_module": "@jupyter-widgets/controls",
      "_view_module_version": "1.5.0",
      "_view_name": "HTMLView",
      "description": "",
      "description_tooltip": null,
      "layout": "IPY_MODEL_87b8dbb769e64e3491acc4003fb2d7de",
      "placeholder": "​",
      "style": "IPY_MODEL_e20be2d222e54cddbcffd2fb86b6e850",
      "value": ""
     }
    },
    "6587ada69a5f456c874467b973e52eb5": {
     "model_module": "@jupyter-widgets/controls",
     "model_module_version": "1.5.0",
     "model_name": "DescriptionStyleModel",
     "state": {
      "_model_module": "@jupyter-widgets/controls",
      "_model_module_version": "1.5.0",
      "_model_name": "DescriptionStyleModel",
      "_view_count": null,
      "_view_module": "@jupyter-widgets/base",
      "_view_module_version": "1.2.0",
      "_view_name": "StyleView",
      "description_width": ""
     }
    },
    "87b8dbb769e64e3491acc4003fb2d7de": {
     "model_module": "@jupyter-widgets/base",
     "model_module_version": "1.2.0",
     "model_name": "LayoutModel",
     "state": {
      "_model_module": "@jupyter-widgets/base",
      "_model_module_version": "1.2.0",
      "_model_name": "LayoutModel",
      "_view_count": null,
      "_view_module": "@jupyter-widgets/base",
      "_view_module_version": "1.2.0",
      "_view_name": "LayoutView",
      "align_content": null,
      "align_items": null,
      "align_self": null,
      "border": null,
      "bottom": null,
      "display": null,
      "flex": null,
      "flex_flow": null,
      "grid_area": null,
      "grid_auto_columns": null,
      "grid_auto_flow": null,
      "grid_auto_rows": null,
      "grid_column": null,
      "grid_gap": null,
      "grid_row": null,
      "grid_template_areas": null,
      "grid_template_columns": null,
      "grid_template_rows": null,
      "height": null,
      "justify_content": null,
      "justify_items": null,
      "left": null,
      "margin": null,
      "max_height": null,
      "max_width": null,
      "min_height": null,
      "min_width": null,
      "object_fit": null,
      "object_position": null,
      "order": null,
      "overflow": null,
      "overflow_x": null,
      "overflow_y": null,
      "padding": null,
      "right": null,
      "top": null,
      "visibility": null,
      "width": null
     }
    },
    "8d155e1333084008ba36706f3613b760": {
     "model_module": "@jupyter-widgets/controls",
     "model_module_version": "1.5.0",
     "model_name": "HTMLModel",
     "state": {
      "_dom_classes": [],
      "_model_module": "@jupyter-widgets/controls",
      "_model_module_version": "1.5.0",
      "_model_name": "HTMLModel",
      "_view_count": null,
      "_view_module": "@jupyter-widgets/controls",
      "_view_module_version": "1.5.0",
      "_view_name": "HTMLView",
      "description": "",
      "description_tooltip": null,
      "layout": "IPY_MODEL_0ba9af61d9af4e1fba8fc975fec977d9",
      "placeholder": "​",
      "style": "IPY_MODEL_6587ada69a5f456c874467b973e52eb5",
      "value": " 220715/? [00:31&lt;00:00, 12768.20it/s]"
     }
    },
    "927fff680f9c4503bd9346b9176ca2f6": {
     "model_module": "@jupyter-widgets/controls",
     "model_module_version": "1.5.0",
     "model_name": "HTMLModel",
     "state": {
      "_dom_classes": [],
      "_model_module": "@jupyter-widgets/controls",
      "_model_module_version": "1.5.0",
      "_model_name": "HTMLModel",
      "_view_count": null,
      "_view_module": "@jupyter-widgets/controls",
      "_view_module_version": "1.5.0",
      "_view_name": "HTMLView",
      "description": "",
      "description_tooltip": null,
      "layout": "IPY_MODEL_fed95a2b578145aebaff3c3173a305f9",
      "placeholder": "​",
      "style": "IPY_MODEL_f61713640fd74080a09792d295a16dab",
      "value": "100%"
     }
    },
    "92de6aba42034451ab1974b1b0d2f3c9": {
     "model_module": "@jupyter-widgets/base",
     "model_module_version": "1.2.0",
     "model_name": "LayoutModel",
     "state": {
      "_model_module": "@jupyter-widgets/base",
      "_model_module_version": "1.2.0",
      "_model_name": "LayoutModel",
      "_view_count": null,
      "_view_module": "@jupyter-widgets/base",
      "_view_module_version": "1.2.0",
      "_view_name": "LayoutView",
      "align_content": null,
      "align_items": null,
      "align_self": null,
      "border": null,
      "bottom": null,
      "display": null,
      "flex": null,
      "flex_flow": null,
      "grid_area": null,
      "grid_auto_columns": null,
      "grid_auto_flow": null,
      "grid_auto_rows": null,
      "grid_column": null,
      "grid_gap": null,
      "grid_row": null,
      "grid_template_areas": null,
      "grid_template_columns": null,
      "grid_template_rows": null,
      "height": null,
      "justify_content": null,
      "justify_items": null,
      "left": null,
      "margin": null,
      "max_height": null,
      "max_width": null,
      "min_height": null,
      "min_width": null,
      "object_fit": null,
      "object_position": null,
      "order": null,
      "overflow": null,
      "overflow_x": null,
      "overflow_y": null,
      "padding": null,
      "right": null,
      "top": null,
      "visibility": null,
      "width": null
     }
    },
    "9329a7ac2bb749e6bf11f56634e8ed50": {
     "model_module": "@jupyter-widgets/base",
     "model_module_version": "1.2.0",
     "model_name": "LayoutModel",
     "state": {
      "_model_module": "@jupyter-widgets/base",
      "_model_module_version": "1.2.0",
      "_model_name": "LayoutModel",
      "_view_count": null,
      "_view_module": "@jupyter-widgets/base",
      "_view_module_version": "1.2.0",
      "_view_name": "LayoutView",
      "align_content": null,
      "align_items": null,
      "align_self": null,
      "border": null,
      "bottom": null,
      "display": null,
      "flex": null,
      "flex_flow": null,
      "grid_area": null,
      "grid_auto_columns": null,
      "grid_auto_flow": null,
      "grid_auto_rows": null,
      "grid_column": null,
      "grid_gap": null,
      "grid_row": null,
      "grid_template_areas": null,
      "grid_template_columns": null,
      "grid_template_rows": null,
      "height": null,
      "justify_content": null,
      "justify_items": null,
      "left": null,
      "margin": null,
      "max_height": null,
      "max_width": null,
      "min_height": null,
      "min_width": null,
      "object_fit": null,
      "object_position": null,
      "order": null,
      "overflow": null,
      "overflow_x": null,
      "overflow_y": null,
      "padding": null,
      "right": null,
      "top": null,
      "visibility": null,
      "width": null
     }
    },
    "b8d906113baa4e1f91e59819e57a7acd": {
     "model_module": "@jupyter-widgets/base",
     "model_module_version": "1.2.0",
     "model_name": "LayoutModel",
     "state": {
      "_model_module": "@jupyter-widgets/base",
      "_model_module_version": "1.2.0",
      "_model_name": "LayoutModel",
      "_view_count": null,
      "_view_module": "@jupyter-widgets/base",
      "_view_module_version": "1.2.0",
      "_view_name": "LayoutView",
      "align_content": null,
      "align_items": null,
      "align_self": null,
      "border": null,
      "bottom": null,
      "display": null,
      "flex": null,
      "flex_flow": null,
      "grid_area": null,
      "grid_auto_columns": null,
      "grid_auto_flow": null,
      "grid_auto_rows": null,
      "grid_column": null,
      "grid_gap": null,
      "grid_row": null,
      "grid_template_areas": null,
      "grid_template_columns": null,
      "grid_template_rows": null,
      "height": null,
      "justify_content": null,
      "justify_items": null,
      "left": null,
      "margin": null,
      "max_height": null,
      "max_width": null,
      "min_height": null,
      "min_width": null,
      "object_fit": null,
      "object_position": null,
      "order": null,
      "overflow": null,
      "overflow_x": null,
      "overflow_y": null,
      "padding": null,
      "right": null,
      "top": null,
      "visibility": null,
      "width": "20px"
     }
    },
    "b91e003cb3414bc58cc00cad464fad4c": {
     "model_module": "@jupyter-widgets/controls",
     "model_module_version": "1.5.0",
     "model_name": "FloatProgressModel",
     "state": {
      "_dom_classes": [],
      "_model_module": "@jupyter-widgets/controls",
      "_model_module_version": "1.5.0",
      "_model_name": "FloatProgressModel",
      "_view_count": null,
      "_view_module": "@jupyter-widgets/controls",
      "_view_module_version": "1.5.0",
      "_view_name": "ProgressView",
      "bar_style": "success",
      "description": "",
      "description_tooltip": null,
      "layout": "IPY_MODEL_92de6aba42034451ab1974b1b0d2f3c9",
      "max": 28384,
      "min": 0,
      "orientation": "horizontal",
      "style": "IPY_MODEL_ff6f24dd60c24846a25131d006a9bc7e",
      "value": 28384
     }
    },
    "c31ec805da864777bdd623c8a542d87e": {
     "model_module": "@jupyter-widgets/controls",
     "model_module_version": "1.5.0",
     "model_name": "HBoxModel",
     "state": {
      "_dom_classes": [],
      "_model_module": "@jupyter-widgets/controls",
      "_model_module_version": "1.5.0",
      "_model_name": "HBoxModel",
      "_view_count": null,
      "_view_module": "@jupyter-widgets/controls",
      "_view_module_version": "1.5.0",
      "_view_name": "HBoxView",
      "box_style": "",
      "children": [
       "IPY_MODEL_5ef3642654e6488f84e7c83edf03562b",
       "IPY_MODEL_d591e0cea686447a8d38267e9ab240b2",
       "IPY_MODEL_8d155e1333084008ba36706f3613b760"
      ],
      "layout": "IPY_MODEL_e9ea9dba29ca40af83bb46b6dc06f4d8"
     }
    },
    "d591e0cea686447a8d38267e9ab240b2": {
     "model_module": "@jupyter-widgets/controls",
     "model_module_version": "1.5.0",
     "model_name": "FloatProgressModel",
     "state": {
      "_dom_classes": [],
      "_model_module": "@jupyter-widgets/controls",
      "_model_module_version": "1.5.0",
      "_model_name": "FloatProgressModel",
      "_view_count": null,
      "_view_module": "@jupyter-widgets/controls",
      "_view_module_version": "1.5.0",
      "_view_name": "ProgressView",
      "bar_style": "success",
      "description": "",
      "description_tooltip": null,
      "layout": "IPY_MODEL_b8d906113baa4e1f91e59819e57a7acd",
      "max": 1,
      "min": 0,
      "orientation": "horizontal",
      "style": "IPY_MODEL_d7dbd9548f5949ff99f142db8e3f36c4",
      "value": 1
     }
    },
    "d7dbd9548f5949ff99f142db8e3f36c4": {
     "model_module": "@jupyter-widgets/controls",
     "model_module_version": "1.5.0",
     "model_name": "ProgressStyleModel",
     "state": {
      "_model_module": "@jupyter-widgets/controls",
      "_model_module_version": "1.5.0",
      "_model_name": "ProgressStyleModel",
      "_view_count": null,
      "_view_module": "@jupyter-widgets/base",
      "_view_module_version": "1.2.0",
      "_view_name": "StyleView",
      "bar_color": null,
      "description_width": ""
     }
    },
    "d800ac7b6af24b7d81094b68c7741e1d": {
     "model_module": "@jupyter-widgets/base",
     "model_module_version": "1.2.0",
     "model_name": "LayoutModel",
     "state": {
      "_model_module": "@jupyter-widgets/base",
      "_model_module_version": "1.2.0",
      "_model_name": "LayoutModel",
      "_view_count": null,
      "_view_module": "@jupyter-widgets/base",
      "_view_module_version": "1.2.0",
      "_view_name": "LayoutView",
      "align_content": null,
      "align_items": null,
      "align_self": null,
      "border": null,
      "bottom": null,
      "display": null,
      "flex": null,
      "flex_flow": null,
      "grid_area": null,
      "grid_auto_columns": null,
      "grid_auto_flow": null,
      "grid_auto_rows": null,
      "grid_column": null,
      "grid_gap": null,
      "grid_row": null,
      "grid_template_areas": null,
      "grid_template_columns": null,
      "grid_template_rows": null,
      "height": null,
      "justify_content": null,
      "justify_items": null,
      "left": null,
      "margin": null,
      "max_height": null,
      "max_width": null,
      "min_height": null,
      "min_width": null,
      "object_fit": null,
      "object_position": null,
      "order": null,
      "overflow": null,
      "overflow_x": null,
      "overflow_y": null,
      "padding": null,
      "right": null,
      "top": null,
      "visibility": null,
      "width": null
     }
    },
    "e20be2d222e54cddbcffd2fb86b6e850": {
     "model_module": "@jupyter-widgets/controls",
     "model_module_version": "1.5.0",
     "model_name": "DescriptionStyleModel",
     "state": {
      "_model_module": "@jupyter-widgets/controls",
      "_model_module_version": "1.5.0",
      "_model_name": "DescriptionStyleModel",
      "_view_count": null,
      "_view_module": "@jupyter-widgets/base",
      "_view_module_version": "1.2.0",
      "_view_name": "StyleView",
      "description_width": ""
     }
    },
    "e9ea9dba29ca40af83bb46b6dc06f4d8": {
     "model_module": "@jupyter-widgets/base",
     "model_module_version": "1.2.0",
     "model_name": "LayoutModel",
     "state": {
      "_model_module": "@jupyter-widgets/base",
      "_model_module_version": "1.2.0",
      "_model_name": "LayoutModel",
      "_view_count": null,
      "_view_module": "@jupyter-widgets/base",
      "_view_module_version": "1.2.0",
      "_view_name": "LayoutView",
      "align_content": null,
      "align_items": null,
      "align_self": null,
      "border": null,
      "bottom": null,
      "display": null,
      "flex": null,
      "flex_flow": null,
      "grid_area": null,
      "grid_auto_columns": null,
      "grid_auto_flow": null,
      "grid_auto_rows": null,
      "grid_column": null,
      "grid_gap": null,
      "grid_row": null,
      "grid_template_areas": null,
      "grid_template_columns": null,
      "grid_template_rows": null,
      "height": null,
      "justify_content": null,
      "justify_items": null,
      "left": null,
      "margin": null,
      "max_height": null,
      "max_width": null,
      "min_height": null,
      "min_width": null,
      "object_fit": null,
      "object_position": null,
      "order": null,
      "overflow": null,
      "overflow_x": null,
      "overflow_y": null,
      "padding": null,
      "right": null,
      "top": null,
      "visibility": null,
      "width": null
     }
    },
    "f050c4987fe248498a00e971305f0cc2": {
     "model_module": "@jupyter-widgets/controls",
     "model_module_version": "1.5.0",
     "model_name": "HTMLModel",
     "state": {
      "_dom_classes": [],
      "_model_module": "@jupyter-widgets/controls",
      "_model_module_version": "1.5.0",
      "_model_name": "HTMLModel",
      "_view_count": null,
      "_view_module": "@jupyter-widgets/controls",
      "_view_module_version": "1.5.0",
      "_view_name": "HTMLView",
      "description": "",
      "description_tooltip": null,
      "layout": "IPY_MODEL_d800ac7b6af24b7d81094b68c7741e1d",
      "placeholder": "​",
      "style": "IPY_MODEL_29821270260347ce962f6e44459afe94",
      "value": " 28384/28384 [00:00&lt;00:00, 103274.24it/s]"
     }
    },
    "f61713640fd74080a09792d295a16dab": {
     "model_module": "@jupyter-widgets/controls",
     "model_module_version": "1.5.0",
     "model_name": "DescriptionStyleModel",
     "state": {
      "_model_module": "@jupyter-widgets/controls",
      "_model_module_version": "1.5.0",
      "_model_name": "DescriptionStyleModel",
      "_view_count": null,
      "_view_module": "@jupyter-widgets/base",
      "_view_module_version": "1.2.0",
      "_view_name": "StyleView",
      "description_width": ""
     }
    },
    "fc34732d363f4b648dbd14619cd6607c": {
     "model_module": "@jupyter-widgets/controls",
     "model_module_version": "1.5.0",
     "model_name": "HBoxModel",
     "state": {
      "_dom_classes": [],
      "_model_module": "@jupyter-widgets/controls",
      "_model_module_version": "1.5.0",
      "_model_name": "HBoxModel",
      "_view_count": null,
      "_view_module": "@jupyter-widgets/controls",
      "_view_module_version": "1.5.0",
      "_view_name": "HBoxView",
      "box_style": "",
      "children": [
       "IPY_MODEL_927fff680f9c4503bd9346b9176ca2f6",
       "IPY_MODEL_b91e003cb3414bc58cc00cad464fad4c",
       "IPY_MODEL_f050c4987fe248498a00e971305f0cc2"
      ],
      "layout": "IPY_MODEL_9329a7ac2bb749e6bf11f56634e8ed50"
     }
    },
    "fed95a2b578145aebaff3c3173a305f9": {
     "model_module": "@jupyter-widgets/base",
     "model_module_version": "1.2.0",
     "model_name": "LayoutModel",
     "state": {
      "_model_module": "@jupyter-widgets/base",
      "_model_module_version": "1.2.0",
      "_model_name": "LayoutModel",
      "_view_count": null,
      "_view_module": "@jupyter-widgets/base",
      "_view_module_version": "1.2.0",
      "_view_name": "LayoutView",
      "align_content": null,
      "align_items": null,
      "align_self": null,
      "border": null,
      "bottom": null,
      "display": null,
      "flex": null,
      "flex_flow": null,
      "grid_area": null,
      "grid_auto_columns": null,
      "grid_auto_flow": null,
      "grid_auto_rows": null,
      "grid_column": null,
      "grid_gap": null,
      "grid_row": null,
      "grid_template_areas": null,
      "grid_template_columns": null,
      "grid_template_rows": null,
      "height": null,
      "justify_content": null,
      "justify_items": null,
      "left": null,
      "margin": null,
      "max_height": null,
      "max_width": null,
      "min_height": null,
      "min_width": null,
      "object_fit": null,
      "object_position": null,
      "order": null,
      "overflow": null,
      "overflow_x": null,
      "overflow_y": null,
      "padding": null,
      "right": null,
      "top": null,
      "visibility": null,
      "width": null
     }
    },
    "ff6f24dd60c24846a25131d006a9bc7e": {
     "model_module": "@jupyter-widgets/controls",
     "model_module_version": "1.5.0",
     "model_name": "ProgressStyleModel",
     "state": {
      "_model_module": "@jupyter-widgets/controls",
      "_model_module_version": "1.5.0",
      "_model_name": "ProgressStyleModel",
      "_view_count": null,
      "_view_module": "@jupyter-widgets/base",
      "_view_module_version": "1.2.0",
      "_view_name": "StyleView",
      "bar_color": null,
      "description_width": ""
     }
    }
   }
  }
 },
 "nbformat": 4,
 "nbformat_minor": 5
}
