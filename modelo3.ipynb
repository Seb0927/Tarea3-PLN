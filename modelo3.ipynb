{
  "cells": [
    {
      "cell_type": "markdown",
      "id": "b095802c-df2f-4e5f-8dc6-31c1bb771a2d",
      "metadata": {
        "id": "b095802c-df2f-4e5f-8dc6-31c1bb771a2d"
      },
      "source": [
        "# Modelo 3: LSTM(Bilstm) + CRF + embedding"
      ]
    },
    {
      "cell_type": "markdown",
      "id": "71a035bd-c690-4d9f-8ade-a0ec47203231",
      "metadata": {
        "id": "71a035bd-c690-4d9f-8ade-a0ec47203231"
      },
      "source": [
        "Realizado por:\n",
        "- Jose Luis Hincapie Bucheli (2125340)\n",
        "- Sebastián Idrobo Avirama (2122637)\n",
        "- Paul Rodrigo Rojas Guerrero (2127891)"
      ]
    },
    {
      "cell_type": "markdown",
      "id": "c5761cc7-32b8-436c-860e-a64277550e2a",
      "metadata": {
        "id": "c5761cc7-32b8-436c-860e-a64277550e2a"
      },
      "source": [
        "---"
      ]
    },
    {
      "cell_type": "markdown",
      "source": [
        "# Traer información desde Google Drive"
      ],
      "metadata": {
        "id": "8O2GWnojjdLN"
      },
      "id": "8O2GWnojjdLN"
    },
    {
      "cell_type": "markdown",
      "source": [
        "Si te encuentras usando Google Colab, probablemente necesites descomentar los siguientes bloques de código y modificar las rutas para que funcione con el tuyo:"
      ],
      "metadata": {
        "id": "zje8wRxEhyq7"
      },
      "id": "zje8wRxEhyq7"
    },
    {
      "cell_type": "code",
      "source": [
        "# Borrar esto\n",
        "from google.colab import drive\n",
        "drive.mount('/content/drive')"
      ],
      "metadata": {
        "id": "y9bJnezwjPMk",
        "colab": {
          "base_uri": "https://localhost:8080/"
        },
        "outputId": "5eed31d4-ab20-46b3-83d7-94f481cdaa7d"
      },
      "execution_count": 3,
      "outputs": [
        {
          "output_type": "stream",
          "name": "stdout",
          "text": [
            "Drive already mounted at /content/drive; to attempt to forcibly remount, call drive.mount(\"/content/drive\", force_remount=True).\n"
          ]
        }
      ],
      "id": "y9bJnezwjPMk"
    },
    {
      "cell_type": "code",
      "source": [
        "import sys\n",
        "import os\n",
        "\n",
        "sys.path.append('/content/drive/My Drive/Ingeniería de sistemas/Semestre 7/PLN/Taller 3 Personal/packages') # Poner Rutas de los paquetes aquí\n",
        "sys.path.append('/content/drive/My Drive/Ingeniería de sistemas/Semestre 7/PLN/Taller 3 Personal/embeddings') # Poner Rutas de los embeddings aquí\n",
        "\n",
        "path = '/content/drive/My Drive/Ingeniería de sistemas/Semestre 7/PLN/Taller 3 Personal/packages'\n",
        "\n",
        "# Se verifica que todo se encuentre funcionando correctamente\n",
        "files = os.listdir(path)\n",
        "print(files)"
      ],
      "metadata": {
        "id": "hf-D9e0gjvla",
        "colab": {
          "base_uri": "https://localhost:8080/"
        },
        "outputId": "98b15e88-6b13-43f6-bc79-9c15575e6db8"
      },
      "execution_count": 4,
      "outputs": [
        {
          "output_type": "stream",
          "name": "stdout",
          "text": [
            "['wrapper.py', 'tf2crf.py', 'utils.py', 'crfta.py', '__pycache__']\n"
          ]
        }
      ],
      "id": "hf-D9e0gjvla"
    },
    {
      "cell_type": "markdown",
      "source": [
        "---"
      ],
      "metadata": {
        "id": "zu0ih42kjMqg"
      },
      "id": "zu0ih42kjMqg"
    },
    {
      "cell_type": "markdown",
      "id": "7cce5783-8927-40fb-96dc-41dd984c901e",
      "metadata": {
        "id": "7cce5783-8927-40fb-96dc-41dd984c901e"
      },
      "source": [
        "# Instalación e importación de paquetes"
      ]
    },
    {
      "cell_type": "code",
      "execution_count": 5,
      "id": "f1f0d86e-f085-4dcd-8b1a-5df3b9f7ea21",
      "metadata": {
        "colab": {
          "base_uri": "https://localhost:8080/"
        },
        "id": "f1f0d86e-f085-4dcd-8b1a-5df3b9f7ea21",
        "outputId": "dee949b5-6455-4f14-ff07-7b759a562fcd"
      },
      "outputs": [
        {
          "output_type": "stream",
          "name": "stdout",
          "text": [
            "Collecting seqeval\n",
            "  Downloading seqeval-1.2.2.tar.gz (43 kB)\n",
            "\u001b[2K     \u001b[90m━━━━━━━━━━━━━━━━━━━━━━━━━━━━━━━━━━━━━━━━\u001b[0m \u001b[32m43.6/43.6 kB\u001b[0m \u001b[31m926.5 kB/s\u001b[0m eta \u001b[36m0:00:00\u001b[0m\n",
            "\u001b[?25h  Preparing metadata (setup.py) ... \u001b[?25l\u001b[?25hdone\n",
            "Requirement already satisfied: numpy>=1.14.0 in /usr/local/lib/python3.10/dist-packages (from seqeval) (1.25.2)\n",
            "Requirement already satisfied: scikit-learn>=0.21.3 in /usr/local/lib/python3.10/dist-packages (from seqeval) (1.2.2)\n",
            "Requirement already satisfied: scipy>=1.3.2 in /usr/local/lib/python3.10/dist-packages (from scikit-learn>=0.21.3->seqeval) (1.11.4)\n",
            "Requirement already satisfied: joblib>=1.1.1 in /usr/local/lib/python3.10/dist-packages (from scikit-learn>=0.21.3->seqeval) (1.4.0)\n",
            "Requirement already satisfied: threadpoolctl>=2.0.0 in /usr/local/lib/python3.10/dist-packages (from scikit-learn>=0.21.3->seqeval) (3.4.0)\n",
            "Building wheels for collected packages: seqeval\n",
            "  Building wheel for seqeval (setup.py) ... \u001b[?25l\u001b[?25hdone\n",
            "  Created wheel for seqeval: filename=seqeval-1.2.2-py3-none-any.whl size=16161 sha256=7c0fccdb2a32119333e42c1d0a3cfe3f40da40e052a07f0d50933d39e18638f9\n",
            "  Stored in directory: /root/.cache/pip/wheels/1a/67/4a/ad4082dd7dfc30f2abfe4d80a2ed5926a506eb8a972b4767fa\n",
            "Successfully built seqeval\n",
            "Installing collected packages: seqeval\n",
            "Successfully installed seqeval-1.2.2\n"
          ]
        }
      ],
      "source": [
        "try:\n",
        "    import seqeval\n",
        "except ModuleNotFoundError as err:\n",
        "    !pip install seqeval"
      ]
    },
    {
      "cell_type": "code",
      "execution_count": 6,
      "id": "dd66d0ac-8648-48ad-9e20-2ef24437fab3",
      "metadata": {
        "colab": {
          "base_uri": "https://localhost:8080/"
        },
        "id": "dd66d0ac-8648-48ad-9e20-2ef24437fab3",
        "outputId": "0aa80d85-6208-4557-8e4b-a256f39f1564"
      },
      "outputs": [
        {
          "output_type": "stream",
          "name": "stdout",
          "text": [
            "Collecting tensorflow-addons==.0.23.0\n",
            "  Downloading tensorflow_addons-0.23.0-cp310-cp310-manylinux_2_17_x86_64.manylinux2014_x86_64.whl (611 kB)\n",
            "\u001b[2K     \u001b[90m━━━━━━━━━━━━━━━━━━━━━━━━━━━━━━━━━━━━━━━━\u001b[0m \u001b[32m611.8/611.8 kB\u001b[0m \u001b[31m3.6 MB/s\u001b[0m eta \u001b[36m0:00:00\u001b[0m\n",
            "\u001b[?25hRequirement already satisfied: packaging in /usr/local/lib/python3.10/dist-packages (from tensorflow-addons==.0.23.0) (24.0)\n",
            "Collecting typeguard<3.0.0,>=2.7 (from tensorflow-addons==.0.23.0)\n",
            "  Downloading typeguard-2.13.3-py3-none-any.whl (17 kB)\n",
            "Installing collected packages: typeguard, tensorflow-addons\n",
            "Successfully installed tensorflow-addons-0.23.0 typeguard-2.13.3\n",
            "Requirement already satisfied: tensorflow==2.15.0 in /usr/local/lib/python3.10/dist-packages (2.15.0)\n",
            "Requirement already satisfied: absl-py>=1.0.0 in /usr/local/lib/python3.10/dist-packages (from tensorflow==2.15.0) (1.4.0)\n",
            "Requirement already satisfied: astunparse>=1.6.0 in /usr/local/lib/python3.10/dist-packages (from tensorflow==2.15.0) (1.6.3)\n",
            "Requirement already satisfied: flatbuffers>=23.5.26 in /usr/local/lib/python3.10/dist-packages (from tensorflow==2.15.0) (24.3.25)\n",
            "Requirement already satisfied: gast!=0.5.0,!=0.5.1,!=0.5.2,>=0.2.1 in /usr/local/lib/python3.10/dist-packages (from tensorflow==2.15.0) (0.5.4)\n",
            "Requirement already satisfied: google-pasta>=0.1.1 in /usr/local/lib/python3.10/dist-packages (from tensorflow==2.15.0) (0.2.0)\n",
            "Requirement already satisfied: h5py>=2.9.0 in /usr/local/lib/python3.10/dist-packages (from tensorflow==2.15.0) (3.11.0)\n",
            "Requirement already satisfied: libclang>=13.0.0 in /usr/local/lib/python3.10/dist-packages (from tensorflow==2.15.0) (18.1.1)\n",
            "Requirement already satisfied: ml-dtypes~=0.2.0 in /usr/local/lib/python3.10/dist-packages (from tensorflow==2.15.0) (0.2.0)\n",
            "Requirement already satisfied: numpy<2.0.0,>=1.23.5 in /usr/local/lib/python3.10/dist-packages (from tensorflow==2.15.0) (1.25.2)\n",
            "Requirement already satisfied: opt-einsum>=2.3.2 in /usr/local/lib/python3.10/dist-packages (from tensorflow==2.15.0) (3.3.0)\n",
            "Requirement already satisfied: packaging in /usr/local/lib/python3.10/dist-packages (from tensorflow==2.15.0) (24.0)\n",
            "Requirement already satisfied: protobuf!=4.21.0,!=4.21.1,!=4.21.2,!=4.21.3,!=4.21.4,!=4.21.5,<5.0.0dev,>=3.20.3 in /usr/local/lib/python3.10/dist-packages (from tensorflow==2.15.0) (3.20.3)\n",
            "Requirement already satisfied: setuptools in /usr/local/lib/python3.10/dist-packages (from tensorflow==2.15.0) (67.7.2)\n",
            "Requirement already satisfied: six>=1.12.0 in /usr/local/lib/python3.10/dist-packages (from tensorflow==2.15.0) (1.16.0)\n",
            "Requirement already satisfied: termcolor>=1.1.0 in /usr/local/lib/python3.10/dist-packages (from tensorflow==2.15.0) (2.4.0)\n",
            "Requirement already satisfied: typing-extensions>=3.6.6 in /usr/local/lib/python3.10/dist-packages (from tensorflow==2.15.0) (4.11.0)\n",
            "Requirement already satisfied: wrapt<1.15,>=1.11.0 in /usr/local/lib/python3.10/dist-packages (from tensorflow==2.15.0) (1.14.1)\n",
            "Requirement already satisfied: tensorflow-io-gcs-filesystem>=0.23.1 in /usr/local/lib/python3.10/dist-packages (from tensorflow==2.15.0) (0.36.0)\n",
            "Requirement already satisfied: grpcio<2.0,>=1.24.3 in /usr/local/lib/python3.10/dist-packages (from tensorflow==2.15.0) (1.62.2)\n",
            "Requirement already satisfied: tensorboard<2.16,>=2.15 in /usr/local/lib/python3.10/dist-packages (from tensorflow==2.15.0) (2.15.2)\n",
            "Requirement already satisfied: tensorflow-estimator<2.16,>=2.15.0 in /usr/local/lib/python3.10/dist-packages (from tensorflow==2.15.0) (2.15.0)\n",
            "Requirement already satisfied: keras<2.16,>=2.15.0 in /usr/local/lib/python3.10/dist-packages (from tensorflow==2.15.0) (2.15.0)\n",
            "Requirement already satisfied: wheel<1.0,>=0.23.0 in /usr/local/lib/python3.10/dist-packages (from astunparse>=1.6.0->tensorflow==2.15.0) (0.43.0)\n",
            "Requirement already satisfied: google-auth<3,>=1.6.3 in /usr/local/lib/python3.10/dist-packages (from tensorboard<2.16,>=2.15->tensorflow==2.15.0) (2.27.0)\n",
            "Requirement already satisfied: google-auth-oauthlib<2,>=0.5 in /usr/local/lib/python3.10/dist-packages (from tensorboard<2.16,>=2.15->tensorflow==2.15.0) (1.2.0)\n",
            "Requirement already satisfied: markdown>=2.6.8 in /usr/local/lib/python3.10/dist-packages (from tensorboard<2.16,>=2.15->tensorflow==2.15.0) (3.6)\n",
            "Requirement already satisfied: requests<3,>=2.21.0 in /usr/local/lib/python3.10/dist-packages (from tensorboard<2.16,>=2.15->tensorflow==2.15.0) (2.31.0)\n",
            "Requirement already satisfied: tensorboard-data-server<0.8.0,>=0.7.0 in /usr/local/lib/python3.10/dist-packages (from tensorboard<2.16,>=2.15->tensorflow==2.15.0) (0.7.2)\n",
            "Requirement already satisfied: werkzeug>=1.0.1 in /usr/local/lib/python3.10/dist-packages (from tensorboard<2.16,>=2.15->tensorflow==2.15.0) (3.0.2)\n",
            "Requirement already satisfied: cachetools<6.0,>=2.0.0 in /usr/local/lib/python3.10/dist-packages (from google-auth<3,>=1.6.3->tensorboard<2.16,>=2.15->tensorflow==2.15.0) (5.3.3)\n",
            "Requirement already satisfied: pyasn1-modules>=0.2.1 in /usr/local/lib/python3.10/dist-packages (from google-auth<3,>=1.6.3->tensorboard<2.16,>=2.15->tensorflow==2.15.0) (0.4.0)\n",
            "Requirement already satisfied: rsa<5,>=3.1.4 in /usr/local/lib/python3.10/dist-packages (from google-auth<3,>=1.6.3->tensorboard<2.16,>=2.15->tensorflow==2.15.0) (4.9)\n",
            "Requirement already satisfied: requests-oauthlib>=0.7.0 in /usr/local/lib/python3.10/dist-packages (from google-auth-oauthlib<2,>=0.5->tensorboard<2.16,>=2.15->tensorflow==2.15.0) (2.0.0)\n",
            "Requirement already satisfied: charset-normalizer<4,>=2 in /usr/local/lib/python3.10/dist-packages (from requests<3,>=2.21.0->tensorboard<2.16,>=2.15->tensorflow==2.15.0) (3.3.2)\n",
            "Requirement already satisfied: idna<4,>=2.5 in /usr/local/lib/python3.10/dist-packages (from requests<3,>=2.21.0->tensorboard<2.16,>=2.15->tensorflow==2.15.0) (3.7)\n",
            "Requirement already satisfied: urllib3<3,>=1.21.1 in /usr/local/lib/python3.10/dist-packages (from requests<3,>=2.21.0->tensorboard<2.16,>=2.15->tensorflow==2.15.0) (2.0.7)\n",
            "Requirement already satisfied: certifi>=2017.4.17 in /usr/local/lib/python3.10/dist-packages (from requests<3,>=2.21.0->tensorboard<2.16,>=2.15->tensorflow==2.15.0) (2024.2.2)\n",
            "Requirement already satisfied: MarkupSafe>=2.1.1 in /usr/local/lib/python3.10/dist-packages (from werkzeug>=1.0.1->tensorboard<2.16,>=2.15->tensorflow==2.15.0) (2.1.5)\n",
            "Requirement already satisfied: pyasn1<0.7.0,>=0.4.6 in /usr/local/lib/python3.10/dist-packages (from pyasn1-modules>=0.2.1->google-auth<3,>=1.6.3->tensorboard<2.16,>=2.15->tensorflow==2.15.0) (0.6.0)\n",
            "Requirement already satisfied: oauthlib>=3.0.0 in /usr/local/lib/python3.10/dist-packages (from requests-oauthlib>=0.7.0->google-auth-oauthlib<2,>=0.5->tensorboard<2.16,>=2.15->tensorflow==2.15.0) (3.2.2)\n",
            "Requirement already satisfied: keras==2.15.0 in /usr/local/lib/python3.10/dist-packages (2.15.0)\n",
            "Requirement already satisfied: nltk==3.8.1 in /usr/local/lib/python3.10/dist-packages (3.8.1)\n",
            "Requirement already satisfied: click in /usr/local/lib/python3.10/dist-packages (from nltk==3.8.1) (8.1.7)\n",
            "Requirement already satisfied: joblib in /usr/local/lib/python3.10/dist-packages (from nltk==3.8.1) (1.4.0)\n",
            "Requirement already satisfied: regex>=2021.8.3 in /usr/local/lib/python3.10/dist-packages (from nltk==3.8.1) (2024.4.16)\n",
            "Requirement already satisfied: tqdm in /usr/local/lib/python3.10/dist-packages (from nltk==3.8.1) (4.66.2)\n",
            "Requirement already satisfied: seqeval in /usr/local/lib/python3.10/dist-packages (1.2.2)\n",
            "Requirement already satisfied: numpy>=1.14.0 in /usr/local/lib/python3.10/dist-packages (from seqeval) (1.25.2)\n",
            "Requirement already satisfied: scikit-learn>=0.21.3 in /usr/local/lib/python3.10/dist-packages (from seqeval) (1.2.2)\n",
            "Requirement already satisfied: scipy>=1.3.2 in /usr/local/lib/python3.10/dist-packages (from scikit-learn>=0.21.3->seqeval) (1.11.4)\n",
            "Requirement already satisfied: joblib>=1.1.1 in /usr/local/lib/python3.10/dist-packages (from scikit-learn>=0.21.3->seqeval) (1.4.0)\n",
            "Requirement already satisfied: threadpoolctl>=2.0.0 in /usr/local/lib/python3.10/dist-packages (from scikit-learn>=0.21.3->seqeval) (3.4.0)\n",
            "Requirement already satisfied: gensim in /usr/local/lib/python3.10/dist-packages (4.3.2)\n",
            "Requirement already satisfied: numpy>=1.18.5 in /usr/local/lib/python3.10/dist-packages (from gensim) (1.25.2)\n",
            "Requirement already satisfied: scipy>=1.7.0 in /usr/local/lib/python3.10/dist-packages (from gensim) (1.11.4)\n",
            "Requirement already satisfied: smart-open>=1.8.1 in /usr/local/lib/python3.10/dist-packages (from gensim) (6.4.0)\n"
          ]
        }
      ],
      "source": [
        "!pip install tensorflow-addons==.0.23.0\n",
        "!pip install tensorflow==2.15.0\n",
        "!pip install keras==2.15.0\n",
        "!pip install nltk==3.8.1\n",
        "!pip install seqeval\n",
        "!pip install gensim"
      ]
    },
    {
      "cell_type": "code",
      "execution_count": 7,
      "id": "489dcebf-00a8-4a87-953c-100f8db5fc93",
      "metadata": {
        "id": "489dcebf-00a8-4a87-953c-100f8db5fc93"
      },
      "outputs": [],
      "source": [
        "import sys\n",
        "import os\n",
        "\n",
        "# Add the directory to the system path\n",
        "sys.path.append('/packages')"
      ]
    },
    {
      "cell_type": "code",
      "execution_count": 8,
      "id": "217f3668-0831-47ab-a93f-61f2fe940be7",
      "metadata": {
        "id": "217f3668-0831-47ab-a93f-61f2fe940be7"
      },
      "outputs": [],
      "source": [
        "import tensorflow as tf\n",
        "#matplotlib inline\n",
        "import matplotlib.pyplot as plt\n",
        "plt.style.use('ggplot')\n",
        "import os\n",
        "for dirname, _, filenames in os.walk('/kaggle/input'):\n",
        "    for filename in filenames:\n",
        "        print(os.path.join(dirname, filename))"
      ]
    },
    {
      "cell_type": "code",
      "execution_count": 9,
      "id": "1e4f53f7-79fb-4e9a-bb60-fe71a852f7b3",
      "metadata": {
        "colab": {
          "base_uri": "https://localhost:8080/"
        },
        "id": "1e4f53f7-79fb-4e9a-bb60-fe71a852f7b3",
        "outputId": "20a121ab-4b97-4e8c-92ec-6b9c9a4cb3b6"
      },
      "outputs": [
        {
          "output_type": "stream",
          "name": "stderr",
          "text": [
            "/usr/local/lib/python3.10/dist-packages/tensorflow_addons/utils/tfa_eol_msg.py:23: UserWarning: \n",
            "\n",
            "TensorFlow Addons (TFA) has ended development and introduction of new features.\n",
            "TFA has entered a minimal maintenance and release mode until a planned end of life in May 2024.\n",
            "Please modify downstream libraries to take dependencies from other repositories in our TensorFlow community (e.g. Keras, Keras-CV, and Keras-NLP). \n",
            "\n",
            "For more information see: https://github.com/tensorflow/addons/issues/2807 \n",
            "\n",
            "  warnings.warn(\n"
          ]
        }
      ],
      "source": [
        "import tensorflow as tf\n",
        "import matplotlib.pyplot as plt\n",
        "import numpy as np\n",
        "import pickle\n",
        "import pandas as pd\n",
        "from itertools import islice\n",
        "\n",
        "#from tabulate import tabulate\n",
        "from sklearn.metrics import confusion_matrix\n",
        "from sklearn.metrics import classification_report as eskclarep\n",
        "#from seqeval.metrics import precision_score, recall_score, f1_score, accuracy_score\n",
        "#from seqeval.metrics import classification_report as seqclarep\n",
        "from sklearn.preprocessing import LabelBinarizer\n",
        "from itertools import chain\n",
        "\n",
        "from tensorflow.keras.preprocessing.sequence import pad_sequences\n",
        "from tensorflow.keras.models import Model, Sequential\n",
        "from tensorflow.keras.layers import Concatenate, Lambda, Input, LSTM, Embedding, Dense, TimeDistributed, Dropout, Bidirectional, InputLayer, Activation, Flatten\n",
        "from tensorflow.keras.optimizers import Adam, schedules\n",
        "from crfta import CRF as crf4\n",
        "from utils import build_matrix_embeddings as bme, plot_model_performance, logits_to_tokens, report_to_df\n",
        "\n",
        "from tensorflow.keras.callbacks import ModelCheckpoint\n",
        "from tensorflow.keras.callbacks import TensorBoard\n",
        "\n",
        "from IPython.core.display import display, HTML\n",
        "\n",
        "import datetime, os\n",
        "import random\n",
        "import seqeval"
      ]
    },
    {
      "cell_type": "markdown",
      "id": "ad1f21a5-7698-4da0-8345-177febeeef5c",
      "metadata": {
        "id": "ad1f21a5-7698-4da0-8345-177febeeef5c"
      },
      "source": [
        "# Importación de dataset conll2002"
      ]
    },
    {
      "cell_type": "code",
      "execution_count": 10,
      "id": "2593432c-ffa7-4ca3-aa6a-ba804166c76e",
      "metadata": {
        "colab": {
          "base_uri": "https://localhost:8080/"
        },
        "id": "2593432c-ffa7-4ca3-aa6a-ba804166c76e",
        "outputId": "af3f8093-13e8-4eee-a200-f15cb0cad87e"
      },
      "outputs": [
        {
          "output_type": "stream",
          "name": "stderr",
          "text": [
            "[nltk_data] Downloading package conll2002 to /root/nltk_data...\n",
            "[nltk_data]   Unzipping corpora/conll2002.zip.\n"
          ]
        },
        {
          "output_type": "execute_result",
          "data": {
            "text/plain": [
              "['esp.testa', 'esp.testb', 'esp.train', 'ned.testa', 'ned.testb', 'ned.train']"
            ]
          },
          "metadata": {},
          "execution_count": 10
        }
      ],
      "source": [
        "import nltk\n",
        "nltk.download('conll2002')\n",
        "nltk.corpus.conll2002.fileids()"
      ]
    },
    {
      "cell_type": "code",
      "execution_count": 11,
      "id": "6283fecd-1aab-45b8-b7fc-651df2ab0995",
      "metadata": {
        "colab": {
          "base_uri": "https://localhost:8080/"
        },
        "id": "6283fecd-1aab-45b8-b7fc-651df2ab0995",
        "outputId": "7f24bc5c-6f08-4efe-b86c-3f9c69b6a178"
      },
      "outputs": [
        {
          "output_type": "stream",
          "name": "stdout",
          "text": [
            "8323 1238\n",
            "1517 202\n",
            "1915 141\n"
          ]
        }
      ],
      "source": [
        "train_sents = list(nltk.corpus.conll2002.iob_sents('esp.train'))\n",
        "test_sents = list(nltk.corpus.conll2002.iob_sents('esp.testb'))\n",
        "eval_sents = list(nltk.corpus.conll2002.iob_sents('esp.testa'))\n",
        "print(len(train_sents),len(max(train_sents,key=len)))\n",
        "print(len(test_sents),len(max(test_sents,key=len)))\n",
        "print(len(eval_sents),len(max(eval_sents,key=len)))"
      ]
    },
    {
      "cell_type": "code",
      "execution_count": 12,
      "id": "c011a8e4-ac09-4758-856e-f5c695dd90bc",
      "metadata": {
        "colab": {
          "base_uri": "https://localhost:8080/"
        },
        "id": "c011a8e4-ac09-4758-856e-f5c695dd90bc",
        "outputId": "5bdde9fb-1820-4c68-eebb-e8fb80810c5c"
      },
      "outputs": [
        {
          "output_type": "stream",
          "name": "stdout",
          "text": [
            "[('Melbourne', 'NP', 'B-LOC'), ('(', 'Fpa', 'O'), ('Australia', 'NP', 'B-LOC'), (')', 'Fpt', 'O'), (',', 'Fc', 'O'), ('25', 'Z', 'O'), ('may', 'NC', 'O'), ('(', 'Fpa', 'O'), ('EFE', 'NC', 'B-ORG'), (')', 'Fpt', 'O'), ('.', 'Fp', 'O')]\n"
          ]
        }
      ],
      "source": [
        "print(train_sents[0])"
      ]
    },
    {
      "cell_type": "markdown",
      "id": "af7e17f3-5d2c-4c13-b4a2-50ea681cf9ee",
      "metadata": {
        "id": "af7e17f3-5d2c-4c13-b4a2-50ea681cf9ee"
      },
      "source": [
        "# Parte 1: Preprocesamiento de los datos"
      ]
    },
    {
      "cell_type": "markdown",
      "id": "a60fc893-8440-4c03-ab84-9ee1029ff4d4",
      "metadata": {
        "id": "a60fc893-8440-4c03-ab84-9ee1029ff4d4"
      },
      "source": [
        "En esta parte, los datos que serán utilizados -conll2002- deben de ser procesados de tal manera que los tokens y labels sean separados y accedidos por medio de listas de índices y convertir las sentencias de representaciones textuales a secuencias de índices."
      ]
    },
    {
      "cell_type": "code",
      "execution_count": 13,
      "id": "8ac0656f-6133-4360-987e-d898a83a3b8f",
      "metadata": {
        "id": "8ac0656f-6133-4360-987e-d898a83a3b8f"
      },
      "outputs": [],
      "source": [
        "def sent2labels(sent):\n",
        "    return [label for token, postag, label in sent]\n",
        "\n",
        "def sent2tokens(sent):\n",
        "    return [token for token, postag, label in sent]"
      ]
    },
    {
      "cell_type": "code",
      "execution_count": 14,
      "id": "61f1b24f-bd70-46b9-b4d1-dc20f113cf0e",
      "metadata": {
        "id": "61f1b24f-bd70-46b9-b4d1-dc20f113cf0e"
      },
      "outputs": [],
      "source": [
        "X_train = [sent2tokens(s) for s in train_sents]\n",
        "y_train = [sent2labels(s) for s in train_sents]\n",
        "\n",
        "X_test = [sent2tokens(s) for s in test_sents]\n",
        "y_test = [sent2labels(s) for s in test_sents]\n",
        "\n",
        "X_eval = [sent2tokens(s) for s in eval_sents]\n",
        "y_eval = [sent2labels(s) for s in eval_sents]"
      ]
    },
    {
      "cell_type": "code",
      "execution_count": 15,
      "id": "2ecfceae-3ea8-45b7-ba19-15e03ed51411",
      "metadata": {
        "colab": {
          "base_uri": "https://localhost:8080/"
        },
        "id": "2ecfceae-3ea8-45b7-ba19-15e03ed51411",
        "outputId": "a5747ba0-33af-4a87-cd4d-dce47e125ac9"
      },
      "outputs": [
        {
          "output_type": "stream",
          "name": "stdout",
          "text": [
            "['El', 'Abogado', 'General', 'del', 'Estado', ',', 'Daryl', 'Williams', ',', 'subrayó', 'hoy', 'la', 'necesidad', 'de', 'tomar', 'medidas', 'para', 'proteger', 'al', 'sistema', 'judicial', 'australiano', 'frente', 'a', 'una', 'página', 'de', 'internet', 'que', 'imposibilita', 'el', 'cumplimiento', 'de', 'los', 'principios', 'básicos', 'de', 'la', 'Ley', '.']\n",
            "['O', 'B-PER', 'I-PER', 'I-PER', 'I-PER', 'O', 'B-PER', 'I-PER', 'O', 'O', 'O', 'O', 'O', 'O', 'O', 'O', 'O', 'O', 'O', 'O', 'O', 'O', 'O', 'O', 'O', 'O', 'O', 'O', 'O', 'O', 'O', 'O', 'O', 'O', 'O', 'O', 'O', 'O', 'B-MISC', 'O']\n"
          ]
        }
      ],
      "source": [
        "print(X_train[2])\n",
        "print(y_train[2])"
      ]
    },
    {
      "cell_type": "code",
      "execution_count": 16,
      "id": "860205da-836e-4f04-8763-170df4de032f",
      "metadata": {
        "colab": {
          "base_uri": "https://localhost:8080/"
        },
        "id": "860205da-836e-4f04-8763-170df4de032f",
        "outputId": "1400090c-5ae0-4808-bee1-53c37fe80f97"
      },
      "outputs": [
        {
          "output_type": "stream",
          "name": "stdout",
          "text": [
            "28384\n",
            "11\n",
            "{'O': 2, 'I-MISC': 3, 'I-PER': 4, 'B-ORG': 5, 'I-ORG': 6, 'B-PER': 7, 'I-LOC': 8, 'B-MISC': 9, 'B-LOC': 10, '-PAD-': 0, '-OOV-': 1}\n",
            "{'O', 'I-MISC', 'I-PER', 'B-ORG', 'I-ORG', 'B-PER', 'I-LOC', 'B-MISC', 'B-LOC'}\n"
          ]
        }
      ],
      "source": [
        "import numpy as np\n",
        "\n",
        "words, tagsss = set([]), set([])\n",
        "\n",
        "for s in (X_train + X_eval + X_test):\n",
        "    for w in s:\n",
        "        words.add(w.lower())\n",
        "\n",
        "for ts in (y_train + y_eval + y_test):\n",
        "    for t in ts:\n",
        "        tagsss.add(t)\n",
        "\n",
        "word2index = {w: i + 2 for i, w in enumerate(list(words))}\n",
        "word2index['-PAD-'] = 0  # The special value used for padding\n",
        "word2index['-OOV-'] = 1  # The special value used for OOVs\n",
        "\n",
        "tag2index = {t: i + 2 for i, t in enumerate(list(tagsss))}\n",
        "tag2index['-PAD-'] = 0  # The special value used to padding\n",
        "tag2index['-OOV-'] = 1  # The special value used to padding\n",
        "\n",
        "print (len(word2index))\n",
        "print (len(tag2index))\n",
        "print(tag2index)\n",
        "\n",
        "\n",
        "print(tagsss)"
      ]
    },
    {
      "cell_type": "code",
      "execution_count": 17,
      "id": "0691246a-ea07-4e07-a5a5-72f88a397c32",
      "metadata": {
        "id": "0691246a-ea07-4e07-a5a5-72f88a397c32"
      },
      "outputs": [],
      "source": [
        "train_sentences_X, eval_sentences_X, test_sentences_X, train_tags_y, eval_tags_y, test_tags_y = [], [], [], [], [], []\n",
        "\n",
        "for s in X_train:\n",
        "    s_int = []\n",
        "    for w in s:\n",
        "        try:\n",
        "            s_int.append(word2index[w.lower()])\n",
        "        except KeyError:\n",
        "            s_int.append(word2index['-OOV-'])\n",
        "\n",
        "    train_sentences_X.append(s_int)\n",
        "\n",
        "for s in X_eval:\n",
        "    s_int = []\n",
        "    for w in s:\n",
        "        try:\n",
        "            s_int.append(word2index[w.lower()])\n",
        "        except KeyError:\n",
        "            s_int.append(word2index['-OOV-'])\n",
        "\n",
        "    eval_sentences_X.append(s_int)\n",
        "\n",
        "for s in X_test:\n",
        "    s_int = []\n",
        "    for w in s:\n",
        "        try:\n",
        "            s_int.append(word2index[w.lower()])\n",
        "        except KeyError:\n",
        "            s_int.append(word2index['-OOV-'])\n",
        "\n",
        "    test_sentences_X.append(s_int)\n",
        "\n",
        "for s in y_train:\n",
        "    s_int = []\n",
        "    for w in s:\n",
        "        try:\n",
        "            s_int.append(tag2index[w])\n",
        "        except KeyError:\n",
        "            s_int.append(tag2index['-OOV-'])\n",
        "\n",
        "    train_tags_y.append(s_int)\n",
        "\n",
        "for s in y_eval:\n",
        "    s_int = []\n",
        "    for w in s:\n",
        "        try:\n",
        "            s_int.append(tag2index[w])\n",
        "        except KeyError:\n",
        "            s_int.append(tag2index['-OOV-'])\n",
        "\n",
        "    eval_tags_y.append(s_int)\n",
        "\n",
        "for s in y_test:\n",
        "    s_int = []\n",
        "    for w in s:\n",
        "        try:\n",
        "            s_int.append(tag2index[w])\n",
        "        except KeyError:\n",
        "            s_int.append(tag2index['-OOV-'])\n",
        "\n",
        "    test_tags_y.append(s_int)\n"
      ]
    },
    {
      "cell_type": "code",
      "execution_count": 18,
      "id": "dab839cb-b45a-4c41-860d-868d4f57180a",
      "metadata": {
        "colab": {
          "base_uri": "https://localhost:8080/"
        },
        "id": "dab839cb-b45a-4c41-860d-868d4f57180a",
        "outputId": "4e3a726f-854c-4f30-c711-67978e8b8bd3"
      },
      "outputs": [
        {
          "output_type": "stream",
          "name": "stdout",
          "text": [
            "Longitudes de las Matrices:\n",
            "8323\n",
            "1915\n",
            "1517\n",
            "8323\n",
            "1915\n",
            "1517\n",
            "\n",
            "Muestra de Datos presentes en las Matrices con las transformaciones:\n",
            "\n",
            "[15303, 23871, 7994, 21306, 12441, 21329, 1012, 23871, 22192, 21306, 16006]\n",
            "[27496, 1750, 23871, 1443, 21306, 12441, 4571, 1012, 23871, 9214, 21306, 16006]\n",
            "[17142, 19304, 12441, 4571, 1012, 23871, 9214, 21306, 16006]\n",
            "[10, 2, 10, 2, 2, 2, 2, 2, 5, 2, 2]\n",
            "[10, 8, 2, 10, 2, 2, 2, 2, 2, 5, 2, 2]\n",
            "[10, 8, 2, 2, 2, 2, 5, 2, 2]\n"
          ]
        }
      ],
      "source": [
        "print(\"Longitudes de las Matrices:\")\n",
        "print(len(train_sentences_X))\n",
        "print(len(eval_sentences_X))\n",
        "print(len( test_sentences_X))\n",
        "print(len(train_tags_y))\n",
        "print(len(eval_tags_y))\n",
        "print(len(test_tags_y))\n",
        "\n",
        "print(\"\\nMuestra de Datos presentes en las Matrices con las transformaciones:\\n\")\n",
        "\n",
        "\n",
        "print(train_sentences_X[0])\n",
        "print(eval_sentences_X[0])\n",
        "print(test_sentences_X[0])\n",
        "print(train_tags_y[0])\n",
        "print(eval_tags_y[0])\n",
        "print(test_tags_y[0])\n"
      ]
    },
    {
      "cell_type": "markdown",
      "id": "57d9daf3-60a9-45ca-8df4-533caf452818",
      "metadata": {
        "id": "57d9daf3-60a9-45ca-8df4-533caf452818"
      },
      "source": [
        "Una vez con estas variables, se debe de normalizar las matrices a partir de MAX_LENGTH, requiriendo de un array estático para servir como input de la RNN."
      ]
    },
    {
      "cell_type": "code",
      "execution_count": 19,
      "id": "7446a9f3-11e1-429f-82c8-7836b807ea19",
      "metadata": {
        "colab": {
          "base_uri": "https://localhost:8080/"
        },
        "id": "7446a9f3-11e1-429f-82c8-7836b807ea19",
        "outputId": "95e48a40-56e5-4b25-a8ac-ac353655ab4b"
      },
      "outputs": [
        {
          "output_type": "stream",
          "name": "stdout",
          "text": [
            "[15303 23871  7994 21306 12441 21329  1012 23871 22192 21306 16006     0\n",
            "     0     0     0     0     0     0     0     0     0     0     0     0\n",
            "     0     0     0     0     0     0     0     0     0     0     0     0\n",
            "     0     0     0     0     0     0     0     0     0     0     0     0\n",
            "     0     0     0     0     0     0     0     0     0     0     0     0\n",
            "     0     0     0     0     0     0     0     0     0     0     0     0\n",
            "     0     0     0     0     0     0     0     0     0     0     0     0\n",
            "     0     0     0     0     0     0     0     0     0     0     0     0\n",
            "     0     0     0     0     0     0     0     0     0     0     0     0\n",
            "     0     0     0     0     0     0     0     0     0     0     0     0\n",
            "     0     0     0     0     0     0     0     0     0     0     0     0\n",
            "     0     0     0     0     0     0     0     0     0     0     0     0\n",
            "     0     0     0     0     0     0     0     0     0     0     0     0\n",
            "     0     0     0     0     0     0     0     0     0     0     0     0\n",
            "     0     0     0     0     0     0     0     0     0     0     0     0\n",
            "     0     0     0     0     0     0     0     0     0     0     0     0\n",
            "     0     0     0     0     0     0     0     0     0     0]\n",
            "(8323, 202)\n",
            "[27496  1750 23871  1443 21306 12441  4571  1012 23871  9214 21306 16006\n",
            "     0     0     0     0     0     0     0     0     0     0     0     0\n",
            "     0     0     0     0     0     0     0     0     0     0     0     0\n",
            "     0     0     0     0     0     0     0     0     0     0     0     0\n",
            "     0     0     0     0     0     0     0     0     0     0     0     0\n",
            "     0     0     0     0     0     0     0     0     0     0     0     0\n",
            "     0     0     0     0     0     0     0     0     0     0     0     0\n",
            "     0     0     0     0     0     0     0     0     0     0     0     0\n",
            "     0     0     0     0     0     0     0     0     0     0     0     0\n",
            "     0     0     0     0     0     0     0     0     0     0     0     0\n",
            "     0     0     0     0     0     0     0     0     0     0     0     0\n",
            "     0     0     0     0     0     0     0     0     0     0     0     0\n",
            "     0     0     0     0     0     0     0     0     0     0     0     0\n",
            "     0     0     0     0     0     0     0     0     0     0     0     0\n",
            "     0     0     0     0     0     0     0     0     0     0     0     0\n",
            "     0     0     0     0     0     0     0     0     0     0     0     0\n",
            "     0     0     0     0     0     0     0     0     0     0]\n",
            "(1915, 202)\n",
            "[17142 19304 12441  4571  1012 23871  9214 21306 16006     0     0     0\n",
            "     0     0     0     0     0     0     0     0     0     0     0     0\n",
            "     0     0     0     0     0     0     0     0     0     0     0     0\n",
            "     0     0     0     0     0     0     0     0     0     0     0     0\n",
            "     0     0     0     0     0     0     0     0     0     0     0     0\n",
            "     0     0     0     0     0     0     0     0     0     0     0     0\n",
            "     0     0     0     0     0     0     0     0     0     0     0     0\n",
            "     0     0     0     0     0     0     0     0     0     0     0     0\n",
            "     0     0     0     0     0     0     0     0     0     0     0     0\n",
            "     0     0     0     0     0     0     0     0     0     0     0     0\n",
            "     0     0     0     0     0     0     0     0     0     0     0     0\n",
            "     0     0     0     0     0     0     0     0     0     0     0     0\n",
            "     0     0     0     0     0     0     0     0     0     0     0     0\n",
            "     0     0     0     0     0     0     0     0     0     0     0     0\n",
            "     0     0     0     0     0     0     0     0     0     0     0     0\n",
            "     0     0     0     0     0     0     0     0     0     0     0     0\n",
            "     0     0     0     0     0     0     0     0     0     0]\n",
            "(1517, 202)\n",
            "[10  2 10  2  2  2  2  2  5  2  2  0  0  0  0  0  0  0  0  0  0  0  0  0\n",
            "  0  0  0  0  0  0  0  0  0  0  0  0  0  0  0  0  0  0  0  0  0  0  0  0\n",
            "  0  0  0  0  0  0  0  0  0  0  0  0  0  0  0  0  0  0  0  0  0  0  0  0\n",
            "  0  0  0  0  0  0  0  0  0  0  0  0  0  0  0  0  0  0  0  0  0  0  0  0\n",
            "  0  0  0  0  0  0  0  0  0  0  0  0  0  0  0  0  0  0  0  0  0  0  0  0\n",
            "  0  0  0  0  0  0  0  0  0  0  0  0  0  0  0  0  0  0  0  0  0  0  0  0\n",
            "  0  0  0  0  0  0  0  0  0  0  0  0  0  0  0  0  0  0  0  0  0  0  0  0\n",
            "  0  0  0  0  0  0  0  0  0  0  0  0  0  0  0  0  0  0  0  0  0  0  0  0\n",
            "  0  0  0  0  0  0  0  0  0  0]\n",
            "(8323, 202)\n",
            "[10  8  2 10  2  2  2  2  2  5  2  2  0  0  0  0  0  0  0  0  0  0  0  0\n",
            "  0  0  0  0  0  0  0  0  0  0  0  0  0  0  0  0  0  0  0  0  0  0  0  0\n",
            "  0  0  0  0  0  0  0  0  0  0  0  0  0  0  0  0  0  0  0  0  0  0  0  0\n",
            "  0  0  0  0  0  0  0  0  0  0  0  0  0  0  0  0  0  0  0  0  0  0  0  0\n",
            "  0  0  0  0  0  0  0  0  0  0  0  0  0  0  0  0  0  0  0  0  0  0  0  0\n",
            "  0  0  0  0  0  0  0  0  0  0  0  0  0  0  0  0  0  0  0  0  0  0  0  0\n",
            "  0  0  0  0  0  0  0  0  0  0  0  0  0  0  0  0  0  0  0  0  0  0  0  0\n",
            "  0  0  0  0  0  0  0  0  0  0  0  0  0  0  0  0  0  0  0  0  0  0  0  0\n",
            "  0  0  0  0  0  0  0  0  0  0]\n",
            "(1915, 202)\n",
            "[10  8  2  2  2  2  5  2  2  0  0  0  0  0  0  0  0  0  0  0  0  0  0  0\n",
            "  0  0  0  0  0  0  0  0  0  0  0  0  0  0  0  0  0  0  0  0  0  0  0  0\n",
            "  0  0  0  0  0  0  0  0  0  0  0  0  0  0  0  0  0  0  0  0  0  0  0  0\n",
            "  0  0  0  0  0  0  0  0  0  0  0  0  0  0  0  0  0  0  0  0  0  0  0  0\n",
            "  0  0  0  0  0  0  0  0  0  0  0  0  0  0  0  0  0  0  0  0  0  0  0  0\n",
            "  0  0  0  0  0  0  0  0  0  0  0  0  0  0  0  0  0  0  0  0  0  0  0  0\n",
            "  0  0  0  0  0  0  0  0  0  0  0  0  0  0  0  0  0  0  0  0  0  0  0  0\n",
            "  0  0  0  0  0  0  0  0  0  0  0  0  0  0  0  0  0  0  0  0  0  0  0  0\n",
            "  0  0  0  0  0  0  0  0  0  0]\n",
            "(1517, 202)\n"
          ]
        }
      ],
      "source": [
        "\n",
        "MAX_LENGTH=202\n",
        "train_sentences_X = pad_sequences(train_sentences_X, maxlen=MAX_LENGTH, padding='post')\n",
        "eval_sentences_X = pad_sequences(eval_sentences_X, maxlen=MAX_LENGTH, padding='post')\n",
        "test_sentences_X = pad_sequences(test_sentences_X, maxlen=MAX_LENGTH, padding='post')\n",
        "train_tags_y = pad_sequences(train_tags_y, maxlen=MAX_LENGTH, padding='post')\n",
        "eval_tags_y = pad_sequences(eval_tags_y, maxlen=MAX_LENGTH, padding='post')\n",
        "test_tags_y = pad_sequences(test_tags_y, maxlen=MAX_LENGTH, padding='post')\n",
        "\n",
        "print(train_sentences_X[0])\n",
        "print(train_sentences_X.shape)\n",
        "print(eval_sentences_X[0])\n",
        "print(eval_sentences_X.shape)\n",
        "print(test_sentences_X[0])\n",
        "print(test_sentences_X.shape)\n",
        "print(train_tags_y[0])\n",
        "print(train_tags_y.shape)\n",
        "print(eval_tags_y[0])\n",
        "print(eval_tags_y.shape)\n",
        "print(test_tags_y[0])\n",
        "print(test_tags_y.shape)\n",
        "\n"
      ]
    },
    {
      "cell_type": "markdown",
      "id": "5027a94d-6339-4800-a3f9-8e8bc44bcc7d",
      "metadata": {
        "id": "5027a94d-6339-4800-a3f9-8e8bc44bcc7d"
      },
      "source": [
        "Y una vez normalizadas las matrices, se procede a representar las listas de indices de etiquetas a una representación one-hot para el procesamiento con el RNN"
      ]
    },
    {
      "cell_type": "code",
      "execution_count": 20,
      "id": "c977ae89-4d2d-4dd1-aa8f-c3c52aeff181",
      "metadata": {
        "id": "c977ae89-4d2d-4dd1-aa8f-c3c52aeff181"
      },
      "outputs": [],
      "source": [
        "def to_categoricals(sequences, categories):\n",
        "    cat_sequences = []\n",
        "    for s in sequences:\n",
        "        cats = []\n",
        "        for item in s:\n",
        "            cats.append(np.zeros(categories))\n",
        "            cats[-1][item] = 1.0\n",
        "        cat_sequences.append(cats)\n",
        "    return np.array(cat_sequences)"
      ]
    },
    {
      "cell_type": "code",
      "execution_count": 21,
      "id": "6dfee0ba-bf72-452b-ae8d-e5fa83b12d5a",
      "metadata": {
        "id": "6dfee0ba-bf72-452b-ae8d-e5fa83b12d5a"
      },
      "outputs": [],
      "source": [
        "def encode(data):\n",
        "    print('Shape of data (BEFORE encode): %s' % str(data.shape))\n",
        "    encoded = to_categorical(data)\n",
        "    print('Shape of data (AFTER  encode): %s\\n' % str(encoded.shape))\n",
        "    return encoded"
      ]
    },
    {
      "cell_type": "code",
      "execution_count": 22,
      "id": "7a47fc76-5784-4fc3-98bd-97f5db490c6f",
      "metadata": {
        "colab": {
          "base_uri": "https://localhost:8080/"
        },
        "id": "7a47fc76-5784-4fc3-98bd-97f5db490c6f",
        "outputId": "6566a348-cd8d-430f-f5b3-52bcba3fb6e1"
      },
      "outputs": [
        {
          "output_type": "stream",
          "name": "stdout",
          "text": [
            "[[0. 0. 1. ... 0. 0. 0.]\n",
            " [1. 0. 0. ... 0. 0. 0.]\n",
            " [1. 0. 0. ... 0. 0. 0.]\n",
            " ...\n",
            " [1. 0. 0. ... 0. 0. 0.]\n",
            " [1. 0. 0. ... 0. 0. 0.]\n",
            " [1. 0. 0. ... 0. 0. 0.]]\n",
            "8323\n",
            "(8323, 202, 11)\n",
            "1517\n"
          ]
        }
      ],
      "source": [
        "cat_train_tags_y = to_categoricals(train_tags_y, len(tag2index))\n",
        "cat_eval_tags_y  = to_categoricals(eval_tags_y, len(tag2index))\n",
        "cat_test_tags_y  = to_categoricals(test_tags_y, len(tag2index))\n",
        "\n",
        "print(cat_train_tags_y[1])\n",
        "print(len(cat_train_tags_y))\n",
        "print(cat_train_tags_y.shape)\n",
        "print(len(cat_test_tags_y))"
      ]
    },
    {
      "cell_type": "markdown",
      "id": "737b82c6-d695-4b08-96d0-f807840f3d75",
      "metadata": {
        "id": "737b82c6-d695-4b08-96d0-f807840f3d75"
      },
      "source": [
        "# Parte 2: Entrenamiento del modelo de red"
      ]
    },
    {
      "cell_type": "markdown",
      "id": "e118c9ab-42fa-4642-a807-6ae248e7a1a4",
      "metadata": {
        "id": "e118c9ab-42fa-4642-a807-6ae248e7a1a4"
      },
      "source": [
        "Se define la red neuronal para el trabajo de NER usando el modelo LSTM(Bilstm) + CRF + embedding, importando los módulos necesarios para el mismo y también parametrizando la RNN a entrenar.\n",
        "- Se trae el embedding con tamaño de 300.\n",
        "- Se genera el modelo LSTM(Bilstm) + CRF\n",
        "- Se genera una capa de masking para que ignore los valores de 0\n",
        "\n",
        "Una vez hecho esto, se procede a entrenar la red neuronal y a testear los resultados de la misma"
      ]
    },
    {
      "cell_type": "code",
      "source": [
        "from utils import build_matrix_embeddings as bme, plot_model_performance, logits_to_tokens, report_to_df\n",
        "EMBED_DIM = 300\n",
        "\n",
        "embedding_file = \"/content/drive/MyDrive/Ingeniería de sistemas/Semestre 7/PLN/Taller 3 Personal/embeddings/word2vec_jose_sebastian_paul300.txt\"\n",
        "\n",
        "embedding_matrix = bme(embedding_file, len(word2index), EMBED_DIM, word2index)\n"
      ],
      "metadata": {
        "id": "NmmeYyvMpzI-",
        "outputId": "1a2c8439-9db0-4015-86f2-b6e52841349c",
        "colab": {
          "base_uri": "https://localhost:8080/",
          "height": 123,
          "referenced_widgets": [
            "14df6579bf674dc5a2b0bbd290e14e09",
            "97777241d105493faafdfc1c37ab1a66",
            "feca26fe9d3d40dcab57046396d0953b",
            "5a6edf4309db430f918902f0b3f12b78",
            "4d61fba8bc89472488ecca0007fad225",
            "d1fd0b63c9e4446ca5738381fd7c0272",
            "3a78b4101133445b8a8d3ece1546f148",
            "4b38a34c62d14f9c9e740392cfd032c3",
            "5f5b1fdf75784778bd7a8ecaeac98d3f",
            "fb79da5166574b6dba344b11e749a182",
            "bd28524ab7d7493e97b56d673ccf1bb3",
            "b1670974141e4dbc82ad79afb51bf6ca",
            "a90f83e4ecc54d4da1d2e62be350a59f",
            "d2553091c7e24da59aeec982690cfed9",
            "146af39703bc464fb49d98345b447fb0",
            "c6f76bea40ed4385bc47cdc920fa4a5d",
            "31714326ba894fcfbb3d18375b7b4834",
            "525eedaba36e4469bdd3b1fb90f6b6ca",
            "b028726b0e1d44dcbe5033ca195089ba",
            "e5f310d2d440457caf1c833799356d7f",
            "093cabb4df514594969a629085efe8c7",
            "534a64bc6bbb4a9697f35aa5d782f9b9"
          ]
        }
      },
      "execution_count": 23,
      "outputs": [
        {
          "output_type": "stream",
          "name": "stdout",
          "text": [
            "Cargando archivo...\n"
          ]
        },
        {
          "output_type": "display_data",
          "data": {
            "text/plain": [
              "0it [00:00, ?it/s]"
            ],
            "application/vnd.jupyter.widget-view+json": {
              "version_major": 2,
              "version_minor": 0,
              "model_id": "14df6579bf674dc5a2b0bbd290e14e09"
            }
          },
          "metadata": {}
        },
        {
          "output_type": "stream",
          "name": "stdout",
          "text": [
            "Encontrado 220714 Word Vectors.\n"
          ]
        },
        {
          "output_type": "display_data",
          "data": {
            "text/plain": [
              "  0%|          | 0/28384 [00:00<?, ?it/s]"
            ],
            "application/vnd.jupyter.widget-view+json": {
              "version_major": 2,
              "version_minor": 0,
              "model_id": "b1670974141e4dbc82ad79afb51bf6ca"
            }
          },
          "metadata": {}
        },
        {
          "output_type": "stream",
          "name": "stdout",
          "text": [
            "Convertidos: 17841 Tokens | Perdidos: 10543 Tokens\n"
          ]
        }
      ],
      "id": "NmmeYyvMpzI-"
    },
    {
      "cell_type": "code",
      "execution_count": 30,
      "metadata": {
        "id": "af1fe828-7779-4b97-b7b7-d59e2f0fef3a"
      },
      "outputs": [],
      "source": [
        "# TO-DO: No se ha hecho nada diferente por el momento\n",
        "\n",
        "from tf2crf import CRF as crf6\n",
        "from wrapper import ModelWithCRFLoss, ModelWithCRFLossDSCLoss\n",
        "from utils import build_matrix_embeddings as bme, plot_model_performance, logits_to_tokens, report_to_df\n",
        "from tensorflow.keras.layers import Concatenate, Lambda, Input, LSTM, Embedding, Dense, TimeDistributed, Dropout, Bidirectional, InputLayer, Activation, Flatten, Masking\n",
        "from tensorflow.keras.optimizers import Adam, schedules\n",
        "input = Input(shape=(MAX_LENGTH,))\n",
        "word_embedding_size = 300\n",
        "EMBED_DIM=300\n",
        "# Embedding Layer\n",
        "model = Embedding(input_dim=len(word2index),\n",
        "                weights=[embedding_matrix],\n",
        "                output_dim=word_embedding_size,\n",
        "                input_length=MAX_LENGTH,\n",
        "                mask_zero=False)(input)\n",
        "\n",
        "# BI-LSTM Layer\n",
        "model = Bidirectional(LSTM(units=50,\n",
        "                     return_sequences=True,\n",
        "                     dropout=0.5,\n",
        "                     recurrent_dropout=0.5))(model)\n",
        "\n",
        "# LSTM(Bilstm) Layer\n",
        "model = LSTM(units=50,\n",
        "                     return_sequences=True,\n",
        "                     dropout=0.5,\n",
        "                     recurrent_dropout=0.5)(model)\n",
        "\n",
        "model  = Dropout(0.5, name='dropout_lstm')(model)\n",
        "model  = Dense(units=EMBED_DIM * 2, activation='relu')(model)\n",
        "model  = Dense(units=len(tag2index), activation='relu')(model)\n",
        "\n",
        "model  = Masking(mask_value=0.,input_shape=(MAX_LENGTH, len(tag2index)))(model)\n",
        "\n",
        "crf = crf6(units=len(tag2index), name=\"ner_crf\")\n",
        "predictions = crf(model)\n",
        "\n",
        "base_model = Model(inputs=input, outputs=predictions)\n",
        "model = ModelWithCRFLoss(base_model, sparse_target=True)\n",
        "\n",
        "model.compile(optimizer='adam')\n",
        "#model.summary()"
      ],
      "id": "af1fe828-7779-4b97-b7b7-d59e2f0fef3a"
    },
    {
      "cell_type": "code",
      "execution_count": 31,
      "id": "2883e776-e7a2-4e28-8055-92f719505a91",
      "metadata": {
        "colab": {
          "base_uri": "https://localhost:8080/"
        },
        "id": "2883e776-e7a2-4e28-8055-92f719505a91",
        "outputId": "b39690a5-b056-4410-d3f2-bce4a00b1a2e"
      },
      "outputs": [
        {
          "output_type": "stream",
          "name": "stdout",
          "text": [
            "Epoch 1/50\n",
            "66/66 - 53s - loss: 172.2674 - accuracy: 0.7290 - val_loss_val: 57.9356 - val_val_accuracy: 0.9099 - 53s/epoch - 799ms/step\n",
            "Epoch 2/50\n",
            "66/66 - 40s - loss: 40.8134 - accuracy: 0.9506 - val_loss_val: 23.5037 - val_val_accuracy: 0.9783 - 40s/epoch - 608ms/step\n",
            "Epoch 3/50\n",
            "66/66 - 40s - loss: 20.2340 - accuracy: 0.9792 - val_loss_val: 17.5094 - val_val_accuracy: 0.9798 - 40s/epoch - 609ms/step\n",
            "Epoch 4/50\n",
            "66/66 - 40s - loss: 15.6926 - accuracy: 0.9805 - val_loss_val: 14.9787 - val_val_accuracy: 0.9808 - 40s/epoch - 611ms/step\n",
            "Epoch 5/50\n",
            "66/66 - 40s - loss: 13.7220 - accuracy: 0.9812 - val_loss_val: 13.6973 - val_val_accuracy: 0.9812 - 40s/epoch - 606ms/step\n",
            "Epoch 6/50\n",
            "66/66 - 40s - loss: 12.2188 - accuracy: 0.9816 - val_loss_val: 13.1569 - val_val_accuracy: 0.9813 - 40s/epoch - 607ms/step\n",
            "Epoch 7/50\n",
            "66/66 - 40s - loss: 11.0957 - accuracy: 0.9821 - val_loss_val: 12.6971 - val_val_accuracy: 0.9818 - 40s/epoch - 610ms/step\n",
            "Epoch 8/50\n",
            "66/66 - 41s - loss: 10.5756 - accuracy: 0.9827 - val_loss_val: 12.4228 - val_val_accuracy: 0.9822 - 41s/epoch - 615ms/step\n",
            "Epoch 9/50\n",
            "66/66 - 41s - loss: 9.8644 - accuracy: 0.9833 - val_loss_val: 11.9746 - val_val_accuracy: 0.9826 - 41s/epoch - 614ms/step\n",
            "Epoch 10/50\n",
            "66/66 - 41s - loss: 9.2108 - accuracy: 0.9842 - val_loss_val: 11.6993 - val_val_accuracy: 0.9832 - 41s/epoch - 615ms/step\n",
            "Epoch 11/50\n",
            "66/66 - 41s - loss: 8.6358 - accuracy: 0.9854 - val_loss_val: 11.2973 - val_val_accuracy: 0.9836 - 41s/epoch - 614ms/step\n",
            "Epoch 12/50\n",
            "66/66 - 40s - loss: 8.0937 - accuracy: 0.9867 - val_loss_val: 11.2294 - val_val_accuracy: 0.9842 - 40s/epoch - 613ms/step\n",
            "Epoch 13/50\n",
            "66/66 - 41s - loss: 7.6904 - accuracy: 0.9876 - val_loss_val: 10.8153 - val_val_accuracy: 0.9849 - 41s/epoch - 617ms/step\n",
            "Epoch 14/50\n",
            "66/66 - 41s - loss: 7.0698 - accuracy: 0.9882 - val_loss_val: 10.6153 - val_val_accuracy: 0.9851 - 41s/epoch - 616ms/step\n",
            "Epoch 15/50\n",
            "66/66 - 41s - loss: 6.6734 - accuracy: 0.9888 - val_loss_val: 10.5376 - val_val_accuracy: 0.9853 - 41s/epoch - 622ms/step\n",
            "Epoch 16/50\n",
            "66/66 - 41s - loss: 6.1633 - accuracy: 0.9892 - val_loss_val: 10.1918 - val_val_accuracy: 0.9857 - 41s/epoch - 615ms/step\n",
            "Epoch 17/50\n",
            "66/66 - 40s - loss: 5.9046 - accuracy: 0.9896 - val_loss_val: 9.8971 - val_val_accuracy: 0.9858 - 40s/epoch - 613ms/step\n",
            "Epoch 18/50\n",
            "66/66 - 41s - loss: 5.4746 - accuracy: 0.9901 - val_loss_val: 9.8008 - val_val_accuracy: 0.9862 - 41s/epoch - 620ms/step\n",
            "Epoch 19/50\n",
            "66/66 - 41s - loss: 5.1513 - accuracy: 0.9904 - val_loss_val: 9.8529 - val_val_accuracy: 0.9863 - 41s/epoch - 619ms/step\n",
            "Epoch 20/50\n",
            "66/66 - 41s - loss: 4.8165 - accuracy: 0.9909 - val_loss_val: 9.8990 - val_val_accuracy: 0.9867 - 41s/epoch - 616ms/step\n",
            "Epoch 21/50\n",
            "66/66 - 41s - loss: 4.5481 - accuracy: 0.9914 - val_loss_val: 9.8011 - val_val_accuracy: 0.9869 - 41s/epoch - 615ms/step\n",
            "Epoch 22/50\n",
            "66/66 - 41s - loss: 4.3355 - accuracy: 0.9917 - val_loss_val: 9.5709 - val_val_accuracy: 0.9871 - 41s/epoch - 615ms/step\n",
            "Epoch 23/50\n",
            "66/66 - 40s - loss: 4.1005 - accuracy: 0.9920 - val_loss_val: 9.3586 - val_val_accuracy: 0.9871 - 40s/epoch - 614ms/step\n",
            "Epoch 24/50\n",
            "66/66 - 41s - loss: 3.9085 - accuracy: 0.9923 - val_loss_val: 9.6858 - val_val_accuracy: 0.9877 - 41s/epoch - 621ms/step\n",
            "Epoch 25/50\n",
            "66/66 - 41s - loss: 3.6397 - accuracy: 0.9927 - val_loss_val: 9.7200 - val_val_accuracy: 0.9878 - 41s/epoch - 618ms/step\n",
            "Epoch 26/50\n",
            "66/66 - 41s - loss: 3.4676 - accuracy: 0.9930 - val_loss_val: 10.2555 - val_val_accuracy: 0.9879 - 41s/epoch - 616ms/step\n",
            "Epoch 27/50\n",
            "66/66 - 41s - loss: 3.3324 - accuracy: 0.9934 - val_loss_val: 9.4570 - val_val_accuracy: 0.9880 - 41s/epoch - 616ms/step\n",
            "Epoch 28/50\n",
            "66/66 - 40s - loss: 3.1350 - accuracy: 0.9936 - val_loss_val: 9.4182 - val_val_accuracy: 0.9882 - 40s/epoch - 614ms/step\n",
            "Epoch 29/50\n",
            "66/66 - 41s - loss: 2.9274 - accuracy: 0.9938 - val_loss_val: 9.5009 - val_val_accuracy: 0.9883 - 41s/epoch - 622ms/step\n",
            "Epoch 30/50\n",
            "66/66 - 41s - loss: 2.7881 - accuracy: 0.9941 - val_loss_val: 9.4098 - val_val_accuracy: 0.9886 - 41s/epoch - 621ms/step\n",
            "Epoch 31/50\n",
            "66/66 - 41s - loss: 2.6720 - accuracy: 0.9944 - val_loss_val: 9.3370 - val_val_accuracy: 0.9884 - 41s/epoch - 614ms/step\n",
            "Epoch 32/50\n",
            "66/66 - 41s - loss: 2.5265 - accuracy: 0.9946 - val_loss_val: 9.5296 - val_val_accuracy: 0.9885 - 41s/epoch - 615ms/step\n",
            "Epoch 33/50\n",
            "66/66 - 40s - loss: 2.4254 - accuracy: 0.9949 - val_loss_val: 9.6144 - val_val_accuracy: 0.9887 - 40s/epoch - 613ms/step\n",
            "Epoch 34/50\n",
            "66/66 - 41s - loss: 2.3440 - accuracy: 0.9950 - val_loss_val: 9.0105 - val_val_accuracy: 0.9887 - 41s/epoch - 614ms/step\n",
            "Epoch 35/50\n",
            "66/66 - 41s - loss: 2.2351 - accuracy: 0.9953 - val_loss_val: 9.3681 - val_val_accuracy: 0.9887 - 41s/epoch - 617ms/step\n",
            "Epoch 36/50\n",
            "66/66 - 41s - loss: 2.1505 - accuracy: 0.9954 - val_loss_val: 9.2772 - val_val_accuracy: 0.9890 - 41s/epoch - 614ms/step\n",
            "Epoch 37/50\n",
            "66/66 - 41s - loss: 2.0890 - accuracy: 0.9957 - val_loss_val: 9.6692 - val_val_accuracy: 0.9889 - 41s/epoch - 623ms/step\n",
            "Epoch 38/50\n",
            "66/66 - 41s - loss: 2.0017 - accuracy: 0.9957 - val_loss_val: 9.7862 - val_val_accuracy: 0.9891 - 41s/epoch - 619ms/step\n",
            "Epoch 39/50\n",
            "66/66 - 41s - loss: 1.9205 - accuracy: 0.9960 - val_loss_val: 9.5347 - val_val_accuracy: 0.9887 - 41s/epoch - 614ms/step\n",
            "Epoch 40/50\n",
            "66/66 - 41s - loss: 1.8619 - accuracy: 0.9962 - val_loss_val: 9.8372 - val_val_accuracy: 0.9893 - 41s/epoch - 618ms/step\n",
            "Epoch 41/50\n",
            "66/66 - 41s - loss: 1.7618 - accuracy: 0.9963 - val_loss_val: 10.0350 - val_val_accuracy: 0.9890 - 41s/epoch - 618ms/step\n",
            "Epoch 42/50\n",
            "66/66 - 41s - loss: 1.7604 - accuracy: 0.9964 - val_loss_val: 10.0134 - val_val_accuracy: 0.9891 - 41s/epoch - 623ms/step\n",
            "Epoch 43/50\n",
            "66/66 - 41s - loss: 1.6224 - accuracy: 0.9963 - val_loss_val: 9.7310 - val_val_accuracy: 0.9890 - 41s/epoch - 618ms/step\n",
            "Epoch 44/50\n",
            "66/66 - 41s - loss: 1.4226 - accuracy: 0.9966 - val_loss_val: 9.8978 - val_val_accuracy: 0.9893 - 41s/epoch - 620ms/step\n",
            "Epoch 45/50\n",
            "66/66 - 41s - loss: 1.2191 - accuracy: 0.9966 - val_loss_val: 9.8449 - val_val_accuracy: 0.9893 - 41s/epoch - 623ms/step\n",
            "Epoch 46/50\n",
            "66/66 - 41s - loss: 1.5304 - accuracy: 0.9969 - val_loss_val: 11.3534 - val_val_accuracy: 0.9894 - 41s/epoch - 616ms/step\n",
            "Epoch 47/50\n",
            "66/66 - 41s - loss: 2.0984 - accuracy: 0.9970 - val_loss_val: 11.4200 - val_val_accuracy: 0.9892 - 41s/epoch - 617ms/step\n",
            "Epoch 48/50\n",
            "66/66 - 40s - loss: 2.1221 - accuracy: 0.9971 - val_loss_val: 11.8222 - val_val_accuracy: 0.9893 - 40s/epoch - 613ms/step\n",
            "Epoch 49/50\n",
            "66/66 - 41s - loss: 2.1983 - accuracy: 0.9971 - val_loss_val: 12.1257 - val_val_accuracy: 0.9894 - 41s/epoch - 614ms/step\n",
            "Epoch 50/50\n",
            "66/66 - 41s - loss: 2.2296 - accuracy: 0.9972 - val_loss_val: 12.3683 - val_val_accuracy: 0.9890 - 41s/epoch - 614ms/step\n"
          ]
        }
      ],
      "source": [
        "history= model.fit(train_sentences_X, cat_train_tags_y,\n",
        "                       validation_data=(eval_sentences_X, cat_eval_tags_y),\n",
        "                       batch_size=128,\n",
        "                       epochs=50,\n",
        "                       verbose=2)"
      ]
    },
    {
      "cell_type": "code",
      "execution_count": 32,
      "id": "470d90aa-4c7b-4884-b138-9a052d59ba5a",
      "metadata": {
        "colab": {
          "base_uri": "https://localhost:8080/"
        },
        "id": "470d90aa-4c7b-4884-b138-9a052d59ba5a",
        "outputId": "738ea380-f957-42d8-c3e3-ab6c417eed48"
      },
      "outputs": [
        {
          "output_type": "stream",
          "name": "stdout",
          "text": [
            "{'O': 2, 'I-MISC': 3, 'I-PER': 4, 'B-ORG': 5, 'I-ORG': 6, 'B-PER': 7, 'I-LOC': 8, 'B-MISC': 9, 'B-LOC': 10, '-PAD-': 0, '-OOV-': 1}\n",
            "[[17142 19304 12441 ...     0     0     0]\n",
            " [19435     0     0 ...     0     0     0]\n",
            " [ 5672  2757 24200 ...     0     0     0]\n",
            " ...\n",
            " [17142   104 18572 ...     0     0     0]\n",
            " [ 5831 12711  9195 ...     0     0     0]\n",
            " [17142  1023 14711 ...     0     0     0]]\n",
            "48/48 [==============================] - 5s 80ms/step\n",
            "(1517, 202)\n",
            "[[10  8  2 ...  0  0  0]\n",
            " [ 2  0  0 ...  0  0  0]\n",
            " [ 2  2  2 ...  0  0  0]\n",
            " ...\n",
            " [ 2 10  2 ...  0  0  0]\n",
            " [ 2  2  2 ...  0  0  0]\n",
            " [ 2  2  2 ...  0  0  0]]\n"
          ]
        }
      ],
      "source": [
        "print(tag2index)\n",
        "print(test_sentences_X)\n",
        "y_pred= model.predict(test_sentences_X)\n",
        "print(y_pred.shape)\n",
        "print(y_pred)"
      ]
    },
    {
      "cell_type": "code",
      "execution_count": 33,
      "id": "1cb09e4c-fe54-4fd0-9481-226625cfe92a",
      "metadata": {
        "colab": {
          "base_uri": "https://localhost:8080/"
        },
        "id": "1cb09e4c-fe54-4fd0-9481-226625cfe92a",
        "outputId": "7dec0c82-968d-4fca-af76-1755e425ffc0"
      },
      "outputs": [
        {
          "output_type": "stream",
          "name": "stdout",
          "text": [
            "{2: 'O', 3: 'I-MISC', 4: 'I-PER', 5: 'B-ORG', 6: 'I-ORG', 7: 'B-PER', 8: 'I-LOC', 9: 'B-MISC', 10: 'B-LOC', 0: '-PAD-', 1: '-OOV-'}\n",
            "['O', 'O', 'O', 'O', 'O', 'B-ORG', 'I-ORG', 'I-ORG', 'I-ORG', 'O', 'O', 'O', 'O', 'O', 'B-ORG', 'I-ORG', 'O', 'O', 'B-ORG', 'I-ORG', 'O', 'O', 'O', 'O', 'O', 'O', 'O', 'O', 'O', 'O', 'O', 'O', 'O', 'O', 'O', 'O', 'O', 'O', 'O', 'O', 'O', 'O', 'O', 'O', 'O', '-PAD-', '-PAD-', '-PAD-', '-PAD-', '-PAD-', '-PAD-', '-PAD-', '-PAD-', '-PAD-', '-PAD-', '-PAD-', '-PAD-', '-PAD-', '-PAD-', '-PAD-', '-PAD-', '-PAD-', '-PAD-', '-PAD-', '-PAD-', '-PAD-', '-PAD-', '-PAD-', '-PAD-', '-PAD-', '-PAD-', '-PAD-', '-PAD-', '-PAD-', '-PAD-', '-PAD-', '-PAD-', '-PAD-', '-PAD-', '-PAD-', '-PAD-', '-PAD-', '-PAD-', '-PAD-', '-PAD-', '-PAD-', '-PAD-', '-PAD-', '-PAD-', '-PAD-', '-PAD-', '-PAD-', '-PAD-', '-PAD-', '-PAD-', '-PAD-', '-PAD-', '-PAD-', '-PAD-', '-PAD-', '-PAD-', '-PAD-', '-PAD-', '-PAD-', '-PAD-', '-PAD-', '-PAD-', '-PAD-', '-PAD-', '-PAD-', '-PAD-', '-PAD-', '-PAD-', '-PAD-', '-PAD-', '-PAD-', '-PAD-', '-PAD-', '-PAD-', '-PAD-', '-PAD-', '-PAD-', '-PAD-', '-PAD-', '-PAD-', '-PAD-', '-PAD-', '-PAD-', '-PAD-', '-PAD-', '-PAD-', '-PAD-', '-PAD-', '-PAD-', '-PAD-', '-PAD-', '-PAD-', '-PAD-', '-PAD-', '-PAD-', '-PAD-', '-PAD-', '-PAD-', '-PAD-', '-PAD-', '-PAD-', '-PAD-', '-PAD-', '-PAD-', '-PAD-', '-PAD-', '-PAD-', '-PAD-', '-PAD-', '-PAD-', '-PAD-', '-PAD-', '-PAD-', '-PAD-', '-PAD-', '-PAD-', '-PAD-', '-PAD-', '-PAD-', '-PAD-', '-PAD-', '-PAD-', '-PAD-', '-PAD-', '-PAD-', '-PAD-', '-PAD-', '-PAD-', '-PAD-', '-PAD-', '-PAD-', '-PAD-', '-PAD-', '-PAD-', '-PAD-', '-PAD-', '-PAD-', '-PAD-', '-PAD-', '-PAD-', '-PAD-', '-PAD-', '-PAD-', '-PAD-', '-PAD-', '-PAD-', '-PAD-', '-PAD-', '-PAD-', '-PAD-', '-PAD-', '-PAD-', '-PAD-', '-PAD-', '-PAD-', '-PAD-', '-PAD-']\n"
          ]
        }
      ],
      "source": [
        "from utils import build_matrix_embeddings as bme, plot_model_performance, logits_to_tokens, report_to_df\n",
        "index2tag = {i: t for t, i in tag2index.items()}\n",
        "print(index2tag)\n",
        "y1_pred = logits_to_tokens(y_pred, index2tag)\n",
        "print(y1_pred[10])"
      ]
    },
    {
      "cell_type": "code",
      "source": [
        "#print(Y_test[4])\n",
        "print(test_tags_y.shape)"
      ],
      "metadata": {
        "colab": {
          "base_uri": "https://localhost:8080/"
        },
        "id": "B93zbJbTd_I2",
        "outputId": "0e829e95-23c5-4c42-8051-0f394892c303"
      },
      "id": "B93zbJbTd_I2",
      "execution_count": 34,
      "outputs": [
        {
          "output_type": "stream",
          "name": "stdout",
          "text": [
            "(1517, 202)\n"
          ]
        }
      ]
    },
    {
      "cell_type": "code",
      "source": [
        "from utils import build_matrix_embeddings as bme, plot_model_performance, logits_to_tokens, report_to_df\n",
        "index2tag = {i: t for t, i in tag2index.items()}\n",
        "print(index2tag)\n",
        "y1_true = logits_to_tokens(test_tags_y, index2tag)\n",
        "print(y1_true[10])"
      ],
      "metadata": {
        "colab": {
          "base_uri": "https://localhost:8080/"
        },
        "id": "L5NsDa-meApA",
        "outputId": "67b82525-003c-412a-cfdf-7c222fd2994c"
      },
      "id": "L5NsDa-meApA",
      "execution_count": 35,
      "outputs": [
        {
          "output_type": "stream",
          "name": "stdout",
          "text": [
            "{2: 'O', 3: 'I-MISC', 4: 'I-PER', 5: 'B-ORG', 6: 'I-ORG', 7: 'B-PER', 8: 'I-LOC', 9: 'B-MISC', 10: 'B-LOC', 0: '-PAD-', 1: '-OOV-'}\n",
            "['O', 'O', 'O', 'O', 'O', 'B-ORG', 'I-ORG', 'I-ORG', 'I-ORG', 'O', 'O', 'O', 'O', 'O', 'B-ORG', 'I-ORG', 'O', 'O', 'B-ORG', 'I-ORG', 'O', 'O', 'O', 'O', 'O', 'O', 'O', 'O', 'O', 'O', 'O', 'O', 'O', 'O', 'O', 'O', 'O', 'O', 'O', 'O', 'O', 'O', 'O', 'O', 'O', '-PAD-', '-PAD-', '-PAD-', '-PAD-', '-PAD-', '-PAD-', '-PAD-', '-PAD-', '-PAD-', '-PAD-', '-PAD-', '-PAD-', '-PAD-', '-PAD-', '-PAD-', '-PAD-', '-PAD-', '-PAD-', '-PAD-', '-PAD-', '-PAD-', '-PAD-', '-PAD-', '-PAD-', '-PAD-', '-PAD-', '-PAD-', '-PAD-', '-PAD-', '-PAD-', '-PAD-', '-PAD-', '-PAD-', '-PAD-', '-PAD-', '-PAD-', '-PAD-', '-PAD-', '-PAD-', '-PAD-', '-PAD-', '-PAD-', '-PAD-', '-PAD-', '-PAD-', '-PAD-', '-PAD-', '-PAD-', '-PAD-', '-PAD-', '-PAD-', '-PAD-', '-PAD-', '-PAD-', '-PAD-', '-PAD-', '-PAD-', '-PAD-', '-PAD-', '-PAD-', '-PAD-', '-PAD-', '-PAD-', '-PAD-', '-PAD-', '-PAD-', '-PAD-', '-PAD-', '-PAD-', '-PAD-', '-PAD-', '-PAD-', '-PAD-', '-PAD-', '-PAD-', '-PAD-', '-PAD-', '-PAD-', '-PAD-', '-PAD-', '-PAD-', '-PAD-', '-PAD-', '-PAD-', '-PAD-', '-PAD-', '-PAD-', '-PAD-', '-PAD-', '-PAD-', '-PAD-', '-PAD-', '-PAD-', '-PAD-', '-PAD-', '-PAD-', '-PAD-', '-PAD-', '-PAD-', '-PAD-', '-PAD-', '-PAD-', '-PAD-', '-PAD-', '-PAD-', '-PAD-', '-PAD-', '-PAD-', '-PAD-', '-PAD-', '-PAD-', '-PAD-', '-PAD-', '-PAD-', '-PAD-', '-PAD-', '-PAD-', '-PAD-', '-PAD-', '-PAD-', '-PAD-', '-PAD-', '-PAD-', '-PAD-', '-PAD-', '-PAD-', '-PAD-', '-PAD-', '-PAD-', '-PAD-', '-PAD-', '-PAD-', '-PAD-', '-PAD-', '-PAD-', '-PAD-', '-PAD-', '-PAD-', '-PAD-', '-PAD-', '-PAD-', '-PAD-', '-PAD-', '-PAD-', '-PAD-', '-PAD-', '-PAD-', '-PAD-', '-PAD-', '-PAD-', '-PAD-', '-PAD-', '-PAD-', '-PAD-', '-PAD-', '-PAD-', '-PAD-']\n"
          ]
        }
      ]
    },
    {
      "cell_type": "markdown",
      "id": "842d9d47-b7b8-478a-b7f6-efd5be17f762",
      "metadata": {
        "id": "842d9d47-b7b8-478a-b7f6-efd5be17f762"
      },
      "source": [
        "## Calidad obtenida del modelo\n",
        "\n",
        "Se evalua la calidad de los resultados del modelo usando las siguientes métricas: *precision, recall, accuracy* y *F1-score*."
      ]
    },
    {
      "cell_type": "code",
      "execution_count": 36,
      "id": "bc937ab9-d0d4-4c83-a503-05f7432c4d76",
      "metadata": {
        "colab": {
          "base_uri": "https://localhost:8080/"
        },
        "id": "bc937ab9-d0d4-4c83-a503-05f7432c4d76",
        "outputId": "421d9c59-2770-4987-bd97-6fa248775dc8"
      },
      "outputs": [
        {
          "output_type": "stream",
          "name": "stderr",
          "text": [
            "/usr/local/lib/python3.10/dist-packages/seqeval/metrics/sequence_labeling.py:171: UserWarning: -PAD- seems not to be NE tag.\n",
            "  warnings.warn('{} seems not to be NE tag.'.format(chunk))\n"
          ]
        },
        {
          "output_type": "stream",
          "name": "stdout",
          "text": [
            "precision: 67.4%\n",
            "   recall: 64.9%\n",
            " accuracy: 99.1%\n",
            " F1-score: 66.1%\n"
          ]
        }
      ],
      "source": [
        "from seqeval.metrics import classification_report as seqclarep\n",
        "from seqeval.metrics import precision_score, recall_score, f1_score, accuracy_score\n",
        "print(\"precision: {:.1%}\".format(precision_score(y1_true, y1_pred)))\n",
        "print(\"   recall: {:.1%}\".format(recall_score(y1_true,    y1_pred)))\n",
        "print(\" accuracy: {:.1%}\".format(accuracy_score(y1_true,  y1_pred)))\n",
        "print(\" F1-score: {:.1%}\".format(f1_score(y1_true,        y1_pred)))"
      ]
    },
    {
      "cell_type": "markdown",
      "id": "b947ac45-185b-4407-8883-966e1210f065",
      "metadata": {
        "id": "b947ac45-185b-4407-8883-966e1210f065"
      },
      "source": [
        "Se genera un reporte de la clasificación basada en las etiquetas predichas y las reales, esto brindado en un DataFrame."
      ]
    },
    {
      "cell_type": "code",
      "execution_count": 37,
      "id": "bc3aa1f6-3de6-4026-bdb9-5d95f46f4886",
      "metadata": {
        "id": "bc3aa1f6-3de6-4026-bdb9-5d95f46f4886"
      },
      "outputs": [],
      "source": [
        "import pandas as pd\n",
        "li1 = sum(y1_true, [])\n",
        "li2 = sum(y1_pred, [])\n",
        "\n",
        "results = pd.DataFrame(columns=['Expected', 'Predicted'])\n",
        "\n",
        "results['Expected'] = li1\n",
        "results['Predicted'] = li2"
      ]
    },
    {
      "cell_type": "code",
      "execution_count": 38,
      "id": "a9fccdb6-6160-4d08-9fb4-443632379b03",
      "metadata": {
        "colab": {
          "base_uri": "https://localhost:8080/"
        },
        "id": "a9fccdb6-6160-4d08-9fb4-443632379b03",
        "outputId": "7abec209-d6d9-490d-d288-71e1349374fd"
      },
      "outputs": [
        {
          "output_type": "stream",
          "name": "stdout",
          "text": [
            "  Class Name precision recall f1-score support\n",
            "0      -PAD-      1.00   1.00     1.00  254901\n",
            "1      B-LOC      0.76   0.70     0.73    1084\n",
            "2     B-MISC      0.32   0.35     0.33     339\n",
            "3      B-ORG      0.73   0.78     0.76    1400\n",
            "4      B-PER      0.90   0.66     0.76     735\n",
            "5      I-LOC      0.63   0.61     0.62     325\n",
            "6     I-MISC      0.49   0.43     0.46     557\n",
            "7      I-ORG      0.68   0.68     0.68    1104\n",
            "8      I-PER      0.94   0.76     0.84     634\n",
            "9          O      0.97   0.98     0.98   45355\n"
          ]
        }
      ],
      "source": [
        "from sklearn.metrics import classification_report as eskclarep\n",
        "report = eskclarep(results['Expected'], results['Predicted'])\n",
        "\n",
        "print(report_to_df(report))"
      ]
    },
    {
      "cell_type": "markdown",
      "id": "abf3433b-4e95-4920-9a55-940d1f2f1a1c",
      "metadata": {
        "id": "abf3433b-4e95-4920-9a55-940d1f2f1a1c"
      },
      "source": [
        "Por último, se realizan evaluaciones del modelo a partir de algunas oraciones."
      ]
    },
    {
      "cell_type": "code",
      "execution_count": 39,
      "id": "566c99ce-8ea1-4818-8fa1-92b4b7c75ebe",
      "metadata": {
        "colab": {
          "base_uri": "https://localhost:8080/"
        },
        "id": "566c99ce-8ea1-4818-8fa1-92b4b7c75ebe",
        "outputId": "411c2222-0ce5-4af3-8014-c4aa89a91391"
      },
      "outputs": [
        {
          "output_type": "stream",
          "name": "stdout",
          "text": [
            "[['James', 'Rodriguez', 'es', 'el', 'jugador', 'colombiano', 'más', 'importante', 'con', 'Radamel', 'Falcao.'], ['Jugadores', 'de', 'la', 'selección', 'Colombia', 'que', 'juegan', 'en', 'el', 'Reino', 'Unido']]\n",
            "[['La', 'federación', 'Nacional', 'de', 'cafeteros', 'de', 'Colombia', 'es', 'dirigida', 'por', 'Horacio', 'Sánchez'], ['y', 'se', 'ubica', 'en', 'las', 'ciudades', 'de', 'Cali', 'y', 'Medellín', 'con', 'el', 'instituto', 'colombiano', 'del', 'café']]\n"
          ]
        }
      ],
      "source": [
        "test_sample1 = [\n",
        "    \"James Rodriguez es el jugador colombiano más importante con Radamel Falcao.\".split(),\n",
        "    \" Jugadores de la selección Colombia que juegan en el Reino Unido\".split()\n",
        "]\n",
        "\n",
        "print(test_sample1)\n",
        "\n",
        "test_sample2 = [\n",
        "    \"La federación Nacional de cafeteros de Colombia es dirigida por Horacio Sánchez\".split(),\n",
        "    \" y se ubica en las ciudades de  Cali y Medellín con el instituto colombiano del café \".split()\n",
        "]\n",
        "\n",
        "print(test_sample2)"
      ]
    },
    {
      "cell_type": "code",
      "execution_count": 40,
      "id": "5f53bc58-c8c5-4962-bf78-06bff6ea5ff5",
      "metadata": {
        "colab": {
          "base_uri": "https://localhost:8080/"
        },
        "id": "5f53bc58-c8c5-4962-bf78-06bff6ea5ff5",
        "outputId": "7abc6be1-0c9d-4d34-a12b-4d461e3396b7"
      },
      "outputs": [
        {
          "output_type": "stream",
          "name": "stdout",
          "text": [
            "[[17142  4694  3923 16842 19032 16842 21141 15998  9827 16156     1  3582\n",
            "      0     0     0     0     0     0     0     0     0     0     0     0\n",
            "      0     0     0     0     0     0     0     0     0     0     0     0\n",
            "      0     0     0     0     0     0     0     0     0     0     0     0\n",
            "      0     0     0     0     0     0     0     0     0     0     0     0\n",
            "      0     0     0     0     0     0     0     0     0     0     0     0\n",
            "      0     0     0     0     0     0     0     0     0     0     0     0\n",
            "      0     0     0     0     0     0     0     0     0     0     0     0\n",
            "      0     0     0     0     0     0     0     0     0     0     0     0\n",
            "      0     0     0     0     0     0     0     0     0     0     0     0\n",
            "      0     0     0     0     0     0     0     0     0     0     0     0\n",
            "      0     0     0     0     0     0     0     0     0     0     0     0\n",
            "      0     0     0     0     0     0     0     0     0     0     0     0\n",
            "      0     0     0     0     0     0     0     0     0     0     0     0\n",
            "      0     0     0     0     0     0     0     0     0     0     0     0\n",
            "      0     0     0     0     0     0     0     0     0     0     0     0\n",
            "      0     0     0     0     0     0     0     0     0     0]\n",
            " [18532 14735  6178 16927  5672  6333 16842  3917 18532     1 19295   823\n",
            "   1775 27414 23541 18098     0     0     0     0     0     0     0     0\n",
            "      0     0     0     0     0     0     0     0     0     0     0     0\n",
            "      0     0     0     0     0     0     0     0     0     0     0     0\n",
            "      0     0     0     0     0     0     0     0     0     0     0     0\n",
            "      0     0     0     0     0     0     0     0     0     0     0     0\n",
            "      0     0     0     0     0     0     0     0     0     0     0     0\n",
            "      0     0     0     0     0     0     0     0     0     0     0     0\n",
            "      0     0     0     0     0     0     0     0     0     0     0     0\n",
            "      0     0     0     0     0     0     0     0     0     0     0     0\n",
            "      0     0     0     0     0     0     0     0     0     0     0     0\n",
            "      0     0     0     0     0     0     0     0     0     0     0     0\n",
            "      0     0     0     0     0     0     0     0     0     0     0     0\n",
            "      0     0     0     0     0     0     0     0     0     0     0     0\n",
            "      0     0     0     0     0     0     0     0     0     0     0     0\n",
            "      0     0     0     0     0     0     0     0     0     0     0     0\n",
            "      0     0     0     0     0     0     0     0     0     0]]\n",
            "(2, 202)\n"
          ]
        }
      ],
      "source": [
        "test_samples_X = []\n",
        "for s in test_sample2:\n",
        "    s_int = []\n",
        "    for w in s:\n",
        "        try:\n",
        "            s_int.append(word2index[w.lower()])\n",
        "        except KeyError:\n",
        "            s_int.append(word2index['-OOV-'])\n",
        "    test_samples_X.append(s_int)\n",
        "\n",
        "test_samples_X = pad_sequences(test_samples_X, maxlen=MAX_LENGTH, padding='post')\n",
        "print(test_samples_X)\n",
        "print(test_samples_X.shape)"
      ]
    },
    {
      "cell_type": "code",
      "execution_count": 41,
      "id": "231b1961-c8a2-45c3-8604-f667f0225d22",
      "metadata": {
        "colab": {
          "base_uri": "https://localhost:8080/"
        },
        "id": "231b1961-c8a2-45c3-8604-f667f0225d22",
        "outputId": "6ff34bc5-cb81-49c2-edcc-6bb56bcc4cde"
      },
      "outputs": [
        {
          "output_type": "stream",
          "name": "stdout",
          "text": [
            "1/1 [==============================] - 0s 83ms/step\n",
            "[[ 2  5  6  6  6  6  6  2  2  2  0  0  0  0  0  0  0  0  0  0  0  0  0  0\n",
            "   0  0  0  0  0  0  0  0  0  0  0  0  0  0  0  0  0  0  0  0  0  0  0  0\n",
            "   0  0  0  0  0  0  0  0  0  0  0  0  0  0  0  0  0  0  0  0  0  0  0  0\n",
            "   0  0  0  0  0  0  0  0  0  0  0  0  0  0  0  0  0  0  0  0  0  0  0  0\n",
            "   0  0  0  0  0  0  0  0  0  0  0  0  0  0  0  0  0  0  0  0  0  0  0  0\n",
            "   0  0  0  0  0  0  0  0  0  0  0  0  0  0  0  0  0  0  0  0  0  0  0  0\n",
            "   0  0  0  0  0  0  0  0  0  0  0  0  0  0  0  0  0  0  0  0  0  0  0  0\n",
            "   0  0  0  0  0  0  0  0  0  0  0  0  0  0  0  0  0  0  0  0  0  0  0  0\n",
            "   0  0  0  0  0  0  0  0  0  0]\n",
            " [ 2  2  2  2  2  2  2 10  2  2  2  2  2  2  2  0  0  0  0  0  0  0  0  0\n",
            "   0  0  0  0  0  0  0  0  0  0  0  0  0  0  0  0  0  0  0  0  0  0  0  0\n",
            "   0  0  0  0  0  0  0  0  0  0  0  0  0  0  0  0  0  0  0  0  0  0  0  0\n",
            "   0  0  0  0  0  0  0  0  0  0  0  0  0  0  0  0  0  0  0  0  0  0  0  0\n",
            "   0  0  0  0  0  0  0  0  0  0  0  0  0  0  0  0  0  0  0  0  0  0  0  0\n",
            "   0  0  0  0  0  0  0  0  0  0  0  0  0  0  0  0  0  0  0  0  0  0  0  0\n",
            "   0  0  0  0  0  0  0  0  0  0  0  0  0  0  0  0  0  0  0  0  0  0  0  0\n",
            "   0  0  0  0  0  0  0  0  0  0  0  0  0  0  0  0  0  0  0  0  0  0  0  0\n",
            "   0  0  0  0  0  0  0  0  0  0]] (2, 202)\n"
          ]
        }
      ],
      "source": [
        "predictions = model.predict(test_samples_X)\n",
        "print(predictions, predictions.shape)"
      ]
    },
    {
      "cell_type": "code",
      "execution_count": 42,
      "id": "e73ea8d2-3522-4029-a5b5-727e4fb09338",
      "metadata": {
        "colab": {
          "base_uri": "https://localhost:8080/"
        },
        "id": "e73ea8d2-3522-4029-a5b5-727e4fb09338",
        "outputId": "d4c230ea-2cd0-4e14-b2a2-10bd587bd614"
      },
      "outputs": [
        {
          "output_type": "stream",
          "name": "stdout",
          "text": [
            "[['O', 'B-ORG', 'I-ORG', 'I-ORG', 'I-ORG', 'I-ORG', 'I-ORG', 'O', 'O', 'O', '-PAD-', '-PAD-', '-PAD-', '-PAD-', '-PAD-', '-PAD-', '-PAD-', '-PAD-', '-PAD-', '-PAD-', '-PAD-', '-PAD-', '-PAD-', '-PAD-', '-PAD-', '-PAD-', '-PAD-', '-PAD-', '-PAD-', '-PAD-', '-PAD-', '-PAD-', '-PAD-', '-PAD-', '-PAD-', '-PAD-', '-PAD-', '-PAD-', '-PAD-', '-PAD-', '-PAD-', '-PAD-', '-PAD-', '-PAD-', '-PAD-', '-PAD-', '-PAD-', '-PAD-', '-PAD-', '-PAD-', '-PAD-', '-PAD-', '-PAD-', '-PAD-', '-PAD-', '-PAD-', '-PAD-', '-PAD-', '-PAD-', '-PAD-', '-PAD-', '-PAD-', '-PAD-', '-PAD-', '-PAD-', '-PAD-', '-PAD-', '-PAD-', '-PAD-', '-PAD-', '-PAD-', '-PAD-', '-PAD-', '-PAD-', '-PAD-', '-PAD-', '-PAD-', '-PAD-', '-PAD-', '-PAD-', '-PAD-', '-PAD-', '-PAD-', '-PAD-', '-PAD-', '-PAD-', '-PAD-', '-PAD-', '-PAD-', '-PAD-', '-PAD-', '-PAD-', '-PAD-', '-PAD-', '-PAD-', '-PAD-', '-PAD-', '-PAD-', '-PAD-', '-PAD-', '-PAD-', '-PAD-', '-PAD-', '-PAD-', '-PAD-', '-PAD-', '-PAD-', '-PAD-', '-PAD-', '-PAD-', '-PAD-', '-PAD-', '-PAD-', '-PAD-', '-PAD-', '-PAD-', '-PAD-', '-PAD-', '-PAD-', '-PAD-', '-PAD-', '-PAD-', '-PAD-', '-PAD-', '-PAD-', '-PAD-', '-PAD-', '-PAD-', '-PAD-', '-PAD-', '-PAD-', '-PAD-', '-PAD-', '-PAD-', '-PAD-', '-PAD-', '-PAD-', '-PAD-', '-PAD-', '-PAD-', '-PAD-', '-PAD-', '-PAD-', '-PAD-', '-PAD-', '-PAD-', '-PAD-', '-PAD-', '-PAD-', '-PAD-', '-PAD-', '-PAD-', '-PAD-', '-PAD-', '-PAD-', '-PAD-', '-PAD-', '-PAD-', '-PAD-', '-PAD-', '-PAD-', '-PAD-', '-PAD-', '-PAD-', '-PAD-', '-PAD-', '-PAD-', '-PAD-', '-PAD-', '-PAD-', '-PAD-', '-PAD-', '-PAD-', '-PAD-', '-PAD-', '-PAD-', '-PAD-', '-PAD-', '-PAD-', '-PAD-', '-PAD-', '-PAD-', '-PAD-', '-PAD-', '-PAD-', '-PAD-', '-PAD-', '-PAD-', '-PAD-', '-PAD-', '-PAD-', '-PAD-', '-PAD-', '-PAD-', '-PAD-', '-PAD-', '-PAD-', '-PAD-', '-PAD-', '-PAD-', '-PAD-', '-PAD-'], ['O', 'O', 'O', 'O', 'O', 'O', 'O', 'B-LOC', 'O', 'O', 'O', 'O', 'O', 'O', 'O', '-PAD-', '-PAD-', '-PAD-', '-PAD-', '-PAD-', '-PAD-', '-PAD-', '-PAD-', '-PAD-', '-PAD-', '-PAD-', '-PAD-', '-PAD-', '-PAD-', '-PAD-', '-PAD-', '-PAD-', '-PAD-', '-PAD-', '-PAD-', '-PAD-', '-PAD-', '-PAD-', '-PAD-', '-PAD-', '-PAD-', '-PAD-', '-PAD-', '-PAD-', '-PAD-', '-PAD-', '-PAD-', '-PAD-', '-PAD-', '-PAD-', '-PAD-', '-PAD-', '-PAD-', '-PAD-', '-PAD-', '-PAD-', '-PAD-', '-PAD-', '-PAD-', '-PAD-', '-PAD-', '-PAD-', '-PAD-', '-PAD-', '-PAD-', '-PAD-', '-PAD-', '-PAD-', '-PAD-', '-PAD-', '-PAD-', '-PAD-', '-PAD-', '-PAD-', '-PAD-', '-PAD-', '-PAD-', '-PAD-', '-PAD-', '-PAD-', '-PAD-', '-PAD-', '-PAD-', '-PAD-', '-PAD-', '-PAD-', '-PAD-', '-PAD-', '-PAD-', '-PAD-', '-PAD-', '-PAD-', '-PAD-', '-PAD-', '-PAD-', '-PAD-', '-PAD-', '-PAD-', '-PAD-', '-PAD-', '-PAD-', '-PAD-', '-PAD-', '-PAD-', '-PAD-', '-PAD-', '-PAD-', '-PAD-', '-PAD-', '-PAD-', '-PAD-', '-PAD-', '-PAD-', '-PAD-', '-PAD-', '-PAD-', '-PAD-', '-PAD-', '-PAD-', '-PAD-', '-PAD-', '-PAD-', '-PAD-', '-PAD-', '-PAD-', '-PAD-', '-PAD-', '-PAD-', '-PAD-', '-PAD-', '-PAD-', '-PAD-', '-PAD-', '-PAD-', '-PAD-', '-PAD-', '-PAD-', '-PAD-', '-PAD-', '-PAD-', '-PAD-', '-PAD-', '-PAD-', '-PAD-', '-PAD-', '-PAD-', '-PAD-', '-PAD-', '-PAD-', '-PAD-', '-PAD-', '-PAD-', '-PAD-', '-PAD-', '-PAD-', '-PAD-', '-PAD-', '-PAD-', '-PAD-', '-PAD-', '-PAD-', '-PAD-', '-PAD-', '-PAD-', '-PAD-', '-PAD-', '-PAD-', '-PAD-', '-PAD-', '-PAD-', '-PAD-', '-PAD-', '-PAD-', '-PAD-', '-PAD-', '-PAD-', '-PAD-', '-PAD-', '-PAD-', '-PAD-', '-PAD-', '-PAD-', '-PAD-', '-PAD-', '-PAD-', '-PAD-', '-PAD-', '-PAD-', '-PAD-', '-PAD-', '-PAD-', '-PAD-', '-PAD-', '-PAD-', '-PAD-', '-PAD-', '-PAD-', '-PAD-', '-PAD-', '-PAD-', '-PAD-', '-PAD-']]\n"
          ]
        }
      ],
      "source": [
        "#print(len(predictions))\n",
        "log_tokens = logits_to_tokens(predictions, {i: t for t, i in tag2index.items()})\n",
        "print(log_tokens)"
      ]
    },
    {
      "cell_type": "code",
      "execution_count": 43,
      "id": "74b160eb-4901-4278-a3ec-32fac5bf6d0d",
      "metadata": {
        "colab": {
          "base_uri": "https://localhost:8080/"
        },
        "id": "74b160eb-4901-4278-a3ec-32fac5bf6d0d",
        "outputId": "11d86185-3d9d-455f-8fa3-6f74654d04c5"
      },
      "outputs": [
        {
          "output_type": "stream",
          "name": "stdout",
          "text": [
            "Collecting tabulate\n",
            "  Downloading tabulate-0.9.0-py3-none-any.whl (35 kB)\n",
            "Installing collected packages: tabulate\n",
            "Successfully installed tabulate-0.9.0\n",
            "La    federación    Nacional    de     cafeteros    de     Colombia    es    dirigida    por    Horacio    Sánchez\n",
            "----  ------------  ----------  -----  -----------  -----  ----------  ----  ----------  -----  ---------  ---------\n",
            "O     B-ORG         I-ORG       I-ORG  I-ORG        I-ORG  I-ORG       O     O           O      -PAD-      -PAD-\n",
            "\n",
            "\n",
            "y    se    ubica    en    las    ciudades    de    Cali    y    Medellín    con    el    instituto    colombiano    del    café\n",
            "---  ----  -------  ----  -----  ----------  ----  ------  ---  ----------  -----  ----  -----------  ------------  -----  ------\n",
            "O    O     O        O     O      O           O     B-LOC   O    O           O      O     O            O             O      -PAD-\n"
          ]
        }
      ],
      "source": [
        "!pip install tabulate\n",
        "from tabulate import tabulate\n",
        "\n",
        "heads1 = test_sample2[0]\n",
        "body1 = [log_tokens[0][:len(test_sample2[0])]]\n",
        "\n",
        "heads2 = test_sample2[1]\n",
        "body2 = [log_tokens[1][:len(test_sample2[1])]]\n",
        "\n",
        "print(tabulate(body1, headers=heads1))\n",
        "\n",
        "print (\"\\n\")\n",
        "\n",
        "print(tabulate(body2, headers=heads2))\n",
        "\n",
        "## postagging Freeling 4.1\n",
        "\n",
        "## El      hombre   bajo     corre    bajo  el      puente   con  bajo  índice   de  adrenalina  .\n",
        "## DA0MS0  NCMS000  AQ0MS00  VMIP3S0  SP    DA0MS0  NCMS000  SP   SP    NCMS000  SP  NCFS000     Fp\n",
        "\n",
        "\n",
        "## pos tagger Stanford NLP\n",
        "\n",
        "## El      hombre   bajo     corre    bajo  el      puente   con    bajo   índice  de    adrenalina  .\n",
        "## da0000  nc0s000  aq0000   vmip000  sp000 da0000  nc0s000  sp000  aq0000 nc0s000 sp000 nc0s000     fp"
      ]
    }
  ],
  "metadata": {
    "kernelspec": {
      "display_name": "Python 3",
      "name": "python3"
    },
    "language_info": {
      "codemirror_mode": {
        "name": "ipython",
        "version": 3
      },
      "file_extension": ".py",
      "mimetype": "text/x-python",
      "name": "python",
      "nbconvert_exporter": "python",
      "pygments_lexer": "ipython3",
      "version": "3.10.13"
    },
    "colab": {
      "provenance": [],
      "gpuType": "V28"
    },
    "accelerator": "TPU",
    "widgets": {
      "application/vnd.jupyter.widget-state+json": {
        "14df6579bf674dc5a2b0bbd290e14e09": {
          "model_module": "@jupyter-widgets/controls",
          "model_name": "HBoxModel",
          "model_module_version": "1.5.0",
          "state": {
            "_dom_classes": [],
            "_model_module": "@jupyter-widgets/controls",
            "_model_module_version": "1.5.0",
            "_model_name": "HBoxModel",
            "_view_count": null,
            "_view_module": "@jupyter-widgets/controls",
            "_view_module_version": "1.5.0",
            "_view_name": "HBoxView",
            "box_style": "",
            "children": [
              "IPY_MODEL_97777241d105493faafdfc1c37ab1a66",
              "IPY_MODEL_feca26fe9d3d40dcab57046396d0953b",
              "IPY_MODEL_5a6edf4309db430f918902f0b3f12b78"
            ],
            "layout": "IPY_MODEL_4d61fba8bc89472488ecca0007fad225"
          }
        },
        "97777241d105493faafdfc1c37ab1a66": {
          "model_module": "@jupyter-widgets/controls",
          "model_name": "HTMLModel",
          "model_module_version": "1.5.0",
          "state": {
            "_dom_classes": [],
            "_model_module": "@jupyter-widgets/controls",
            "_model_module_version": "1.5.0",
            "_model_name": "HTMLModel",
            "_view_count": null,
            "_view_module": "@jupyter-widgets/controls",
            "_view_module_version": "1.5.0",
            "_view_name": "HTMLView",
            "description": "",
            "description_tooltip": null,
            "layout": "IPY_MODEL_d1fd0b63c9e4446ca5738381fd7c0272",
            "placeholder": "​",
            "style": "IPY_MODEL_3a78b4101133445b8a8d3ece1546f148",
            "value": ""
          }
        },
        "feca26fe9d3d40dcab57046396d0953b": {
          "model_module": "@jupyter-widgets/controls",
          "model_name": "FloatProgressModel",
          "model_module_version": "1.5.0",
          "state": {
            "_dom_classes": [],
            "_model_module": "@jupyter-widgets/controls",
            "_model_module_version": "1.5.0",
            "_model_name": "FloatProgressModel",
            "_view_count": null,
            "_view_module": "@jupyter-widgets/controls",
            "_view_module_version": "1.5.0",
            "_view_name": "ProgressView",
            "bar_style": "success",
            "description": "",
            "description_tooltip": null,
            "layout": "IPY_MODEL_4b38a34c62d14f9c9e740392cfd032c3",
            "max": 1,
            "min": 0,
            "orientation": "horizontal",
            "style": "IPY_MODEL_5f5b1fdf75784778bd7a8ecaeac98d3f",
            "value": 1
          }
        },
        "5a6edf4309db430f918902f0b3f12b78": {
          "model_module": "@jupyter-widgets/controls",
          "model_name": "HTMLModel",
          "model_module_version": "1.5.0",
          "state": {
            "_dom_classes": [],
            "_model_module": "@jupyter-widgets/controls",
            "_model_module_version": "1.5.0",
            "_model_name": "HTMLModel",
            "_view_count": null,
            "_view_module": "@jupyter-widgets/controls",
            "_view_module_version": "1.5.0",
            "_view_name": "HTMLView",
            "description": "",
            "description_tooltip": null,
            "layout": "IPY_MODEL_fb79da5166574b6dba344b11e749a182",
            "placeholder": "​",
            "style": "IPY_MODEL_bd28524ab7d7493e97b56d673ccf1bb3",
            "value": " 220714/? [00:12&lt;00:00, 19947.32it/s]"
          }
        },
        "4d61fba8bc89472488ecca0007fad225": {
          "model_module": "@jupyter-widgets/base",
          "model_name": "LayoutModel",
          "model_module_version": "1.2.0",
          "state": {
            "_model_module": "@jupyter-widgets/base",
            "_model_module_version": "1.2.0",
            "_model_name": "LayoutModel",
            "_view_count": null,
            "_view_module": "@jupyter-widgets/base",
            "_view_module_version": "1.2.0",
            "_view_name": "LayoutView",
            "align_content": null,
            "align_items": null,
            "align_self": null,
            "border": null,
            "bottom": null,
            "display": null,
            "flex": null,
            "flex_flow": null,
            "grid_area": null,
            "grid_auto_columns": null,
            "grid_auto_flow": null,
            "grid_auto_rows": null,
            "grid_column": null,
            "grid_gap": null,
            "grid_row": null,
            "grid_template_areas": null,
            "grid_template_columns": null,
            "grid_template_rows": null,
            "height": null,
            "justify_content": null,
            "justify_items": null,
            "left": null,
            "margin": null,
            "max_height": null,
            "max_width": null,
            "min_height": null,
            "min_width": null,
            "object_fit": null,
            "object_position": null,
            "order": null,
            "overflow": null,
            "overflow_x": null,
            "overflow_y": null,
            "padding": null,
            "right": null,
            "top": null,
            "visibility": null,
            "width": null
          }
        },
        "d1fd0b63c9e4446ca5738381fd7c0272": {
          "model_module": "@jupyter-widgets/base",
          "model_name": "LayoutModel",
          "model_module_version": "1.2.0",
          "state": {
            "_model_module": "@jupyter-widgets/base",
            "_model_module_version": "1.2.0",
            "_model_name": "LayoutModel",
            "_view_count": null,
            "_view_module": "@jupyter-widgets/base",
            "_view_module_version": "1.2.0",
            "_view_name": "LayoutView",
            "align_content": null,
            "align_items": null,
            "align_self": null,
            "border": null,
            "bottom": null,
            "display": null,
            "flex": null,
            "flex_flow": null,
            "grid_area": null,
            "grid_auto_columns": null,
            "grid_auto_flow": null,
            "grid_auto_rows": null,
            "grid_column": null,
            "grid_gap": null,
            "grid_row": null,
            "grid_template_areas": null,
            "grid_template_columns": null,
            "grid_template_rows": null,
            "height": null,
            "justify_content": null,
            "justify_items": null,
            "left": null,
            "margin": null,
            "max_height": null,
            "max_width": null,
            "min_height": null,
            "min_width": null,
            "object_fit": null,
            "object_position": null,
            "order": null,
            "overflow": null,
            "overflow_x": null,
            "overflow_y": null,
            "padding": null,
            "right": null,
            "top": null,
            "visibility": null,
            "width": null
          }
        },
        "3a78b4101133445b8a8d3ece1546f148": {
          "model_module": "@jupyter-widgets/controls",
          "model_name": "DescriptionStyleModel",
          "model_module_version": "1.5.0",
          "state": {
            "_model_module": "@jupyter-widgets/controls",
            "_model_module_version": "1.5.0",
            "_model_name": "DescriptionStyleModel",
            "_view_count": null,
            "_view_module": "@jupyter-widgets/base",
            "_view_module_version": "1.2.0",
            "_view_name": "StyleView",
            "description_width": ""
          }
        },
        "4b38a34c62d14f9c9e740392cfd032c3": {
          "model_module": "@jupyter-widgets/base",
          "model_name": "LayoutModel",
          "model_module_version": "1.2.0",
          "state": {
            "_model_module": "@jupyter-widgets/base",
            "_model_module_version": "1.2.0",
            "_model_name": "LayoutModel",
            "_view_count": null,
            "_view_module": "@jupyter-widgets/base",
            "_view_module_version": "1.2.0",
            "_view_name": "LayoutView",
            "align_content": null,
            "align_items": null,
            "align_self": null,
            "border": null,
            "bottom": null,
            "display": null,
            "flex": null,
            "flex_flow": null,
            "grid_area": null,
            "grid_auto_columns": null,
            "grid_auto_flow": null,
            "grid_auto_rows": null,
            "grid_column": null,
            "grid_gap": null,
            "grid_row": null,
            "grid_template_areas": null,
            "grid_template_columns": null,
            "grid_template_rows": null,
            "height": null,
            "justify_content": null,
            "justify_items": null,
            "left": null,
            "margin": null,
            "max_height": null,
            "max_width": null,
            "min_height": null,
            "min_width": null,
            "object_fit": null,
            "object_position": null,
            "order": null,
            "overflow": null,
            "overflow_x": null,
            "overflow_y": null,
            "padding": null,
            "right": null,
            "top": null,
            "visibility": null,
            "width": "20px"
          }
        },
        "5f5b1fdf75784778bd7a8ecaeac98d3f": {
          "model_module": "@jupyter-widgets/controls",
          "model_name": "ProgressStyleModel",
          "model_module_version": "1.5.0",
          "state": {
            "_model_module": "@jupyter-widgets/controls",
            "_model_module_version": "1.5.0",
            "_model_name": "ProgressStyleModel",
            "_view_count": null,
            "_view_module": "@jupyter-widgets/base",
            "_view_module_version": "1.2.0",
            "_view_name": "StyleView",
            "bar_color": null,
            "description_width": ""
          }
        },
        "fb79da5166574b6dba344b11e749a182": {
          "model_module": "@jupyter-widgets/base",
          "model_name": "LayoutModel",
          "model_module_version": "1.2.0",
          "state": {
            "_model_module": "@jupyter-widgets/base",
            "_model_module_version": "1.2.0",
            "_model_name": "LayoutModel",
            "_view_count": null,
            "_view_module": "@jupyter-widgets/base",
            "_view_module_version": "1.2.0",
            "_view_name": "LayoutView",
            "align_content": null,
            "align_items": null,
            "align_self": null,
            "border": null,
            "bottom": null,
            "display": null,
            "flex": null,
            "flex_flow": null,
            "grid_area": null,
            "grid_auto_columns": null,
            "grid_auto_flow": null,
            "grid_auto_rows": null,
            "grid_column": null,
            "grid_gap": null,
            "grid_row": null,
            "grid_template_areas": null,
            "grid_template_columns": null,
            "grid_template_rows": null,
            "height": null,
            "justify_content": null,
            "justify_items": null,
            "left": null,
            "margin": null,
            "max_height": null,
            "max_width": null,
            "min_height": null,
            "min_width": null,
            "object_fit": null,
            "object_position": null,
            "order": null,
            "overflow": null,
            "overflow_x": null,
            "overflow_y": null,
            "padding": null,
            "right": null,
            "top": null,
            "visibility": null,
            "width": null
          }
        },
        "bd28524ab7d7493e97b56d673ccf1bb3": {
          "model_module": "@jupyter-widgets/controls",
          "model_name": "DescriptionStyleModel",
          "model_module_version": "1.5.0",
          "state": {
            "_model_module": "@jupyter-widgets/controls",
            "_model_module_version": "1.5.0",
            "_model_name": "DescriptionStyleModel",
            "_view_count": null,
            "_view_module": "@jupyter-widgets/base",
            "_view_module_version": "1.2.0",
            "_view_name": "StyleView",
            "description_width": ""
          }
        },
        "b1670974141e4dbc82ad79afb51bf6ca": {
          "model_module": "@jupyter-widgets/controls",
          "model_name": "HBoxModel",
          "model_module_version": "1.5.0",
          "state": {
            "_dom_classes": [],
            "_model_module": "@jupyter-widgets/controls",
            "_model_module_version": "1.5.0",
            "_model_name": "HBoxModel",
            "_view_count": null,
            "_view_module": "@jupyter-widgets/controls",
            "_view_module_version": "1.5.0",
            "_view_name": "HBoxView",
            "box_style": "",
            "children": [
              "IPY_MODEL_a90f83e4ecc54d4da1d2e62be350a59f",
              "IPY_MODEL_d2553091c7e24da59aeec982690cfed9",
              "IPY_MODEL_146af39703bc464fb49d98345b447fb0"
            ],
            "layout": "IPY_MODEL_c6f76bea40ed4385bc47cdc920fa4a5d"
          }
        },
        "a90f83e4ecc54d4da1d2e62be350a59f": {
          "model_module": "@jupyter-widgets/controls",
          "model_name": "HTMLModel",
          "model_module_version": "1.5.0",
          "state": {
            "_dom_classes": [],
            "_model_module": "@jupyter-widgets/controls",
            "_model_module_version": "1.5.0",
            "_model_name": "HTMLModel",
            "_view_count": null,
            "_view_module": "@jupyter-widgets/controls",
            "_view_module_version": "1.5.0",
            "_view_name": "HTMLView",
            "description": "",
            "description_tooltip": null,
            "layout": "IPY_MODEL_31714326ba894fcfbb3d18375b7b4834",
            "placeholder": "​",
            "style": "IPY_MODEL_525eedaba36e4469bdd3b1fb90f6b6ca",
            "value": "100%"
          }
        },
        "d2553091c7e24da59aeec982690cfed9": {
          "model_module": "@jupyter-widgets/controls",
          "model_name": "FloatProgressModel",
          "model_module_version": "1.5.0",
          "state": {
            "_dom_classes": [],
            "_model_module": "@jupyter-widgets/controls",
            "_model_module_version": "1.5.0",
            "_model_name": "FloatProgressModel",
            "_view_count": null,
            "_view_module": "@jupyter-widgets/controls",
            "_view_module_version": "1.5.0",
            "_view_name": "ProgressView",
            "bar_style": "success",
            "description": "",
            "description_tooltip": null,
            "layout": "IPY_MODEL_b028726b0e1d44dcbe5033ca195089ba",
            "max": 28384,
            "min": 0,
            "orientation": "horizontal",
            "style": "IPY_MODEL_e5f310d2d440457caf1c833799356d7f",
            "value": 28384
          }
        },
        "146af39703bc464fb49d98345b447fb0": {
          "model_module": "@jupyter-widgets/controls",
          "model_name": "HTMLModel",
          "model_module_version": "1.5.0",
          "state": {
            "_dom_classes": [],
            "_model_module": "@jupyter-widgets/controls",
            "_model_module_version": "1.5.0",
            "_model_name": "HTMLModel",
            "_view_count": null,
            "_view_module": "@jupyter-widgets/controls",
            "_view_module_version": "1.5.0",
            "_view_name": "HTMLView",
            "description": "",
            "description_tooltip": null,
            "layout": "IPY_MODEL_093cabb4df514594969a629085efe8c7",
            "placeholder": "​",
            "style": "IPY_MODEL_534a64bc6bbb4a9697f35aa5d782f9b9",
            "value": " 28384/28384 [00:00&lt;00:00, 251239.51it/s]"
          }
        },
        "c6f76bea40ed4385bc47cdc920fa4a5d": {
          "model_module": "@jupyter-widgets/base",
          "model_name": "LayoutModel",
          "model_module_version": "1.2.0",
          "state": {
            "_model_module": "@jupyter-widgets/base",
            "_model_module_version": "1.2.0",
            "_model_name": "LayoutModel",
            "_view_count": null,
            "_view_module": "@jupyter-widgets/base",
            "_view_module_version": "1.2.0",
            "_view_name": "LayoutView",
            "align_content": null,
            "align_items": null,
            "align_self": null,
            "border": null,
            "bottom": null,
            "display": null,
            "flex": null,
            "flex_flow": null,
            "grid_area": null,
            "grid_auto_columns": null,
            "grid_auto_flow": null,
            "grid_auto_rows": null,
            "grid_column": null,
            "grid_gap": null,
            "grid_row": null,
            "grid_template_areas": null,
            "grid_template_columns": null,
            "grid_template_rows": null,
            "height": null,
            "justify_content": null,
            "justify_items": null,
            "left": null,
            "margin": null,
            "max_height": null,
            "max_width": null,
            "min_height": null,
            "min_width": null,
            "object_fit": null,
            "object_position": null,
            "order": null,
            "overflow": null,
            "overflow_x": null,
            "overflow_y": null,
            "padding": null,
            "right": null,
            "top": null,
            "visibility": null,
            "width": null
          }
        },
        "31714326ba894fcfbb3d18375b7b4834": {
          "model_module": "@jupyter-widgets/base",
          "model_name": "LayoutModel",
          "model_module_version": "1.2.0",
          "state": {
            "_model_module": "@jupyter-widgets/base",
            "_model_module_version": "1.2.0",
            "_model_name": "LayoutModel",
            "_view_count": null,
            "_view_module": "@jupyter-widgets/base",
            "_view_module_version": "1.2.0",
            "_view_name": "LayoutView",
            "align_content": null,
            "align_items": null,
            "align_self": null,
            "border": null,
            "bottom": null,
            "display": null,
            "flex": null,
            "flex_flow": null,
            "grid_area": null,
            "grid_auto_columns": null,
            "grid_auto_flow": null,
            "grid_auto_rows": null,
            "grid_column": null,
            "grid_gap": null,
            "grid_row": null,
            "grid_template_areas": null,
            "grid_template_columns": null,
            "grid_template_rows": null,
            "height": null,
            "justify_content": null,
            "justify_items": null,
            "left": null,
            "margin": null,
            "max_height": null,
            "max_width": null,
            "min_height": null,
            "min_width": null,
            "object_fit": null,
            "object_position": null,
            "order": null,
            "overflow": null,
            "overflow_x": null,
            "overflow_y": null,
            "padding": null,
            "right": null,
            "top": null,
            "visibility": null,
            "width": null
          }
        },
        "525eedaba36e4469bdd3b1fb90f6b6ca": {
          "model_module": "@jupyter-widgets/controls",
          "model_name": "DescriptionStyleModel",
          "model_module_version": "1.5.0",
          "state": {
            "_model_module": "@jupyter-widgets/controls",
            "_model_module_version": "1.5.0",
            "_model_name": "DescriptionStyleModel",
            "_view_count": null,
            "_view_module": "@jupyter-widgets/base",
            "_view_module_version": "1.2.0",
            "_view_name": "StyleView",
            "description_width": ""
          }
        },
        "b028726b0e1d44dcbe5033ca195089ba": {
          "model_module": "@jupyter-widgets/base",
          "model_name": "LayoutModel",
          "model_module_version": "1.2.0",
          "state": {
            "_model_module": "@jupyter-widgets/base",
            "_model_module_version": "1.2.0",
            "_model_name": "LayoutModel",
            "_view_count": null,
            "_view_module": "@jupyter-widgets/base",
            "_view_module_version": "1.2.0",
            "_view_name": "LayoutView",
            "align_content": null,
            "align_items": null,
            "align_self": null,
            "border": null,
            "bottom": null,
            "display": null,
            "flex": null,
            "flex_flow": null,
            "grid_area": null,
            "grid_auto_columns": null,
            "grid_auto_flow": null,
            "grid_auto_rows": null,
            "grid_column": null,
            "grid_gap": null,
            "grid_row": null,
            "grid_template_areas": null,
            "grid_template_columns": null,
            "grid_template_rows": null,
            "height": null,
            "justify_content": null,
            "justify_items": null,
            "left": null,
            "margin": null,
            "max_height": null,
            "max_width": null,
            "min_height": null,
            "min_width": null,
            "object_fit": null,
            "object_position": null,
            "order": null,
            "overflow": null,
            "overflow_x": null,
            "overflow_y": null,
            "padding": null,
            "right": null,
            "top": null,
            "visibility": null,
            "width": null
          }
        },
        "e5f310d2d440457caf1c833799356d7f": {
          "model_module": "@jupyter-widgets/controls",
          "model_name": "ProgressStyleModel",
          "model_module_version": "1.5.0",
          "state": {
            "_model_module": "@jupyter-widgets/controls",
            "_model_module_version": "1.5.0",
            "_model_name": "ProgressStyleModel",
            "_view_count": null,
            "_view_module": "@jupyter-widgets/base",
            "_view_module_version": "1.2.0",
            "_view_name": "StyleView",
            "bar_color": null,
            "description_width": ""
          }
        },
        "093cabb4df514594969a629085efe8c7": {
          "model_module": "@jupyter-widgets/base",
          "model_name": "LayoutModel",
          "model_module_version": "1.2.0",
          "state": {
            "_model_module": "@jupyter-widgets/base",
            "_model_module_version": "1.2.0",
            "_model_name": "LayoutModel",
            "_view_count": null,
            "_view_module": "@jupyter-widgets/base",
            "_view_module_version": "1.2.0",
            "_view_name": "LayoutView",
            "align_content": null,
            "align_items": null,
            "align_self": null,
            "border": null,
            "bottom": null,
            "display": null,
            "flex": null,
            "flex_flow": null,
            "grid_area": null,
            "grid_auto_columns": null,
            "grid_auto_flow": null,
            "grid_auto_rows": null,
            "grid_column": null,
            "grid_gap": null,
            "grid_row": null,
            "grid_template_areas": null,
            "grid_template_columns": null,
            "grid_template_rows": null,
            "height": null,
            "justify_content": null,
            "justify_items": null,
            "left": null,
            "margin": null,
            "max_height": null,
            "max_width": null,
            "min_height": null,
            "min_width": null,
            "object_fit": null,
            "object_position": null,
            "order": null,
            "overflow": null,
            "overflow_x": null,
            "overflow_y": null,
            "padding": null,
            "right": null,
            "top": null,
            "visibility": null,
            "width": null
          }
        },
        "534a64bc6bbb4a9697f35aa5d782f9b9": {
          "model_module": "@jupyter-widgets/controls",
          "model_name": "DescriptionStyleModel",
          "model_module_version": "1.5.0",
          "state": {
            "_model_module": "@jupyter-widgets/controls",
            "_model_module_version": "1.5.0",
            "_model_name": "DescriptionStyleModel",
            "_view_count": null,
            "_view_module": "@jupyter-widgets/base",
            "_view_module_version": "1.2.0",
            "_view_name": "StyleView",
            "description_width": ""
          }
        }
      }
    }
  },
  "nbformat": 4,
  "nbformat_minor": 5
}