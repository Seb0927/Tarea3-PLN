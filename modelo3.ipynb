{
  "cells": [
    {
      "cell_type": "markdown",
      "id": "b095802c-df2f-4e5f-8dc6-31c1bb771a2d",
      "metadata": {
        "id": "b095802c-df2f-4e5f-8dc6-31c1bb771a2d"
      },
      "source": [
        "# Modelo 3: LSTM(Bilstm) + CRF + embedding"
      ]
    },
    {
      "cell_type": "markdown",
      "id": "71a035bd-c690-4d9f-8ade-a0ec47203231",
      "metadata": {
        "id": "71a035bd-c690-4d9f-8ade-a0ec47203231"
      },
      "source": [
        "Realizado por:\n",
        "- Jose Luis Hincapie Bucheli (2125340)\n",
        "- Sebastián Idrobo Avirama (2122637)\n",
        "- Paul Rodrigo Rojas Guerrero (2127891)"
      ]
    },
    {
      "cell_type": "markdown",
      "id": "c5761cc7-32b8-436c-860e-a64277550e2a",
      "metadata": {
        "id": "c5761cc7-32b8-436c-860e-a64277550e2a"
      },
      "source": [
        "---"
      ]
    },
    {
      "cell_type": "markdown",
      "source": [
        "# Traer información desde Google Drive"
      ],
      "metadata": {
        "id": "8O2GWnojjdLN"
      },
      "id": "8O2GWnojjdLN"
    },
    {
      "cell_type": "markdown",
      "source": [
        "Si te encuentras usando Google Colab, probablemente necesites descomentar los siguientes bloques de código y modificar las rutas para que funcione con el tuyo:"
      ],
      "metadata": {
        "id": "zje8wRxEhyq7"
      },
      "id": "zje8wRxEhyq7"
    },
    {
      "cell_type": "code",
      "source": [
        "# Borrar esto\n",
        "# from google.colab import drive\n",
        "# drive.mount('/content/drive')"
      ],
      "metadata": {
        "id": "y9bJnezwjPMk",
        "colab": {
          "base_uri": "https://localhost:8080/"
        },
        "outputId": "7b07da28-3ba7-4b82-a39e-815da644d0c4"
      },
      "execution_count": 49,
      "outputs": [
        {
          "output_type": "stream",
          "name": "stdout",
          "text": [
            "Drive already mounted at /content/drive; to attempt to forcibly remount, call drive.mount(\"/content/drive\", force_remount=True).\n"
          ]
        }
      ],
      "id": "y9bJnezwjPMk"
    },
    {
      "cell_type": "code",
      "source": [
        "import sys\n",
        "import os\n",
        "\n",
        "# sys.path.append('/content/drive/My Drive/packages') # Poner Rutas de los paquetes aquí\n",
        "# sys.path.append('/content/drive/My Drive/embeddings') # Poner Rutas de los embeddings aquí\n",
        "\n",
        "# path = '/content/drive/My Drive/packages'\n",
        "\n",
        "# Se verifica que todo se encuentre funcionando correctamente\n",
        "# files = os.listdir(path)\n",
        "# print(files)"
      ],
      "metadata": {
        "id": "hf-D9e0gjvla",
        "colab": {
          "base_uri": "https://localhost:8080/"
        },
        "outputId": "e746b96d-b0dd-46ef-b110-836c2eaf363f"
      },
      "execution_count": 50,
      "outputs": [
        {
          "output_type": "stream",
          "name": "stdout",
          "text": [
            "['wrapper.py', 'tf2crf.py', '__pycache__', 'utils.py', 'crfta.py']\n"
          ]
        }
      ],
      "id": "hf-D9e0gjvla"
    },
    {
      "cell_type": "markdown",
      "source": [
        "---"
      ],
      "metadata": {
        "id": "zu0ih42kjMqg"
      },
      "id": "zu0ih42kjMqg"
    },
    {
      "cell_type": "markdown",
      "id": "7cce5783-8927-40fb-96dc-41dd984c901e",
      "metadata": {
        "id": "7cce5783-8927-40fb-96dc-41dd984c901e"
      },
      "source": [
        "# Instalación e importación de paquetes"
      ]
    },
    {
      "cell_type": "code",
      "execution_count": 51,
      "id": "f1f0d86e-f085-4dcd-8b1a-5df3b9f7ea21",
      "metadata": {
        "id": "f1f0d86e-f085-4dcd-8b1a-5df3b9f7ea21"
      },
      "outputs": [],
      "source": [
        "try:\n",
        "    import seqeval\n",
        "except ModuleNotFoundError as err:\n",
        "    !pip install seqeval"
      ]
    },
    {
      "cell_type": "code",
      "execution_count": 52,
      "id": "dd66d0ac-8648-48ad-9e20-2ef24437fab3",
      "metadata": {
        "colab": {
          "base_uri": "https://localhost:8080/"
        },
        "id": "dd66d0ac-8648-48ad-9e20-2ef24437fab3",
        "outputId": "14ca5296-79ec-44c3-dc35-db75b93c2aea"
      },
      "outputs": [
        {
          "output_type": "stream",
          "name": "stdout",
          "text": [
            "Requirement already satisfied: tensorflow-addons==.0.23.0 in /usr/local/lib/python3.10/dist-packages (0.23.0)\n",
            "Requirement already satisfied: packaging in /usr/local/lib/python3.10/dist-packages (from tensorflow-addons==.0.23.0) (24.0)\n",
            "Requirement already satisfied: typeguard<3.0.0,>=2.7 in /usr/local/lib/python3.10/dist-packages (from tensorflow-addons==.0.23.0) (2.13.3)\n",
            "Requirement already satisfied: tensorflow==2.15.0 in /usr/local/lib/python3.10/dist-packages (2.15.0)\n",
            "Requirement already satisfied: absl-py>=1.0.0 in /usr/local/lib/python3.10/dist-packages (from tensorflow==2.15.0) (1.4.0)\n",
            "Requirement already satisfied: astunparse>=1.6.0 in /usr/local/lib/python3.10/dist-packages (from tensorflow==2.15.0) (1.6.3)\n",
            "Requirement already satisfied: flatbuffers>=23.5.26 in /usr/local/lib/python3.10/dist-packages (from tensorflow==2.15.0) (24.3.25)\n",
            "Requirement already satisfied: gast!=0.5.0,!=0.5.1,!=0.5.2,>=0.2.1 in /usr/local/lib/python3.10/dist-packages (from tensorflow==2.15.0) (0.5.4)\n",
            "Requirement already satisfied: google-pasta>=0.1.1 in /usr/local/lib/python3.10/dist-packages (from tensorflow==2.15.0) (0.2.0)\n",
            "Requirement already satisfied: h5py>=2.9.0 in /usr/local/lib/python3.10/dist-packages (from tensorflow==2.15.0) (3.11.0)\n",
            "Requirement already satisfied: libclang>=13.0.0 in /usr/local/lib/python3.10/dist-packages (from tensorflow==2.15.0) (18.1.1)\n",
            "Requirement already satisfied: ml-dtypes~=0.2.0 in /usr/local/lib/python3.10/dist-packages (from tensorflow==2.15.0) (0.2.0)\n",
            "Requirement already satisfied: numpy<2.0.0,>=1.23.5 in /usr/local/lib/python3.10/dist-packages (from tensorflow==2.15.0) (1.25.2)\n",
            "Requirement already satisfied: opt-einsum>=2.3.2 in /usr/local/lib/python3.10/dist-packages (from tensorflow==2.15.0) (3.3.0)\n",
            "Requirement already satisfied: packaging in /usr/local/lib/python3.10/dist-packages (from tensorflow==2.15.0) (24.0)\n",
            "Requirement already satisfied: protobuf!=4.21.0,!=4.21.1,!=4.21.2,!=4.21.3,!=4.21.4,!=4.21.5,<5.0.0dev,>=3.20.3 in /usr/local/lib/python3.10/dist-packages (from tensorflow==2.15.0) (3.20.3)\n",
            "Requirement already satisfied: setuptools in /usr/local/lib/python3.10/dist-packages (from tensorflow==2.15.0) (67.7.2)\n",
            "Requirement already satisfied: six>=1.12.0 in /usr/local/lib/python3.10/dist-packages (from tensorflow==2.15.0) (1.16.0)\n",
            "Requirement already satisfied: termcolor>=1.1.0 in /usr/local/lib/python3.10/dist-packages (from tensorflow==2.15.0) (2.4.0)\n",
            "Requirement already satisfied: typing-extensions>=3.6.6 in /usr/local/lib/python3.10/dist-packages (from tensorflow==2.15.0) (4.11.0)\n",
            "Requirement already satisfied: wrapt<1.15,>=1.11.0 in /usr/local/lib/python3.10/dist-packages (from tensorflow==2.15.0) (1.14.1)\n",
            "Requirement already satisfied: tensorflow-io-gcs-filesystem>=0.23.1 in /usr/local/lib/python3.10/dist-packages (from tensorflow==2.15.0) (0.37.0)\n",
            "Requirement already satisfied: grpcio<2.0,>=1.24.3 in /usr/local/lib/python3.10/dist-packages (from tensorflow==2.15.0) (1.63.0)\n",
            "Requirement already satisfied: tensorboard<2.16,>=2.15 in /usr/local/lib/python3.10/dist-packages (from tensorflow==2.15.0) (2.15.2)\n",
            "Requirement already satisfied: tensorflow-estimator<2.16,>=2.15.0 in /usr/local/lib/python3.10/dist-packages (from tensorflow==2.15.0) (2.15.0)\n",
            "Requirement already satisfied: keras<2.16,>=2.15.0 in /usr/local/lib/python3.10/dist-packages (from tensorflow==2.15.0) (2.15.0)\n",
            "Requirement already satisfied: wheel<1.0,>=0.23.0 in /usr/local/lib/python3.10/dist-packages (from astunparse>=1.6.0->tensorflow==2.15.0) (0.43.0)\n",
            "Requirement already satisfied: google-auth<3,>=1.6.3 in /usr/local/lib/python3.10/dist-packages (from tensorboard<2.16,>=2.15->tensorflow==2.15.0) (2.27.0)\n",
            "Requirement already satisfied: google-auth-oauthlib<2,>=0.5 in /usr/local/lib/python3.10/dist-packages (from tensorboard<2.16,>=2.15->tensorflow==2.15.0) (1.2.0)\n",
            "Requirement already satisfied: markdown>=2.6.8 in /usr/local/lib/python3.10/dist-packages (from tensorboard<2.16,>=2.15->tensorflow==2.15.0) (3.6)\n",
            "Requirement already satisfied: requests<3,>=2.21.0 in /usr/local/lib/python3.10/dist-packages (from tensorboard<2.16,>=2.15->tensorflow==2.15.0) (2.31.0)\n",
            "Requirement already satisfied: tensorboard-data-server<0.8.0,>=0.7.0 in /usr/local/lib/python3.10/dist-packages (from tensorboard<2.16,>=2.15->tensorflow==2.15.0) (0.7.2)\n",
            "Requirement already satisfied: werkzeug>=1.0.1 in /usr/local/lib/python3.10/dist-packages (from tensorboard<2.16,>=2.15->tensorflow==2.15.0) (3.0.2)\n",
            "Requirement already satisfied: cachetools<6.0,>=2.0.0 in /usr/local/lib/python3.10/dist-packages (from google-auth<3,>=1.6.3->tensorboard<2.16,>=2.15->tensorflow==2.15.0) (5.3.3)\n",
            "Requirement already satisfied: pyasn1-modules>=0.2.1 in /usr/local/lib/python3.10/dist-packages (from google-auth<3,>=1.6.3->tensorboard<2.16,>=2.15->tensorflow==2.15.0) (0.4.0)\n",
            "Requirement already satisfied: rsa<5,>=3.1.4 in /usr/local/lib/python3.10/dist-packages (from google-auth<3,>=1.6.3->tensorboard<2.16,>=2.15->tensorflow==2.15.0) (4.9)\n",
            "Requirement already satisfied: requests-oauthlib>=0.7.0 in /usr/local/lib/python3.10/dist-packages (from google-auth-oauthlib<2,>=0.5->tensorboard<2.16,>=2.15->tensorflow==2.15.0) (2.0.0)\n",
            "Requirement already satisfied: charset-normalizer<4,>=2 in /usr/local/lib/python3.10/dist-packages (from requests<3,>=2.21.0->tensorboard<2.16,>=2.15->tensorflow==2.15.0) (3.3.2)\n",
            "Requirement already satisfied: idna<4,>=2.5 in /usr/local/lib/python3.10/dist-packages (from requests<3,>=2.21.0->tensorboard<2.16,>=2.15->tensorflow==2.15.0) (3.7)\n",
            "Requirement already satisfied: urllib3<3,>=1.21.1 in /usr/local/lib/python3.10/dist-packages (from requests<3,>=2.21.0->tensorboard<2.16,>=2.15->tensorflow==2.15.0) (2.0.7)\n",
            "Requirement already satisfied: certifi>=2017.4.17 in /usr/local/lib/python3.10/dist-packages (from requests<3,>=2.21.0->tensorboard<2.16,>=2.15->tensorflow==2.15.0) (2024.2.2)\n",
            "Requirement already satisfied: MarkupSafe>=2.1.1 in /usr/local/lib/python3.10/dist-packages (from werkzeug>=1.0.1->tensorboard<2.16,>=2.15->tensorflow==2.15.0) (2.1.5)\n",
            "Requirement already satisfied: pyasn1<0.7.0,>=0.4.6 in /usr/local/lib/python3.10/dist-packages (from pyasn1-modules>=0.2.1->google-auth<3,>=1.6.3->tensorboard<2.16,>=2.15->tensorflow==2.15.0) (0.6.0)\n",
            "Requirement already satisfied: oauthlib>=3.0.0 in /usr/local/lib/python3.10/dist-packages (from requests-oauthlib>=0.7.0->google-auth-oauthlib<2,>=0.5->tensorboard<2.16,>=2.15->tensorflow==2.15.0) (3.2.2)\n",
            "Requirement already satisfied: keras==2.15.0 in /usr/local/lib/python3.10/dist-packages (2.15.0)\n",
            "Requirement already satisfied: nltk==3.8.1 in /usr/local/lib/python3.10/dist-packages (3.8.1)\n",
            "Requirement already satisfied: click in /usr/local/lib/python3.10/dist-packages (from nltk==3.8.1) (8.1.7)\n",
            "Requirement already satisfied: joblib in /usr/local/lib/python3.10/dist-packages (from nltk==3.8.1) (1.4.0)\n",
            "Requirement already satisfied: regex>=2021.8.3 in /usr/local/lib/python3.10/dist-packages (from nltk==3.8.1) (2024.4.28)\n",
            "Requirement already satisfied: tqdm in /usr/local/lib/python3.10/dist-packages (from nltk==3.8.1) (4.66.2)\n",
            "Requirement already satisfied: seqeval in /usr/local/lib/python3.10/dist-packages (1.2.2)\n",
            "Requirement already satisfied: numpy>=1.14.0 in /usr/local/lib/python3.10/dist-packages (from seqeval) (1.25.2)\n",
            "Requirement already satisfied: scikit-learn>=0.21.3 in /usr/local/lib/python3.10/dist-packages (from seqeval) (1.2.2)\n",
            "Requirement already satisfied: scipy>=1.3.2 in /usr/local/lib/python3.10/dist-packages (from scikit-learn>=0.21.3->seqeval) (1.11.4)\n",
            "Requirement already satisfied: joblib>=1.1.1 in /usr/local/lib/python3.10/dist-packages (from scikit-learn>=0.21.3->seqeval) (1.4.0)\n",
            "Requirement already satisfied: threadpoolctl>=2.0.0 in /usr/local/lib/python3.10/dist-packages (from scikit-learn>=0.21.3->seqeval) (3.5.0)\n",
            "Requirement already satisfied: gensim in /usr/local/lib/python3.10/dist-packages (4.3.2)\n",
            "Requirement already satisfied: numpy>=1.18.5 in /usr/local/lib/python3.10/dist-packages (from gensim) (1.25.2)\n",
            "Requirement already satisfied: scipy>=1.7.0 in /usr/local/lib/python3.10/dist-packages (from gensim) (1.11.4)\n",
            "Requirement already satisfied: smart-open>=1.8.1 in /usr/local/lib/python3.10/dist-packages (from gensim) (6.4.0)\n"
          ]
        }
      ],
      "source": [
        "!pip install tensorflow-addons==.0.23.0\n",
        "!pip install tensorflow==2.15.0\n",
        "!pip install keras==2.15.0\n",
        "!pip install nltk==3.8.1\n",
        "!pip install seqeval\n",
        "!pip install gensim"
      ]
    },
    {
      "cell_type": "code",
      "execution_count": 53,
      "id": "489dcebf-00a8-4a87-953c-100f8db5fc93",
      "metadata": {
        "id": "489dcebf-00a8-4a87-953c-100f8db5fc93"
      },
      "outputs": [],
      "source": [
        "import sys\n",
        "import os\n",
        "\n",
        "# Add the directory to the system path\n",
        "sys.path.append('/packages')"
      ]
    },
    {
      "cell_type": "code",
      "execution_count": 54,
      "id": "217f3668-0831-47ab-a93f-61f2fe940be7",
      "metadata": {
        "id": "217f3668-0831-47ab-a93f-61f2fe940be7"
      },
      "outputs": [],
      "source": [
        "import tensorflow as tf\n",
        "#matplotlib inline\n",
        "import matplotlib.pyplot as plt\n",
        "plt.style.use('ggplot')\n",
        "import os\n",
        "for dirname, _, filenames in os.walk('/kaggle/input'):\n",
        "    for filename in filenames:\n",
        "        print(os.path.join(dirname, filename))"
      ]
    },
    {
      "cell_type": "code",
      "execution_count": 55,
      "id": "1e4f53f7-79fb-4e9a-bb60-fe71a852f7b3",
      "metadata": {
        "id": "1e4f53f7-79fb-4e9a-bb60-fe71a852f7b3"
      },
      "outputs": [],
      "source": [
        "import tensorflow as tf\n",
        "import matplotlib.pyplot as plt\n",
        "import numpy as np\n",
        "import pickle\n",
        "import pandas as pd\n",
        "from itertools import islice\n",
        "\n",
        "#from tabulate import tabulate\n",
        "from sklearn.metrics import confusion_matrix\n",
        "from sklearn.metrics import classification_report as eskclarep\n",
        "#from seqeval.metrics import precision_score, recall_score, f1_score, accuracy_score\n",
        "#from seqeval.metrics import classification_report as seqclarep\n",
        "from sklearn.preprocessing import LabelBinarizer\n",
        "from itertools import chain\n",
        "\n",
        "from tensorflow.keras.preprocessing.sequence import pad_sequences\n",
        "from tensorflow.keras.models import Model, Sequential\n",
        "from tensorflow.keras.layers import Concatenate, Lambda, Input, LSTM, Embedding, Dense, TimeDistributed, Dropout, Bidirectional, InputLayer, Activation, Flatten\n",
        "from tensorflow.keras.optimizers import Adam, schedules\n",
        "from crfta import CRF as crf4\n",
        "from utils import build_matrix_embeddings as bme, plot_model_performance, logits_to_tokens, report_to_df\n",
        "\n",
        "from tensorflow.keras.callbacks import ModelCheckpoint\n",
        "from tensorflow.keras.callbacks import TensorBoard\n",
        "\n",
        "from IPython.core.display import display, HTML\n",
        "\n",
        "import datetime, os\n",
        "import random\n",
        "import seqeval"
      ]
    },
    {
      "cell_type": "markdown",
      "id": "ad1f21a5-7698-4da0-8345-177febeeef5c",
      "metadata": {
        "id": "ad1f21a5-7698-4da0-8345-177febeeef5c"
      },
      "source": [
        "# Importación de dataset conll2002"
      ]
    },
    {
      "cell_type": "code",
      "execution_count": 56,
      "id": "2593432c-ffa7-4ca3-aa6a-ba804166c76e",
      "metadata": {
        "colab": {
          "base_uri": "https://localhost:8080/"
        },
        "id": "2593432c-ffa7-4ca3-aa6a-ba804166c76e",
        "outputId": "484b8f08-0518-4338-e8df-d54d8465dde1"
      },
      "outputs": [
        {
          "output_type": "stream",
          "name": "stderr",
          "text": [
            "[nltk_data] Downloading package conll2002 to /root/nltk_data...\n",
            "[nltk_data]   Package conll2002 is already up-to-date!\n"
          ]
        },
        {
          "output_type": "execute_result",
          "data": {
            "text/plain": [
              "['esp.testa', 'esp.testb', 'esp.train', 'ned.testa', 'ned.testb', 'ned.train']"
            ]
          },
          "metadata": {},
          "execution_count": 56
        }
      ],
      "source": [
        "import nltk\n",
        "nltk.download('conll2002')\n",
        "nltk.corpus.conll2002.fileids()"
      ]
    },
    {
      "cell_type": "code",
      "execution_count": 57,
      "id": "6283fecd-1aab-45b8-b7fc-651df2ab0995",
      "metadata": {
        "colab": {
          "base_uri": "https://localhost:8080/"
        },
        "id": "6283fecd-1aab-45b8-b7fc-651df2ab0995",
        "outputId": "6bfbfda9-df4f-414c-84e1-2f7b111898b5"
      },
      "outputs": [
        {
          "output_type": "stream",
          "name": "stdout",
          "text": [
            "8323 1238\n",
            "1517 202\n",
            "1915 141\n"
          ]
        }
      ],
      "source": [
        "train_sents = list(nltk.corpus.conll2002.iob_sents('esp.train'))\n",
        "test_sents = list(nltk.corpus.conll2002.iob_sents('esp.testb'))\n",
        "eval_sents = list(nltk.corpus.conll2002.iob_sents('esp.testa'))\n",
        "print(len(train_sents),len(max(train_sents,key=len)))\n",
        "print(len(test_sents),len(max(test_sents,key=len)))\n",
        "print(len(eval_sents),len(max(eval_sents,key=len)))"
      ]
    },
    {
      "cell_type": "code",
      "execution_count": 58,
      "id": "c011a8e4-ac09-4758-856e-f5c695dd90bc",
      "metadata": {
        "colab": {
          "base_uri": "https://localhost:8080/"
        },
        "id": "c011a8e4-ac09-4758-856e-f5c695dd90bc",
        "outputId": "004f7a2d-bacc-4c79-bb4a-5505ca1a5cbb"
      },
      "outputs": [
        {
          "output_type": "stream",
          "name": "stdout",
          "text": [
            "[('Melbourne', 'NP', 'B-LOC'), ('(', 'Fpa', 'O'), ('Australia', 'NP', 'B-LOC'), (')', 'Fpt', 'O'), (',', 'Fc', 'O'), ('25', 'Z', 'O'), ('may', 'NC', 'O'), ('(', 'Fpa', 'O'), ('EFE', 'NC', 'B-ORG'), (')', 'Fpt', 'O'), ('.', 'Fp', 'O')]\n"
          ]
        }
      ],
      "source": [
        "print(train_sents[0])"
      ]
    },
    {
      "cell_type": "markdown",
      "id": "af7e17f3-5d2c-4c13-b4a2-50ea681cf9ee",
      "metadata": {
        "id": "af7e17f3-5d2c-4c13-b4a2-50ea681cf9ee"
      },
      "source": [
        "# Parte 1: Preprocesamiento de los datos"
      ]
    },
    {
      "cell_type": "markdown",
      "id": "a60fc893-8440-4c03-ab84-9ee1029ff4d4",
      "metadata": {
        "id": "a60fc893-8440-4c03-ab84-9ee1029ff4d4"
      },
      "source": [
        "En esta parte, los datos que serán utilizados -conll2002- deben de ser procesados de tal manera que los tokens y labels sean separados y accedidos por medio de listas de índices y convertir las sentencias de representaciones textuales a secuencias de índices."
      ]
    },
    {
      "cell_type": "code",
      "execution_count": 59,
      "id": "8ac0656f-6133-4360-987e-d898a83a3b8f",
      "metadata": {
        "id": "8ac0656f-6133-4360-987e-d898a83a3b8f"
      },
      "outputs": [],
      "source": [
        "def sent2labels(sent):\n",
        "    return [label for token, postag, label in sent]\n",
        "\n",
        "def sent2tokens(sent):\n",
        "    return [token for token, postag, label in sent]"
      ]
    },
    {
      "cell_type": "code",
      "execution_count": 60,
      "id": "61f1b24f-bd70-46b9-b4d1-dc20f113cf0e",
      "metadata": {
        "id": "61f1b24f-bd70-46b9-b4d1-dc20f113cf0e"
      },
      "outputs": [],
      "source": [
        "X_train = [sent2tokens(s) for s in train_sents]\n",
        "y_train = [sent2labels(s) for s in train_sents]\n",
        "\n",
        "X_test = [sent2tokens(s) for s in test_sents]\n",
        "y_test = [sent2labels(s) for s in test_sents]\n",
        "\n",
        "X_eval = [sent2tokens(s) for s in eval_sents]\n",
        "y_eval = [sent2labels(s) for s in eval_sents]"
      ]
    },
    {
      "cell_type": "code",
      "execution_count": 61,
      "id": "2ecfceae-3ea8-45b7-ba19-15e03ed51411",
      "metadata": {
        "colab": {
          "base_uri": "https://localhost:8080/"
        },
        "id": "2ecfceae-3ea8-45b7-ba19-15e03ed51411",
        "outputId": "e5bedcd7-1cd7-4b11-b0c7-df466031a277"
      },
      "outputs": [
        {
          "output_type": "stream",
          "name": "stdout",
          "text": [
            "['El', 'Abogado', 'General', 'del', 'Estado', ',', 'Daryl', 'Williams', ',', 'subrayó', 'hoy', 'la', 'necesidad', 'de', 'tomar', 'medidas', 'para', 'proteger', 'al', 'sistema', 'judicial', 'australiano', 'frente', 'a', 'una', 'página', 'de', 'internet', 'que', 'imposibilita', 'el', 'cumplimiento', 'de', 'los', 'principios', 'básicos', 'de', 'la', 'Ley', '.']\n",
            "['O', 'B-PER', 'I-PER', 'I-PER', 'I-PER', 'O', 'B-PER', 'I-PER', 'O', 'O', 'O', 'O', 'O', 'O', 'O', 'O', 'O', 'O', 'O', 'O', 'O', 'O', 'O', 'O', 'O', 'O', 'O', 'O', 'O', 'O', 'O', 'O', 'O', 'O', 'O', 'O', 'O', 'O', 'B-MISC', 'O']\n"
          ]
        }
      ],
      "source": [
        "print(X_train[2])\n",
        "print(y_train[2])"
      ]
    },
    {
      "cell_type": "code",
      "execution_count": 62,
      "id": "860205da-836e-4f04-8763-170df4de032f",
      "metadata": {
        "colab": {
          "base_uri": "https://localhost:8080/"
        },
        "id": "860205da-836e-4f04-8763-170df4de032f",
        "outputId": "cee65567-af8e-4d8c-b84d-bcfbc49a20a9"
      },
      "outputs": [
        {
          "output_type": "stream",
          "name": "stdout",
          "text": [
            "28384\n",
            "11\n",
            "{'I-PER': 2, 'I-MISC': 3, 'B-ORG': 4, 'B-MISC': 5, 'B-LOC': 6, 'I-ORG': 7, 'I-LOC': 8, 'B-PER': 9, 'O': 10, '-PAD-': 0, '-OOV-': 1}\n",
            "{'I-PER', 'I-MISC', 'B-ORG', 'B-MISC', 'B-LOC', 'I-ORG', 'I-LOC', 'B-PER', 'O'}\n"
          ]
        }
      ],
      "source": [
        "import numpy as np\n",
        "\n",
        "words, tagsss = set([]), set([])\n",
        "\n",
        "for s in (X_train + X_eval + X_test):\n",
        "    for w in s:\n",
        "        words.add(w.lower())\n",
        "\n",
        "for ts in (y_train + y_eval + y_test):\n",
        "    for t in ts:\n",
        "        tagsss.add(t)\n",
        "\n",
        "word2index = {w: i + 2 for i, w in enumerate(list(words))}\n",
        "word2index['-PAD-'] = 0  # The special value used for padding\n",
        "word2index['-OOV-'] = 1  # The special value used for OOVs\n",
        "\n",
        "tag2index = {t: i + 2 for i, t in enumerate(list(tagsss))}\n",
        "tag2index['-PAD-'] = 0  # The special value used to padding\n",
        "tag2index['-OOV-'] = 1  # The special value used to padding\n",
        "\n",
        "print (len(word2index))\n",
        "print (len(tag2index))\n",
        "print(tag2index)\n",
        "\n",
        "\n",
        "print(tagsss)"
      ]
    },
    {
      "cell_type": "code",
      "execution_count": 63,
      "id": "0691246a-ea07-4e07-a5a5-72f88a397c32",
      "metadata": {
        "id": "0691246a-ea07-4e07-a5a5-72f88a397c32"
      },
      "outputs": [],
      "source": [
        "train_sentences_X, eval_sentences_X, test_sentences_X, train_tags_y, eval_tags_y, test_tags_y = [], [], [], [], [], []\n",
        "\n",
        "for s in X_train:\n",
        "    s_int = []\n",
        "    for w in s:\n",
        "        try:\n",
        "            s_int.append(word2index[w.lower()])\n",
        "        except KeyError:\n",
        "            s_int.append(word2index['-OOV-'])\n",
        "\n",
        "    train_sentences_X.append(s_int)\n",
        "\n",
        "for s in X_eval:\n",
        "    s_int = []\n",
        "    for w in s:\n",
        "        try:\n",
        "            s_int.append(word2index[w.lower()])\n",
        "        except KeyError:\n",
        "            s_int.append(word2index['-OOV-'])\n",
        "\n",
        "    eval_sentences_X.append(s_int)\n",
        "\n",
        "for s in X_test:\n",
        "    s_int = []\n",
        "    for w in s:\n",
        "        try:\n",
        "            s_int.append(word2index[w.lower()])\n",
        "        except KeyError:\n",
        "            s_int.append(word2index['-OOV-'])\n",
        "\n",
        "    test_sentences_X.append(s_int)\n",
        "\n",
        "for s in y_train:\n",
        "    s_int = []\n",
        "    for w in s:\n",
        "        try:\n",
        "            s_int.append(tag2index[w])\n",
        "        except KeyError:\n",
        "            s_int.append(tag2index['-OOV-'])\n",
        "\n",
        "    train_tags_y.append(s_int)\n",
        "\n",
        "for s in y_eval:\n",
        "    s_int = []\n",
        "    for w in s:\n",
        "        try:\n",
        "            s_int.append(tag2index[w])\n",
        "        except KeyError:\n",
        "            s_int.append(tag2index['-OOV-'])\n",
        "\n",
        "    eval_tags_y.append(s_int)\n",
        "\n",
        "for s in y_test:\n",
        "    s_int = []\n",
        "    for w in s:\n",
        "        try:\n",
        "            s_int.append(tag2index[w])\n",
        "        except KeyError:\n",
        "            s_int.append(tag2index['-OOV-'])\n",
        "\n",
        "    test_tags_y.append(s_int)\n"
      ]
    },
    {
      "cell_type": "code",
      "execution_count": 64,
      "id": "dab839cb-b45a-4c41-860d-868d4f57180a",
      "metadata": {
        "colab": {
          "base_uri": "https://localhost:8080/"
        },
        "id": "dab839cb-b45a-4c41-860d-868d4f57180a",
        "outputId": "1a227720-6c5b-4a85-a2f2-1023ff6ea9da"
      },
      "outputs": [
        {
          "output_type": "stream",
          "name": "stdout",
          "text": [
            "Longitudes de las Matrices:\n",
            "8323\n",
            "1915\n",
            "1517\n",
            "8323\n",
            "1915\n",
            "1517\n",
            "\n",
            "Muestra de Datos presentes en las Matrices con las transformaciones:\n",
            "\n",
            "[1946, 16702, 22081, 28086, 1222, 18613, 6880, 16702, 26598, 28086, 1764]\n",
            "[10486, 10258, 16702, 3585, 28086, 1222, 13000, 6880, 16702, 13584, 28086, 1764]\n",
            "[10837, 24702, 1222, 13000, 6880, 16702, 13584, 28086, 1764]\n",
            "[6, 10, 6, 10, 10, 10, 10, 10, 4, 10, 10]\n",
            "[6, 8, 10, 6, 10, 10, 10, 10, 10, 4, 10, 10]\n",
            "[6, 8, 10, 10, 10, 10, 4, 10, 10]\n"
          ]
        }
      ],
      "source": [
        "print(\"Longitudes de las Matrices:\")\n",
        "print(len(train_sentences_X))\n",
        "print(len(eval_sentences_X))\n",
        "print(len( test_sentences_X))\n",
        "print(len(train_tags_y))\n",
        "print(len(eval_tags_y))\n",
        "print(len(test_tags_y))\n",
        "\n",
        "print(\"\\nMuestra de Datos presentes en las Matrices con las transformaciones:\\n\")\n",
        "\n",
        "\n",
        "print(train_sentences_X[0])\n",
        "print(eval_sentences_X[0])\n",
        "print(test_sentences_X[0])\n",
        "print(train_tags_y[0])\n",
        "print(eval_tags_y[0])\n",
        "print(test_tags_y[0])\n"
      ]
    },
    {
      "cell_type": "markdown",
      "id": "57d9daf3-60a9-45ca-8df4-533caf452818",
      "metadata": {
        "id": "57d9daf3-60a9-45ca-8df4-533caf452818"
      },
      "source": [
        "Una vez con estas variables, se debe de normalizar las matrices a partir de MAX_LENGTH, requiriendo de un array estático para servir como input de la RNN."
      ]
    },
    {
      "cell_type": "code",
      "execution_count": 65,
      "id": "7446a9f3-11e1-429f-82c8-7836b807ea19",
      "metadata": {
        "colab": {
          "base_uri": "https://localhost:8080/"
        },
        "id": "7446a9f3-11e1-429f-82c8-7836b807ea19",
        "outputId": "a500c282-6800-4587-9bc8-6b803f083b3c"
      },
      "outputs": [
        {
          "output_type": "stream",
          "name": "stdout",
          "text": [
            "[ 1946 16702 22081 28086  1222 18613  6880 16702 26598 28086  1764     0\n",
            "     0     0     0     0     0     0     0     0     0     0     0     0\n",
            "     0     0     0     0     0     0     0     0     0     0     0     0\n",
            "     0     0     0     0     0     0     0     0     0     0     0     0\n",
            "     0     0     0     0     0     0     0     0     0     0     0     0\n",
            "     0     0     0     0     0     0     0     0     0     0     0     0\n",
            "     0     0     0     0     0     0     0     0     0     0     0     0\n",
            "     0     0     0     0     0     0     0     0     0     0     0     0\n",
            "     0     0     0     0     0     0     0     0     0     0     0     0\n",
            "     0     0     0     0     0     0     0     0     0     0     0     0\n",
            "     0     0     0     0     0     0     0     0     0     0     0     0\n",
            "     0     0     0     0     0     0     0     0     0     0     0     0\n",
            "     0     0     0     0     0     0     0     0     0     0     0     0\n",
            "     0     0     0     0     0     0     0     0     0     0     0     0\n",
            "     0     0     0     0     0     0     0     0     0     0     0     0\n",
            "     0     0     0     0     0     0     0     0     0     0     0     0\n",
            "     0     0     0     0     0     0     0     0     0     0]\n",
            "(8323, 202)\n",
            "[10486 10258 16702  3585 28086  1222 13000  6880 16702 13584 28086  1764\n",
            "     0     0     0     0     0     0     0     0     0     0     0     0\n",
            "     0     0     0     0     0     0     0     0     0     0     0     0\n",
            "     0     0     0     0     0     0     0     0     0     0     0     0\n",
            "     0     0     0     0     0     0     0     0     0     0     0     0\n",
            "     0     0     0     0     0     0     0     0     0     0     0     0\n",
            "     0     0     0     0     0     0     0     0     0     0     0     0\n",
            "     0     0     0     0     0     0     0     0     0     0     0     0\n",
            "     0     0     0     0     0     0     0     0     0     0     0     0\n",
            "     0     0     0     0     0     0     0     0     0     0     0     0\n",
            "     0     0     0     0     0     0     0     0     0     0     0     0\n",
            "     0     0     0     0     0     0     0     0     0     0     0     0\n",
            "     0     0     0     0     0     0     0     0     0     0     0     0\n",
            "     0     0     0     0     0     0     0     0     0     0     0     0\n",
            "     0     0     0     0     0     0     0     0     0     0     0     0\n",
            "     0     0     0     0     0     0     0     0     0     0     0     0\n",
            "     0     0     0     0     0     0     0     0     0     0]\n",
            "(1915, 202)\n",
            "[10837 24702  1222 13000  6880 16702 13584 28086  1764     0     0     0\n",
            "     0     0     0     0     0     0     0     0     0     0     0     0\n",
            "     0     0     0     0     0     0     0     0     0     0     0     0\n",
            "     0     0     0     0     0     0     0     0     0     0     0     0\n",
            "     0     0     0     0     0     0     0     0     0     0     0     0\n",
            "     0     0     0     0     0     0     0     0     0     0     0     0\n",
            "     0     0     0     0     0     0     0     0     0     0     0     0\n",
            "     0     0     0     0     0     0     0     0     0     0     0     0\n",
            "     0     0     0     0     0     0     0     0     0     0     0     0\n",
            "     0     0     0     0     0     0     0     0     0     0     0     0\n",
            "     0     0     0     0     0     0     0     0     0     0     0     0\n",
            "     0     0     0     0     0     0     0     0     0     0     0     0\n",
            "     0     0     0     0     0     0     0     0     0     0     0     0\n",
            "     0     0     0     0     0     0     0     0     0     0     0     0\n",
            "     0     0     0     0     0     0     0     0     0     0     0     0\n",
            "     0     0     0     0     0     0     0     0     0     0     0     0\n",
            "     0     0     0     0     0     0     0     0     0     0]\n",
            "(1517, 202)\n",
            "[ 6 10  6 10 10 10 10 10  4 10 10  0  0  0  0  0  0  0  0  0  0  0  0  0\n",
            "  0  0  0  0  0  0  0  0  0  0  0  0  0  0  0  0  0  0  0  0  0  0  0  0\n",
            "  0  0  0  0  0  0  0  0  0  0  0  0  0  0  0  0  0  0  0  0  0  0  0  0\n",
            "  0  0  0  0  0  0  0  0  0  0  0  0  0  0  0  0  0  0  0  0  0  0  0  0\n",
            "  0  0  0  0  0  0  0  0  0  0  0  0  0  0  0  0  0  0  0  0  0  0  0  0\n",
            "  0  0  0  0  0  0  0  0  0  0  0  0  0  0  0  0  0  0  0  0  0  0  0  0\n",
            "  0  0  0  0  0  0  0  0  0  0  0  0  0  0  0  0  0  0  0  0  0  0  0  0\n",
            "  0  0  0  0  0  0  0  0  0  0  0  0  0  0  0  0  0  0  0  0  0  0  0  0\n",
            "  0  0  0  0  0  0  0  0  0  0]\n",
            "(8323, 202)\n",
            "[ 6  8 10  6 10 10 10 10 10  4 10 10  0  0  0  0  0  0  0  0  0  0  0  0\n",
            "  0  0  0  0  0  0  0  0  0  0  0  0  0  0  0  0  0  0  0  0  0  0  0  0\n",
            "  0  0  0  0  0  0  0  0  0  0  0  0  0  0  0  0  0  0  0  0  0  0  0  0\n",
            "  0  0  0  0  0  0  0  0  0  0  0  0  0  0  0  0  0  0  0  0  0  0  0  0\n",
            "  0  0  0  0  0  0  0  0  0  0  0  0  0  0  0  0  0  0  0  0  0  0  0  0\n",
            "  0  0  0  0  0  0  0  0  0  0  0  0  0  0  0  0  0  0  0  0  0  0  0  0\n",
            "  0  0  0  0  0  0  0  0  0  0  0  0  0  0  0  0  0  0  0  0  0  0  0  0\n",
            "  0  0  0  0  0  0  0  0  0  0  0  0  0  0  0  0  0  0  0  0  0  0  0  0\n",
            "  0  0  0  0  0  0  0  0  0  0]\n",
            "(1915, 202)\n",
            "[ 6  8 10 10 10 10  4 10 10  0  0  0  0  0  0  0  0  0  0  0  0  0  0  0\n",
            "  0  0  0  0  0  0  0  0  0  0  0  0  0  0  0  0  0  0  0  0  0  0  0  0\n",
            "  0  0  0  0  0  0  0  0  0  0  0  0  0  0  0  0  0  0  0  0  0  0  0  0\n",
            "  0  0  0  0  0  0  0  0  0  0  0  0  0  0  0  0  0  0  0  0  0  0  0  0\n",
            "  0  0  0  0  0  0  0  0  0  0  0  0  0  0  0  0  0  0  0  0  0  0  0  0\n",
            "  0  0  0  0  0  0  0  0  0  0  0  0  0  0  0  0  0  0  0  0  0  0  0  0\n",
            "  0  0  0  0  0  0  0  0  0  0  0  0  0  0  0  0  0  0  0  0  0  0  0  0\n",
            "  0  0  0  0  0  0  0  0  0  0  0  0  0  0  0  0  0  0  0  0  0  0  0  0\n",
            "  0  0  0  0  0  0  0  0  0  0]\n",
            "(1517, 202)\n"
          ]
        }
      ],
      "source": [
        "\n",
        "MAX_LENGTH=202\n",
        "train_sentences_X = pad_sequences(train_sentences_X, maxlen=MAX_LENGTH, padding='post')\n",
        "eval_sentences_X = pad_sequences(eval_sentences_X, maxlen=MAX_LENGTH, padding='post')\n",
        "test_sentences_X = pad_sequences(test_sentences_X, maxlen=MAX_LENGTH, padding='post')\n",
        "train_tags_y = pad_sequences(train_tags_y, maxlen=MAX_LENGTH, padding='post')\n",
        "eval_tags_y = pad_sequences(eval_tags_y, maxlen=MAX_LENGTH, padding='post')\n",
        "test_tags_y = pad_sequences(test_tags_y, maxlen=MAX_LENGTH, padding='post')\n",
        "\n",
        "print(train_sentences_X[0])\n",
        "print(train_sentences_X.shape)\n",
        "print(eval_sentences_X[0])\n",
        "print(eval_sentences_X.shape)\n",
        "print(test_sentences_X[0])\n",
        "print(test_sentences_X.shape)\n",
        "print(train_tags_y[0])\n",
        "print(train_tags_y.shape)\n",
        "print(eval_tags_y[0])\n",
        "print(eval_tags_y.shape)\n",
        "print(test_tags_y[0])\n",
        "print(test_tags_y.shape)\n",
        "\n"
      ]
    },
    {
      "cell_type": "markdown",
      "id": "5027a94d-6339-4800-a3f9-8e8bc44bcc7d",
      "metadata": {
        "id": "5027a94d-6339-4800-a3f9-8e8bc44bcc7d"
      },
      "source": [
        "Y una vez normalizadas las matrices, se procede a representar las listas de indices de etiquetas a una representación one-hot para el procesamiento con el RNN"
      ]
    },
    {
      "cell_type": "code",
      "execution_count": 66,
      "id": "c977ae89-4d2d-4dd1-aa8f-c3c52aeff181",
      "metadata": {
        "id": "c977ae89-4d2d-4dd1-aa8f-c3c52aeff181"
      },
      "outputs": [],
      "source": [
        "def to_categoricals(sequences, categories):\n",
        "    cat_sequences = []\n",
        "    for s in sequences:\n",
        "        cats = []\n",
        "        for item in s:\n",
        "            cats.append(np.zeros(categories))\n",
        "            cats[-1][item] = 1.0\n",
        "        cat_sequences.append(cats)\n",
        "    return np.array(cat_sequences)"
      ]
    },
    {
      "cell_type": "code",
      "execution_count": 67,
      "id": "6dfee0ba-bf72-452b-ae8d-e5fa83b12d5a",
      "metadata": {
        "id": "6dfee0ba-bf72-452b-ae8d-e5fa83b12d5a"
      },
      "outputs": [],
      "source": [
        "def encode(data):\n",
        "    print('Shape of data (BEFORE encode): %s' % str(data.shape))\n",
        "    encoded = to_categorical(data)\n",
        "    print('Shape of data (AFTER  encode): %s\\n' % str(encoded.shape))\n",
        "    return encoded"
      ]
    },
    {
      "cell_type": "code",
      "execution_count": 68,
      "id": "7a47fc76-5784-4fc3-98bd-97f5db490c6f",
      "metadata": {
        "colab": {
          "base_uri": "https://localhost:8080/"
        },
        "id": "7a47fc76-5784-4fc3-98bd-97f5db490c6f",
        "outputId": "6b2a2d75-17b8-438d-ea9b-ffa41141ac7b"
      },
      "outputs": [
        {
          "output_type": "stream",
          "name": "stdout",
          "text": [
            "[[0. 0. 0. ... 0. 0. 1.]\n",
            " [1. 0. 0. ... 0. 0. 0.]\n",
            " [1. 0. 0. ... 0. 0. 0.]\n",
            " ...\n",
            " [1. 0. 0. ... 0. 0. 0.]\n",
            " [1. 0. 0. ... 0. 0. 0.]\n",
            " [1. 0. 0. ... 0. 0. 0.]]\n",
            "8323\n",
            "(8323, 202, 11)\n",
            "1517\n"
          ]
        }
      ],
      "source": [
        "cat_train_tags_y = to_categoricals(train_tags_y, len(tag2index))\n",
        "cat_eval_tags_y  = to_categoricals(eval_tags_y, len(tag2index))\n",
        "cat_test_tags_y  = to_categoricals(test_tags_y, len(tag2index))\n",
        "\n",
        "print(cat_train_tags_y[1])\n",
        "print(len(cat_train_tags_y))\n",
        "print(cat_train_tags_y.shape)\n",
        "print(len(cat_test_tags_y))"
      ]
    },
    {
      "cell_type": "markdown",
      "id": "737b82c6-d695-4b08-96d0-f807840f3d75",
      "metadata": {
        "id": "737b82c6-d695-4b08-96d0-f807840f3d75"
      },
      "source": [
        "# Parte 2: Entrenamiento del modelo de red"
      ]
    },
    {
      "cell_type": "markdown",
      "id": "e118c9ab-42fa-4642-a807-6ae248e7a1a4",
      "metadata": {
        "id": "e118c9ab-42fa-4642-a807-6ae248e7a1a4"
      },
      "source": [
        "Se define la red neuronal para el trabajo de NER usando el modelo LSTM(Bilstm) + CRF + embedding, importando los módulos necesarios para el mismo y también parametrizando la RNN a entrenar.\n",
        "- Se trae el embedding con tamaño de 300.\n",
        "- Se genera el modelo LSTM(Bilstm) + CRF\n",
        "- Se genera una capa de masking para que ignore los valores de 0\n",
        "\n",
        "Una vez hecho esto, se procede a entrenar la red neuronal y a testear los resultados de la misma"
      ]
    },
    {
      "cell_type": "code",
      "source": [
        "from utils import build_matrix_embeddings as bme, plot_model_performance, logits_to_tokens, report_to_df\n",
        "EMBED_DIM = 300\n",
        "\n",
        "embedding_file = \"/content/drive/My Drive/embeddings/word2vex_jose_sebastian_paul300.txt\" # Poner ruta del embedding a utilizar\n",
        "\n",
        "embedding_matrix = bme(embedding_file, len(word2index), EMBED_DIM, word2index)"
      ],
      "metadata": {
        "id": "NmmeYyvMpzI-",
        "outputId": "933fd1e9-fa48-4b32-8c8f-2c4f237ce621",
        "colab": {
          "base_uri": "https://localhost:8080/",
          "height": 123,
          "referenced_widgets": [
            "74e5372d175f4aa7832461a3319c60a3",
            "38cca586cdf9423e866567059e23b109",
            "f91c35031c9a44c6a7faeed411d68926",
            "99b1df1067bd49f79e1327aeafd591d2",
            "5c164f7c3c074e788dd2f3c4c5df932b",
            "ad82e4759ece43a4b41d51622546e85c",
            "dc9666daf4c84e8395f2e7c78d4f8df8",
            "8487427337b4415b8122db52f7914f42",
            "20b342fffc2d48fc89425b1a35cd7c10",
            "a62fa21217e64dd190c9db6450f38c66",
            "040f5ed0ce854d95b1ff0d9a3895dc60",
            "5dbaa93bef184e3c925c11a16a99f6e4",
            "8bd9783608824b4986400fc7ab62c9a6",
            "98a07f4dfef34db1ab706a364314322a",
            "78ac89333fe64742b3239e8bff698263",
            "26197cb9e2c64b9299a2c4a7a0cd2e40",
            "7bcdd72192ed4fe18df841dc5a1d50df",
            "bc1ac79969204524b6a44640139a9109",
            "16e535c68c394939a7f6d4b96aca00b6",
            "5b69427bcd824e74a90add0945a68b05",
            "74f6d885cdc34f3c97ffb7a9aee878d6",
            "0ec9285549be453ea5bda49fb353b373"
          ]
        }
      },
      "execution_count": 69,
      "outputs": [
        {
          "output_type": "stream",
          "name": "stdout",
          "text": [
            "Cargando archivo...\n"
          ]
        },
        {
          "output_type": "display_data",
          "data": {
            "text/plain": [
              "0it [00:00, ?it/s]"
            ],
            "application/vnd.jupyter.widget-view+json": {
              "version_major": 2,
              "version_minor": 0,
              "model_id": "74e5372d175f4aa7832461a3319c60a3"
            }
          },
          "metadata": {}
        },
        {
          "output_type": "stream",
          "name": "stdout",
          "text": [
            "Encontrado 220714 Word Vectors.\n"
          ]
        },
        {
          "output_type": "display_data",
          "data": {
            "text/plain": [
              "  0%|          | 0/28384 [00:00<?, ?it/s]"
            ],
            "application/vnd.jupyter.widget-view+json": {
              "version_major": 2,
              "version_minor": 0,
              "model_id": "5dbaa93bef184e3c925c11a16a99f6e4"
            }
          },
          "metadata": {}
        },
        {
          "output_type": "stream",
          "name": "stdout",
          "text": [
            "Convertidos: 17841 Tokens | Perdidos: 10543 Tokens\n"
          ]
        }
      ],
      "id": "NmmeYyvMpzI-"
    },
    {
      "cell_type": "code",
      "execution_count": 70,
      "metadata": {
        "id": "af1fe828-7779-4b97-b7b7-d59e2f0fef3a"
      },
      "outputs": [],
      "source": [
        "# TO-DO: No se ha hecho nada diferente por el momento\n",
        "\n",
        "from tf2crf import CRF as crf6\n",
        "from wrapper import ModelWithCRFLoss, ModelWithCRFLossDSCLoss\n",
        "from utils import build_matrix_embeddings as bme, plot_model_performance, logits_to_tokens, report_to_df\n",
        "from tensorflow.keras.layers import Concatenate, Lambda, Input, LSTM, Embedding, Dense, TimeDistributed, Dropout, Bidirectional, InputLayer, Activation, Flatten, Masking\n",
        "from tensorflow.keras.optimizers import Adam, schedules\n",
        "input = Input(shape=(MAX_LENGTH,))\n",
        "word_embedding_size = 300\n",
        "EMBED_DIM=300\n",
        "# Embedding Layer\n",
        "model = Embedding(input_dim=len(word2index),\n",
        "                weights=[embedding_matrix],\n",
        "                output_dim=word_embedding_size,\n",
        "                input_length=MAX_LENGTH,\n",
        "                mask_zero=False)(input)\n",
        "\n",
        "# BI-LSTM Layer\n",
        "model = Bidirectional(LSTM(units=50,\n",
        "                     return_sequences=True,\n",
        "                     dropout=0.5,\n",
        "                     recurrent_dropout=0.5))(model)\n",
        "\n",
        "# LSTM(Bilstm) Layer\n",
        "model = LSTM(units=50,\n",
        "                     return_sequences=True,\n",
        "                     dropout=0.5,\n",
        "                     recurrent_dropout=0.5)(model)\n",
        "\n",
        "model  = Dropout(0.5, name='dropout_lstm')(model)\n",
        "model  = Dense(units=EMBED_DIM * 2, activation='tanh')(model)\n",
        "model  = Dense(units=len(tag2index), activation='tanh')(model)\n",
        "\n",
        "model  = Masking(mask_value=0.,input_shape=(MAX_LENGTH, len(tag2index)))(model)\n",
        "\n",
        "crf = crf6(units=len(tag2index), name=\"ner_crf\")\n",
        "predictions = crf(model)\n",
        "\n",
        "base_model = Model(inputs=input, outputs=predictions)\n",
        "model = ModelWithCRFLoss(base_model, sparse_target=True)\n",
        "\n",
        "model.compile(optimizer='adam')\n",
        "#model.summary()"
      ],
      "id": "af1fe828-7779-4b97-b7b7-d59e2f0fef3a"
    },
    {
      "cell_type": "code",
      "execution_count": 71,
      "id": "2883e776-e7a2-4e28-8055-92f719505a91",
      "metadata": {
        "colab": {
          "base_uri": "https://localhost:8080/"
        },
        "id": "2883e776-e7a2-4e28-8055-92f719505a91",
        "outputId": "360a8743-4e87-4543-d1b3-9c7c27fe5ecf"
      },
      "outputs": [
        {
          "output_type": "stream",
          "name": "stdout",
          "text": [
            "Epoch 1/50\n",
            "66/66 - 51s - loss: 142.1511 - accuracy: 0.9170 - val_loss_val: 61.9691 - val_val_accuracy: 0.9768 - 51s/epoch - 768ms/step\n",
            "Epoch 2/50\n",
            "66/66 - 38s - loss: 45.9855 - accuracy: 0.9783 - val_loss_val: 35.4018 - val_val_accuracy: 0.9792 - 38s/epoch - 582ms/step\n",
            "Epoch 3/50\n",
            "66/66 - 38s - loss: 31.2426 - accuracy: 0.9801 - val_loss_val: 27.9765 - val_val_accuracy: 0.9802 - 38s/epoch - 581ms/step\n",
            "Epoch 4/50\n",
            "66/66 - 38s - loss: 26.5557 - accuracy: 0.9805 - val_loss_val: 24.7721 - val_val_accuracy: 0.9803 - 38s/epoch - 582ms/step\n",
            "Epoch 5/50\n",
            "66/66 - 39s - loss: 23.8864 - accuracy: 0.9806 - val_loss_val: 22.9194 - val_val_accuracy: 0.9804 - 39s/epoch - 584ms/step\n",
            "Epoch 6/50\n",
            "66/66 - 38s - loss: 22.7457 - accuracy: 0.9806 - val_loss_val: 21.6754 - val_val_accuracy: 0.9804 - 38s/epoch - 581ms/step\n",
            "Epoch 7/50\n",
            "66/66 - 38s - loss: 21.4890 - accuracy: 0.9806 - val_loss_val: 20.7350 - val_val_accuracy: 0.9804 - 38s/epoch - 581ms/step\n",
            "Epoch 8/50\n",
            "66/66 - 38s - loss: 20.9109 - accuracy: 0.9806 - val_loss_val: 19.8736 - val_val_accuracy: 0.9804 - 38s/epoch - 583ms/step\n",
            "Epoch 9/50\n",
            "66/66 - 39s - loss: 19.1575 - accuracy: 0.9805 - val_loss_val: 17.0412 - val_val_accuracy: 0.9804 - 39s/epoch - 585ms/step\n",
            "Epoch 10/50\n",
            "66/66 - 38s - loss: 15.3395 - accuracy: 0.9814 - val_loss_val: 13.8714 - val_val_accuracy: 0.9822 - 38s/epoch - 582ms/step\n",
            "Epoch 11/50\n",
            "66/66 - 39s - loss: 12.2265 - accuracy: 0.9846 - val_loss_val: 12.4115 - val_val_accuracy: 0.9840 - 39s/epoch - 584ms/step\n",
            "Epoch 12/50\n",
            "66/66 - 38s - loss: 10.4927 - accuracy: 0.9865 - val_loss_val: 11.3544 - val_val_accuracy: 0.9848 - 38s/epoch - 581ms/step\n",
            "Epoch 13/50\n",
            "66/66 - 38s - loss: 9.2924 - accuracy: 0.9874 - val_loss_val: 10.6746 - val_val_accuracy: 0.9853 - 38s/epoch - 581ms/step\n",
            "Epoch 14/50\n",
            "66/66 - 38s - loss: 8.4183 - accuracy: 0.9880 - val_loss_val: 10.0522 - val_val_accuracy: 0.9858 - 38s/epoch - 580ms/step\n",
            "Epoch 15/50\n",
            "66/66 - 39s - loss: 7.7350 - accuracy: 0.9887 - val_loss_val: 9.7843 - val_val_accuracy: 0.9860 - 39s/epoch - 584ms/step\n",
            "Epoch 16/50\n",
            "66/66 - 39s - loss: 7.2271 - accuracy: 0.9892 - val_loss_val: 9.3644 - val_val_accuracy: 0.9865 - 39s/epoch - 586ms/step\n",
            "Epoch 17/50\n",
            "66/66 - 38s - loss: 6.5878 - accuracy: 0.9898 - val_loss_val: 8.9856 - val_val_accuracy: 0.9868 - 38s/epoch - 583ms/step\n",
            "Epoch 18/50\n",
            "66/66 - 38s - loss: 6.0508 - accuracy: 0.9904 - val_loss_val: 8.7073 - val_val_accuracy: 0.9874 - 38s/epoch - 582ms/step\n",
            "Epoch 19/50\n",
            "66/66 - 39s - loss: 5.7117 - accuracy: 0.9910 - val_loss_val: 8.4140 - val_val_accuracy: 0.9874 - 39s/epoch - 584ms/step\n",
            "Epoch 20/50\n",
            "66/66 - 38s - loss: 5.3216 - accuracy: 0.9915 - val_loss_val: 8.2725 - val_val_accuracy: 0.9879 - 38s/epoch - 581ms/step\n",
            "Epoch 21/50\n",
            "66/66 - 38s - loss: 5.0250 - accuracy: 0.9921 - val_loss_val: 8.1186 - val_val_accuracy: 0.9880 - 38s/epoch - 583ms/step\n",
            "Epoch 22/50\n",
            "66/66 - 38s - loss: 4.7212 - accuracy: 0.9925 - val_loss_val: 7.8668 - val_val_accuracy: 0.9883 - 38s/epoch - 581ms/step\n",
            "Epoch 23/50\n",
            "66/66 - 38s - loss: 4.4928 - accuracy: 0.9931 - val_loss_val: 7.9445 - val_val_accuracy: 0.9885 - 38s/epoch - 582ms/step\n",
            "Epoch 24/50\n",
            "66/66 - 38s - loss: 4.2467 - accuracy: 0.9936 - val_loss_val: 7.8086 - val_val_accuracy: 0.9887 - 38s/epoch - 581ms/step\n",
            "Epoch 25/50\n",
            "66/66 - 38s - loss: 3.9872 - accuracy: 0.9940 - val_loss_val: 7.5985 - val_val_accuracy: 0.9892 - 38s/epoch - 580ms/step\n",
            "Epoch 26/50\n",
            "66/66 - 38s - loss: 3.7852 - accuracy: 0.9944 - val_loss_val: 7.6954 - val_val_accuracy: 0.9890 - 38s/epoch - 581ms/step\n",
            "Epoch 27/50\n",
            "66/66 - 38s - loss: 3.5632 - accuracy: 0.9946 - val_loss_val: 7.4735 - val_val_accuracy: 0.9892 - 38s/epoch - 582ms/step\n",
            "Epoch 28/50\n",
            "66/66 - 38s - loss: 3.4404 - accuracy: 0.9948 - val_loss_val: 7.5071 - val_val_accuracy: 0.9892 - 38s/epoch - 581ms/step\n",
            "Epoch 29/50\n",
            "66/66 - 38s - loss: 3.2756 - accuracy: 0.9952 - val_loss_val: 7.5775 - val_val_accuracy: 0.9896 - 38s/epoch - 580ms/step\n",
            "Epoch 30/50\n",
            "66/66 - 38s - loss: 3.1421 - accuracy: 0.9954 - val_loss_val: 7.2489 - val_val_accuracy: 0.9895 - 38s/epoch - 579ms/step\n",
            "Epoch 31/50\n",
            "66/66 - 38s - loss: 2.9751 - accuracy: 0.9957 - val_loss_val: 7.3562 - val_val_accuracy: 0.9895 - 38s/epoch - 581ms/step\n",
            "Epoch 32/50\n",
            "66/66 - 38s - loss: 2.7901 - accuracy: 0.9959 - val_loss_val: 7.4578 - val_val_accuracy: 0.9898 - 38s/epoch - 582ms/step\n",
            "Epoch 33/50\n",
            "66/66 - 38s - loss: 2.7295 - accuracy: 0.9960 - val_loss_val: 7.1884 - val_val_accuracy: 0.9898 - 38s/epoch - 582ms/step\n",
            "Epoch 34/50\n",
            "66/66 - 38s - loss: 2.6018 - accuracy: 0.9961 - val_loss_val: 7.3353 - val_val_accuracy: 0.9898 - 38s/epoch - 583ms/step\n",
            "Epoch 35/50\n",
            "66/66 - 38s - loss: 2.4681 - accuracy: 0.9964 - val_loss_val: 7.3481 - val_val_accuracy: 0.9897 - 38s/epoch - 580ms/step\n",
            "Epoch 36/50\n",
            "66/66 - 38s - loss: 2.4099 - accuracy: 0.9965 - val_loss_val: 7.3906 - val_val_accuracy: 0.9898 - 38s/epoch - 580ms/step\n",
            "Epoch 37/50\n",
            "66/66 - 38s - loss: 2.2754 - accuracy: 0.9967 - val_loss_val: 7.2587 - val_val_accuracy: 0.9900 - 38s/epoch - 580ms/step\n",
            "Epoch 38/50\n",
            "66/66 - 38s - loss: 2.1784 - accuracy: 0.9968 - val_loss_val: 7.1334 - val_val_accuracy: 0.9897 - 38s/epoch - 580ms/step\n",
            "Epoch 39/50\n",
            "66/66 - 38s - loss: 2.1393 - accuracy: 0.9969 - val_loss_val: 7.4273 - val_val_accuracy: 0.9901 - 38s/epoch - 578ms/step\n",
            "Epoch 40/50\n",
            "66/66 - 38s - loss: 2.0415 - accuracy: 0.9970 - val_loss_val: 7.2734 - val_val_accuracy: 0.9902 - 38s/epoch - 583ms/step\n",
            "Epoch 41/50\n",
            "66/66 - 38s - loss: 2.0151 - accuracy: 0.9971 - val_loss_val: 7.3138 - val_val_accuracy: 0.9897 - 38s/epoch - 579ms/step\n",
            "Epoch 42/50\n",
            "66/66 - 38s - loss: 1.9488 - accuracy: 0.9972 - val_loss_val: 7.3419 - val_val_accuracy: 0.9899 - 38s/epoch - 581ms/step\n",
            "Epoch 43/50\n",
            "66/66 - 38s - loss: 1.8018 - accuracy: 0.9973 - val_loss_val: 7.3607 - val_val_accuracy: 0.9901 - 38s/epoch - 578ms/step\n",
            "Epoch 44/50\n",
            "66/66 - 38s - loss: 1.8428 - accuracy: 0.9975 - val_loss_val: 7.1359 - val_val_accuracy: 0.9899 - 38s/epoch - 581ms/step\n",
            "Epoch 45/50\n",
            "66/66 - 38s - loss: 1.6994 - accuracy: 0.9976 - val_loss_val: 7.3531 - val_val_accuracy: 0.9900 - 38s/epoch - 580ms/step\n",
            "Epoch 46/50\n",
            "66/66 - 38s - loss: 1.7384 - accuracy: 0.9976 - val_loss_val: 7.1643 - val_val_accuracy: 0.9898 - 38s/epoch - 581ms/step\n",
            "Epoch 47/50\n",
            "66/66 - 38s - loss: 1.6139 - accuracy: 0.9975 - val_loss_val: 7.3712 - val_val_accuracy: 0.9900 - 38s/epoch - 580ms/step\n",
            "Epoch 48/50\n",
            "66/66 - 38s - loss: 1.5218 - accuracy: 0.9978 - val_loss_val: 7.4703 - val_val_accuracy: 0.9900 - 38s/epoch - 583ms/step\n",
            "Epoch 49/50\n",
            "66/66 - 38s - loss: 1.4604 - accuracy: 0.9979 - val_loss_val: 7.4363 - val_val_accuracy: 0.9899 - 38s/epoch - 582ms/step\n",
            "Epoch 50/50\n",
            "66/66 - 38s - loss: 1.4212 - accuracy: 0.9980 - val_loss_val: 7.3962 - val_val_accuracy: 0.9898 - 38s/epoch - 580ms/step\n"
          ]
        }
      ],
      "source": [
        "history= model.fit(train_sentences_X, cat_train_tags_y,\n",
        "                       validation_data=(eval_sentences_X, cat_eval_tags_y),\n",
        "                       batch_size=128,\n",
        "                       epochs=50,\n",
        "                       verbose=2)"
      ]
    },
    {
      "cell_type": "code",
      "execution_count": 72,
      "id": "470d90aa-4c7b-4884-b138-9a052d59ba5a",
      "metadata": {
        "colab": {
          "base_uri": "https://localhost:8080/"
        },
        "id": "470d90aa-4c7b-4884-b138-9a052d59ba5a",
        "outputId": "d93aac93-9a6d-4cd2-fb3d-4a774d9360ac"
      },
      "outputs": [
        {
          "output_type": "stream",
          "name": "stdout",
          "text": [
            "{'I-PER': 2, 'I-MISC': 3, 'B-ORG': 4, 'B-MISC': 5, 'B-LOC': 6, 'I-ORG': 7, 'I-LOC': 8, 'B-PER': 9, 'O': 10, '-PAD-': 0, '-OOV-': 1}\n",
            "[[10837 24702  1222 ...     0     0     0]\n",
            " [18846     0     0 ...     0     0     0]\n",
            " [22744 28127  9869 ...     0     0     0]\n",
            " ...\n",
            " [10837  8063 13650 ...     0     0     0]\n",
            " [22003 26309 20771 ...     0     0     0]\n",
            " [10837 28294 13201 ...     0     0     0]]\n",
            "48/48 [==============================] - 5s 79ms/step\n",
            "(1517, 202)\n",
            "[[ 6  8 10 ...  0  0  0]\n",
            " [10  0  0 ...  0  0  0]\n",
            " [10 10 10 ...  0  0  0]\n",
            " ...\n",
            " [10  6 10 ...  0  0  0]\n",
            " [10 10 10 ...  0  0  0]\n",
            " [10 10 10 ...  0  0  0]]\n"
          ]
        }
      ],
      "source": [
        "print(tag2index)\n",
        "print(test_sentences_X)\n",
        "y_pred= model.predict(test_sentences_X)\n",
        "print(y_pred.shape)\n",
        "print(y_pred)"
      ]
    },
    {
      "cell_type": "code",
      "execution_count": 73,
      "id": "1cb09e4c-fe54-4fd0-9481-226625cfe92a",
      "metadata": {
        "colab": {
          "base_uri": "https://localhost:8080/"
        },
        "id": "1cb09e4c-fe54-4fd0-9481-226625cfe92a",
        "outputId": "711c5ee6-91f0-4455-b8b8-8256513ce38e"
      },
      "outputs": [
        {
          "output_type": "stream",
          "name": "stdout",
          "text": [
            "{2: 'I-PER', 3: 'I-MISC', 4: 'B-ORG', 5: 'B-MISC', 6: 'B-LOC', 7: 'I-ORG', 8: 'I-LOC', 9: 'B-PER', 10: 'O', 0: '-PAD-', 1: '-OOV-'}\n",
            "['O', 'O', 'O', 'O', 'O', 'B-ORG', 'I-ORG', 'I-ORG', 'I-ORG', 'O', 'O', 'O', 'O', 'O', 'B-ORG', 'I-ORG', 'O', 'O', 'B-ORG', 'I-ORG', 'I-ORG', 'I-ORG', 'I-ORG', 'O', 'O', 'O', 'O', 'O', 'O', 'O', 'O', 'O', 'O', 'O', 'O', 'O', 'O', 'O', 'O', 'O', 'O', 'O', 'O', 'O', 'O', '-PAD-', '-PAD-', '-PAD-', '-PAD-', '-PAD-', '-PAD-', '-PAD-', '-PAD-', '-PAD-', '-PAD-', '-PAD-', '-PAD-', '-PAD-', '-PAD-', '-PAD-', '-PAD-', '-PAD-', '-PAD-', '-PAD-', '-PAD-', '-PAD-', '-PAD-', '-PAD-', '-PAD-', '-PAD-', '-PAD-', '-PAD-', '-PAD-', '-PAD-', '-PAD-', '-PAD-', '-PAD-', '-PAD-', '-PAD-', '-PAD-', '-PAD-', '-PAD-', '-PAD-', '-PAD-', '-PAD-', '-PAD-', '-PAD-', '-PAD-', '-PAD-', '-PAD-', '-PAD-', '-PAD-', '-PAD-', '-PAD-', '-PAD-', '-PAD-', '-PAD-', '-PAD-', '-PAD-', '-PAD-', '-PAD-', '-PAD-', '-PAD-', '-PAD-', '-PAD-', '-PAD-', '-PAD-', '-PAD-', '-PAD-', '-PAD-', '-PAD-', '-PAD-', '-PAD-', '-PAD-', '-PAD-', '-PAD-', '-PAD-', '-PAD-', '-PAD-', '-PAD-', '-PAD-', '-PAD-', '-PAD-', '-PAD-', '-PAD-', '-PAD-', '-PAD-', '-PAD-', '-PAD-', '-PAD-', '-PAD-', '-PAD-', '-PAD-', '-PAD-', '-PAD-', '-PAD-', '-PAD-', '-PAD-', '-PAD-', '-PAD-', '-PAD-', '-PAD-', '-PAD-', '-PAD-', '-PAD-', '-PAD-', '-PAD-', '-PAD-', '-PAD-', '-PAD-', '-PAD-', '-PAD-', '-PAD-', '-PAD-', '-PAD-', '-PAD-', '-PAD-', '-PAD-', '-PAD-', '-PAD-', '-PAD-', '-PAD-', '-PAD-', '-PAD-', '-PAD-', '-PAD-', '-PAD-', '-PAD-', '-PAD-', '-PAD-', '-PAD-', '-PAD-', '-PAD-', '-PAD-', '-PAD-', '-PAD-', '-PAD-', '-PAD-', '-PAD-', '-PAD-', '-PAD-', '-PAD-', '-PAD-', '-PAD-', '-PAD-', '-PAD-', '-PAD-', '-PAD-', '-PAD-', '-PAD-', '-PAD-', '-PAD-', '-PAD-', '-PAD-', '-PAD-', '-PAD-', '-PAD-', '-PAD-', '-PAD-', '-PAD-', '-PAD-', '-PAD-']\n"
          ]
        }
      ],
      "source": [
        "from utils import build_matrix_embeddings as bme, plot_model_performance, logits_to_tokens, report_to_df\n",
        "index2tag = {i: t for t, i in tag2index.items()}\n",
        "print(index2tag)\n",
        "y1_pred = logits_to_tokens(y_pred, index2tag)\n",
        "print(y1_pred[10])"
      ]
    },
    {
      "cell_type": "code",
      "source": [
        "#print(Y_test[4])\n",
        "print(test_tags_y.shape)"
      ],
      "metadata": {
        "colab": {
          "base_uri": "https://localhost:8080/"
        },
        "id": "B93zbJbTd_I2",
        "outputId": "dc66f2ae-5e88-4e27-c920-9bb83ced1ef8"
      },
      "id": "B93zbJbTd_I2",
      "execution_count": 74,
      "outputs": [
        {
          "output_type": "stream",
          "name": "stdout",
          "text": [
            "(1517, 202)\n"
          ]
        }
      ]
    },
    {
      "cell_type": "code",
      "source": [
        "from utils import build_matrix_embeddings as bme, plot_model_performance, logits_to_tokens, report_to_df\n",
        "index2tag = {i: t for t, i in tag2index.items()}\n",
        "print(index2tag)\n",
        "y1_true = logits_to_tokens(test_tags_y, index2tag)\n",
        "print(y1_true[10])"
      ],
      "metadata": {
        "colab": {
          "base_uri": "https://localhost:8080/"
        },
        "id": "L5NsDa-meApA",
        "outputId": "87c85a5e-8dc1-453d-e4f4-84560fe9df4b"
      },
      "id": "L5NsDa-meApA",
      "execution_count": 75,
      "outputs": [
        {
          "output_type": "stream",
          "name": "stdout",
          "text": [
            "{2: 'I-PER', 3: 'I-MISC', 4: 'B-ORG', 5: 'B-MISC', 6: 'B-LOC', 7: 'I-ORG', 8: 'I-LOC', 9: 'B-PER', 10: 'O', 0: '-PAD-', 1: '-OOV-'}\n",
            "['O', 'O', 'O', 'O', 'O', 'B-ORG', 'I-ORG', 'I-ORG', 'I-ORG', 'O', 'O', 'O', 'O', 'O', 'B-ORG', 'I-ORG', 'O', 'O', 'B-ORG', 'I-ORG', 'O', 'O', 'O', 'O', 'O', 'O', 'O', 'O', 'O', 'O', 'O', 'O', 'O', 'O', 'O', 'O', 'O', 'O', 'O', 'O', 'O', 'O', 'O', 'O', 'O', '-PAD-', '-PAD-', '-PAD-', '-PAD-', '-PAD-', '-PAD-', '-PAD-', '-PAD-', '-PAD-', '-PAD-', '-PAD-', '-PAD-', '-PAD-', '-PAD-', '-PAD-', '-PAD-', '-PAD-', '-PAD-', '-PAD-', '-PAD-', '-PAD-', '-PAD-', '-PAD-', '-PAD-', '-PAD-', '-PAD-', '-PAD-', '-PAD-', '-PAD-', '-PAD-', '-PAD-', '-PAD-', '-PAD-', '-PAD-', '-PAD-', '-PAD-', '-PAD-', '-PAD-', '-PAD-', '-PAD-', '-PAD-', '-PAD-', '-PAD-', '-PAD-', '-PAD-', '-PAD-', '-PAD-', '-PAD-', '-PAD-', '-PAD-', '-PAD-', '-PAD-', '-PAD-', '-PAD-', '-PAD-', '-PAD-', '-PAD-', '-PAD-', '-PAD-', '-PAD-', '-PAD-', '-PAD-', '-PAD-', '-PAD-', '-PAD-', '-PAD-', '-PAD-', '-PAD-', '-PAD-', '-PAD-', '-PAD-', '-PAD-', '-PAD-', '-PAD-', '-PAD-', '-PAD-', '-PAD-', '-PAD-', '-PAD-', '-PAD-', '-PAD-', '-PAD-', '-PAD-', '-PAD-', '-PAD-', '-PAD-', '-PAD-', '-PAD-', '-PAD-', '-PAD-', '-PAD-', '-PAD-', '-PAD-', '-PAD-', '-PAD-', '-PAD-', '-PAD-', '-PAD-', '-PAD-', '-PAD-', '-PAD-', '-PAD-', '-PAD-', '-PAD-', '-PAD-', '-PAD-', '-PAD-', '-PAD-', '-PAD-', '-PAD-', '-PAD-', '-PAD-', '-PAD-', '-PAD-', '-PAD-', '-PAD-', '-PAD-', '-PAD-', '-PAD-', '-PAD-', '-PAD-', '-PAD-', '-PAD-', '-PAD-', '-PAD-', '-PAD-', '-PAD-', '-PAD-', '-PAD-', '-PAD-', '-PAD-', '-PAD-', '-PAD-', '-PAD-', '-PAD-', '-PAD-', '-PAD-', '-PAD-', '-PAD-', '-PAD-', '-PAD-', '-PAD-', '-PAD-', '-PAD-', '-PAD-', '-PAD-', '-PAD-', '-PAD-', '-PAD-', '-PAD-', '-PAD-', '-PAD-', '-PAD-', '-PAD-', '-PAD-', '-PAD-', '-PAD-']\n"
          ]
        }
      ]
    },
    {
      "cell_type": "markdown",
      "id": "842d9d47-b7b8-478a-b7f6-efd5be17f762",
      "metadata": {
        "id": "842d9d47-b7b8-478a-b7f6-efd5be17f762"
      },
      "source": [
        "## Calidad obtenida del modelo\n",
        "\n",
        "Se evalua la calidad de los resultados del modelo usando las siguientes métricas: *precision, recall, accuracy* y *F1-score*."
      ]
    },
    {
      "cell_type": "code",
      "execution_count": 76,
      "id": "bc937ab9-d0d4-4c83-a503-05f7432c4d76",
      "metadata": {
        "colab": {
          "base_uri": "https://localhost:8080/"
        },
        "id": "bc937ab9-d0d4-4c83-a503-05f7432c4d76",
        "outputId": "4d935d63-fe9f-4867-8b95-fa82c09824c0"
      },
      "outputs": [
        {
          "output_type": "stream",
          "name": "stderr",
          "text": [
            "/usr/local/lib/python3.10/dist-packages/seqeval/metrics/sequence_labeling.py:171: UserWarning: -PAD- seems not to be NE tag.\n",
            "  warnings.warn('{} seems not to be NE tag.'.format(chunk))\n"
          ]
        },
        {
          "output_type": "stream",
          "name": "stdout",
          "text": [
            "precision: 68.8%\n",
            "   recall: 67.8%\n",
            " accuracy: 99.1%\n",
            " F1-score: 68.3%\n"
          ]
        }
      ],
      "source": [
        "from seqeval.metrics import classification_report as seqclarep\n",
        "from seqeval.metrics import precision_score, recall_score, f1_score, accuracy_score\n",
        "print(\"precision: {:.1%}\".format(precision_score(y1_true, y1_pred)))\n",
        "print(\"   recall: {:.1%}\".format(recall_score(y1_true,    y1_pred)))\n",
        "print(\" accuracy: {:.1%}\".format(accuracy_score(y1_true,  y1_pred)))\n",
        "print(\" F1-score: {:.1%}\".format(f1_score(y1_true,        y1_pred)))"
      ]
    },
    {
      "cell_type": "markdown",
      "id": "b947ac45-185b-4407-8883-966e1210f065",
      "metadata": {
        "id": "b947ac45-185b-4407-8883-966e1210f065"
      },
      "source": [
        "Se genera un reporte de la clasificación basada en las etiquetas predichas y las reales, esto brindado en un DataFrame."
      ]
    },
    {
      "cell_type": "code",
      "execution_count": 77,
      "id": "bc3aa1f6-3de6-4026-bdb9-5d95f46f4886",
      "metadata": {
        "id": "bc3aa1f6-3de6-4026-bdb9-5d95f46f4886"
      },
      "outputs": [],
      "source": [
        "import pandas as pd\n",
        "li1 = sum(y1_true, [])\n",
        "li2 = sum(y1_pred, [])\n",
        "\n",
        "results = pd.DataFrame(columns=['Expected', 'Predicted'])\n",
        "\n",
        "results['Expected'] = li1\n",
        "results['Predicted'] = li2"
      ]
    },
    {
      "cell_type": "code",
      "execution_count": 78,
      "id": "a9fccdb6-6160-4d08-9fb4-443632379b03",
      "metadata": {
        "colab": {
          "base_uri": "https://localhost:8080/"
        },
        "id": "a9fccdb6-6160-4d08-9fb4-443632379b03",
        "outputId": "79ce67f7-92d4-48c1-f6bd-79770aebc4b6"
      },
      "outputs": [
        {
          "output_type": "stream",
          "name": "stdout",
          "text": [
            "  Class Name precision recall f1-score support\n",
            "0      -PAD-      1.00   1.00     1.00  254901\n",
            "1      B-LOC      0.74   0.77     0.75    1084\n",
            "2     B-MISC      0.35   0.36     0.35     339\n",
            "3      B-ORG      0.78   0.78     0.78    1400\n",
            "4      B-PER      0.83   0.69     0.75     735\n",
            "5      I-LOC      0.65   0.67     0.66     325\n",
            "6     I-MISC      0.51   0.37     0.43     557\n",
            "7      I-ORG      0.77   0.64     0.70    1104\n",
            "8      I-PER      0.90   0.79     0.84     634\n",
            "9          O      0.97   0.98     0.98   45355\n"
          ]
        }
      ],
      "source": [
        "from sklearn.metrics import classification_report as eskclarep\n",
        "report = eskclarep(results['Expected'], results['Predicted'])\n",
        "\n",
        "print(report_to_df(report))"
      ]
    },
    {
      "cell_type": "markdown",
      "id": "abf3433b-4e95-4920-9a55-940d1f2f1a1c",
      "metadata": {
        "id": "abf3433b-4e95-4920-9a55-940d1f2f1a1c"
      },
      "source": [
        "Por último, se realizan evaluaciones del modelo a partir de algunas oraciones."
      ]
    },
    {
      "cell_type": "code",
      "execution_count": 79,
      "id": "566c99ce-8ea1-4818-8fa1-92b4b7c75ebe",
      "metadata": {
        "colab": {
          "base_uri": "https://localhost:8080/"
        },
        "id": "566c99ce-8ea1-4818-8fa1-92b4b7c75ebe",
        "outputId": "fab77fe9-88c5-4150-f50e-49220cce7a13"
      },
      "outputs": [
        {
          "output_type": "stream",
          "name": "stdout",
          "text": [
            "[['James', 'Rodriguez', 'es', 'el', 'jugador', 'colombiano', 'más', 'importante', 'con', 'Radamel', 'Falcao.'], ['Jugadores', 'de', 'la', 'selección', 'Colombia', 'que', 'juegan', 'en', 'el', 'Reino', 'Unido']]\n",
            "[['La', 'federación', 'Nacional', 'de', 'cafeteros', 'de', 'Colombia', 'es', 'dirigida', 'por', 'Horacio', 'Sánchez'], ['y', 'se', 'ubica', 'en', 'las', 'ciudades', 'de', 'Cali', 'y', 'Medellín', 'con', 'el', 'instituto', 'colombiano', 'del', 'café']]\n"
          ]
        }
      ],
      "source": [
        "test_sample1 = [\n",
        "    \"James Rodriguez es el jugador colombiano más importante con Radamel Falcao.\".split(),\n",
        "    \" Jugadores de la selección Colombia que juegan en el Reino Unido\".split()\n",
        "]\n",
        "\n",
        "print(test_sample1)\n",
        "\n",
        "test_sample2 = [\n",
        "    \"La federación Nacional de cafeteros de Colombia es dirigida por Horacio Sánchez\".split(),\n",
        "    \" y se ubica en las ciudades de  Cali y Medellín con el instituto colombiano del café \".split()\n",
        "]\n",
        "\n",
        "print(test_sample2)"
      ]
    },
    {
      "cell_type": "code",
      "execution_count": 80,
      "id": "5f53bc58-c8c5-4962-bf78-06bff6ea5ff5",
      "metadata": {
        "colab": {
          "base_uri": "https://localhost:8080/"
        },
        "id": "5f53bc58-c8c5-4962-bf78-06bff6ea5ff5",
        "outputId": "7979e7ad-d094-4a3a-aebe-6f19d633d3dd"
      },
      "outputs": [
        {
          "output_type": "stream",
          "name": "stdout",
          "text": [
            "[[10837 20092 16965 16754 24347 16754 20270 19921 19723 20126     1 26892\n",
            "      0     0     0     0     0     0     0     0     0     0     0     0\n",
            "      0     0     0     0     0     0     0     0     0     0     0     0\n",
            "      0     0     0     0     0     0     0     0     0     0     0     0\n",
            "      0     0     0     0     0     0     0     0     0     0     0     0\n",
            "      0     0     0     0     0     0     0     0     0     0     0     0\n",
            "      0     0     0     0     0     0     0     0     0     0     0     0\n",
            "      0     0     0     0     0     0     0     0     0     0     0     0\n",
            "      0     0     0     0     0     0     0     0     0     0     0     0\n",
            "      0     0     0     0     0     0     0     0     0     0     0     0\n",
            "      0     0     0     0     0     0     0     0     0     0     0     0\n",
            "      0     0     0     0     0     0     0     0     0     0     0     0\n",
            "      0     0     0     0     0     0     0     0     0     0     0     0\n",
            "      0     0     0     0     0     0     0     0     0     0     0     0\n",
            "      0     0     0     0     0     0     0     0     0     0     0     0\n",
            "      0     0     0     0     0     0     0     0     0     0     0     0\n",
            "      0     0     0     0     0     0     0     0     0     0]\n",
            " [ 4398 27281 15877  9216 22744   263 16754  4364  4398     1 10332 12819\n",
            "   1812 18210  8519  3129     0     0     0     0     0     0     0     0\n",
            "      0     0     0     0     0     0     0     0     0     0     0     0\n",
            "      0     0     0     0     0     0     0     0     0     0     0     0\n",
            "      0     0     0     0     0     0     0     0     0     0     0     0\n",
            "      0     0     0     0     0     0     0     0     0     0     0     0\n",
            "      0     0     0     0     0     0     0     0     0     0     0     0\n",
            "      0     0     0     0     0     0     0     0     0     0     0     0\n",
            "      0     0     0     0     0     0     0     0     0     0     0     0\n",
            "      0     0     0     0     0     0     0     0     0     0     0     0\n",
            "      0     0     0     0     0     0     0     0     0     0     0     0\n",
            "      0     0     0     0     0     0     0     0     0     0     0     0\n",
            "      0     0     0     0     0     0     0     0     0     0     0     0\n",
            "      0     0     0     0     0     0     0     0     0     0     0     0\n",
            "      0     0     0     0     0     0     0     0     0     0     0     0\n",
            "      0     0     0     0     0     0     0     0     0     0     0     0\n",
            "      0     0     0     0     0     0     0     0     0     0]]\n",
            "(2, 202)\n"
          ]
        }
      ],
      "source": [
        "test_samples_X = []\n",
        "for s in test_sample2:\n",
        "    s_int = []\n",
        "    for w in s:\n",
        "        try:\n",
        "            s_int.append(word2index[w.lower()])\n",
        "        except KeyError:\n",
        "            s_int.append(word2index['-OOV-'])\n",
        "    test_samples_X.append(s_int)\n",
        "\n",
        "test_samples_X = pad_sequences(test_samples_X, maxlen=MAX_LENGTH, padding='post')\n",
        "print(test_samples_X)\n",
        "print(test_samples_X.shape)"
      ]
    },
    {
      "cell_type": "code",
      "execution_count": 81,
      "id": "231b1961-c8a2-45c3-8604-f667f0225d22",
      "metadata": {
        "colab": {
          "base_uri": "https://localhost:8080/"
        },
        "id": "231b1961-c8a2-45c3-8604-f667f0225d22",
        "outputId": "a7c737ad-9290-40ad-930a-d0338cbee33e"
      },
      "outputs": [
        {
          "output_type": "stream",
          "name": "stdout",
          "text": [
            "1/1 [==============================] - 0s 87ms/step\n",
            "[[10  4  7  7  7  7  7 10 10 10  0  0  0  0  0  0  0  0  0  0  0  0  0  0\n",
            "   0  0  0  0  0  0  0  0  0  0  0  0  0  0  0  0  0  0  0  0  0  0  0  0\n",
            "   0  0  0  0  0  0  0  0  0  0  0  0  0  0  0  0  0  0  0  0  0  0  0  0\n",
            "   0  0  0  0  0  0  0  0  0  0  0  0  0  0  0  0  0  0  0  0  0  0  0  0\n",
            "   0  0  0  0  0  0  0  0  0  0  0  0  0  0  0  0  0  0  0  0  0  0  0  0\n",
            "   0  0  0  0  0  0  0  0  0  0  0  0  0  0  0  0  0  0  0  0  0  0  0  0\n",
            "   0  0  0  0  0  0  0  0  0  0  0  0  0  0  0  0  0  0  0  0  0  0  0  0\n",
            "   0  0  0  0  0  0  0  0  0  0  0  0  0  0  0  0  0  0  0  0  0  0  0  0\n",
            "   0  0  0  0  0  0  0  0  0  0]\n",
            " [10 10 10 10 10 10 10  6 10 10 10 10 10 10 10 10  0  0  0  0  0  0  0  0\n",
            "   0  0  0  0  0  0  0  0  0  0  0  0  0  0  0  0  0  0  0  0  0  0  0  0\n",
            "   0  0  0  0  0  0  0  0  0  0  0  0  0  0  0  0  0  0  0  0  0  0  0  0\n",
            "   0  0  0  0  0  0  0  0  0  0  0  0  0  0  0  0  0  0  0  0  0  0  0  0\n",
            "   0  0  0  0  0  0  0  0  0  0  0  0  0  0  0  0  0  0  0  0  0  0  0  0\n",
            "   0  0  0  0  0  0  0  0  0  0  0  0  0  0  0  0  0  0  0  0  0  0  0  0\n",
            "   0  0  0  0  0  0  0  0  0  0  0  0  0  0  0  0  0  0  0  0  0  0  0  0\n",
            "   0  0  0  0  0  0  0  0  0  0  0  0  0  0  0  0  0  0  0  0  0  0  0  0\n",
            "   0  0  0  0  0  0  0  0  0  0]] (2, 202)\n"
          ]
        }
      ],
      "source": [
        "predictions = model.predict(test_samples_X)\n",
        "print(predictions, predictions.shape)"
      ]
    },
    {
      "cell_type": "code",
      "execution_count": 82,
      "id": "e73ea8d2-3522-4029-a5b5-727e4fb09338",
      "metadata": {
        "colab": {
          "base_uri": "https://localhost:8080/"
        },
        "id": "e73ea8d2-3522-4029-a5b5-727e4fb09338",
        "outputId": "eb4617f8-62fc-4fb7-95ab-c33a0c5979a5"
      },
      "outputs": [
        {
          "output_type": "stream",
          "name": "stdout",
          "text": [
            "[['O', 'B-ORG', 'I-ORG', 'I-ORG', 'I-ORG', 'I-ORG', 'I-ORG', 'O', 'O', 'O', '-PAD-', '-PAD-', '-PAD-', '-PAD-', '-PAD-', '-PAD-', '-PAD-', '-PAD-', '-PAD-', '-PAD-', '-PAD-', '-PAD-', '-PAD-', '-PAD-', '-PAD-', '-PAD-', '-PAD-', '-PAD-', '-PAD-', '-PAD-', '-PAD-', '-PAD-', '-PAD-', '-PAD-', '-PAD-', '-PAD-', '-PAD-', '-PAD-', '-PAD-', '-PAD-', '-PAD-', '-PAD-', '-PAD-', '-PAD-', '-PAD-', '-PAD-', '-PAD-', '-PAD-', '-PAD-', '-PAD-', '-PAD-', '-PAD-', '-PAD-', '-PAD-', '-PAD-', '-PAD-', '-PAD-', '-PAD-', '-PAD-', '-PAD-', '-PAD-', '-PAD-', '-PAD-', '-PAD-', '-PAD-', '-PAD-', '-PAD-', '-PAD-', '-PAD-', '-PAD-', '-PAD-', '-PAD-', '-PAD-', '-PAD-', '-PAD-', '-PAD-', '-PAD-', '-PAD-', '-PAD-', '-PAD-', '-PAD-', '-PAD-', '-PAD-', '-PAD-', '-PAD-', '-PAD-', '-PAD-', '-PAD-', '-PAD-', '-PAD-', '-PAD-', '-PAD-', '-PAD-', '-PAD-', '-PAD-', '-PAD-', '-PAD-', '-PAD-', '-PAD-', '-PAD-', '-PAD-', '-PAD-', '-PAD-', '-PAD-', '-PAD-', '-PAD-', '-PAD-', '-PAD-', '-PAD-', '-PAD-', '-PAD-', '-PAD-', '-PAD-', '-PAD-', '-PAD-', '-PAD-', '-PAD-', '-PAD-', '-PAD-', '-PAD-', '-PAD-', '-PAD-', '-PAD-', '-PAD-', '-PAD-', '-PAD-', '-PAD-', '-PAD-', '-PAD-', '-PAD-', '-PAD-', '-PAD-', '-PAD-', '-PAD-', '-PAD-', '-PAD-', '-PAD-', '-PAD-', '-PAD-', '-PAD-', '-PAD-', '-PAD-', '-PAD-', '-PAD-', '-PAD-', '-PAD-', '-PAD-', '-PAD-', '-PAD-', '-PAD-', '-PAD-', '-PAD-', '-PAD-', '-PAD-', '-PAD-', '-PAD-', '-PAD-', '-PAD-', '-PAD-', '-PAD-', '-PAD-', '-PAD-', '-PAD-', '-PAD-', '-PAD-', '-PAD-', '-PAD-', '-PAD-', '-PAD-', '-PAD-', '-PAD-', '-PAD-', '-PAD-', '-PAD-', '-PAD-', '-PAD-', '-PAD-', '-PAD-', '-PAD-', '-PAD-', '-PAD-', '-PAD-', '-PAD-', '-PAD-', '-PAD-', '-PAD-', '-PAD-', '-PAD-', '-PAD-', '-PAD-', '-PAD-', '-PAD-', '-PAD-', '-PAD-', '-PAD-', '-PAD-', '-PAD-', '-PAD-', '-PAD-', '-PAD-', '-PAD-', '-PAD-'], ['O', 'O', 'O', 'O', 'O', 'O', 'O', 'B-LOC', 'O', 'O', 'O', 'O', 'O', 'O', 'O', 'O', '-PAD-', '-PAD-', '-PAD-', '-PAD-', '-PAD-', '-PAD-', '-PAD-', '-PAD-', '-PAD-', '-PAD-', '-PAD-', '-PAD-', '-PAD-', '-PAD-', '-PAD-', '-PAD-', '-PAD-', '-PAD-', '-PAD-', '-PAD-', '-PAD-', '-PAD-', '-PAD-', '-PAD-', '-PAD-', '-PAD-', '-PAD-', '-PAD-', '-PAD-', '-PAD-', '-PAD-', '-PAD-', '-PAD-', '-PAD-', '-PAD-', '-PAD-', '-PAD-', '-PAD-', '-PAD-', '-PAD-', '-PAD-', '-PAD-', '-PAD-', '-PAD-', '-PAD-', '-PAD-', '-PAD-', '-PAD-', '-PAD-', '-PAD-', '-PAD-', '-PAD-', '-PAD-', '-PAD-', '-PAD-', '-PAD-', '-PAD-', '-PAD-', '-PAD-', '-PAD-', '-PAD-', '-PAD-', '-PAD-', '-PAD-', '-PAD-', '-PAD-', '-PAD-', '-PAD-', '-PAD-', '-PAD-', '-PAD-', '-PAD-', '-PAD-', '-PAD-', '-PAD-', '-PAD-', '-PAD-', '-PAD-', '-PAD-', '-PAD-', '-PAD-', '-PAD-', '-PAD-', '-PAD-', '-PAD-', '-PAD-', '-PAD-', '-PAD-', '-PAD-', '-PAD-', '-PAD-', '-PAD-', '-PAD-', '-PAD-', '-PAD-', '-PAD-', '-PAD-', '-PAD-', '-PAD-', '-PAD-', '-PAD-', '-PAD-', '-PAD-', '-PAD-', '-PAD-', '-PAD-', '-PAD-', '-PAD-', '-PAD-', '-PAD-', '-PAD-', '-PAD-', '-PAD-', '-PAD-', '-PAD-', '-PAD-', '-PAD-', '-PAD-', '-PAD-', '-PAD-', '-PAD-', '-PAD-', '-PAD-', '-PAD-', '-PAD-', '-PAD-', '-PAD-', '-PAD-', '-PAD-', '-PAD-', '-PAD-', '-PAD-', '-PAD-', '-PAD-', '-PAD-', '-PAD-', '-PAD-', '-PAD-', '-PAD-', '-PAD-', '-PAD-', '-PAD-', '-PAD-', '-PAD-', '-PAD-', '-PAD-', '-PAD-', '-PAD-', '-PAD-', '-PAD-', '-PAD-', '-PAD-', '-PAD-', '-PAD-', '-PAD-', '-PAD-', '-PAD-', '-PAD-', '-PAD-', '-PAD-', '-PAD-', '-PAD-', '-PAD-', '-PAD-', '-PAD-', '-PAD-', '-PAD-', '-PAD-', '-PAD-', '-PAD-', '-PAD-', '-PAD-', '-PAD-', '-PAD-', '-PAD-', '-PAD-', '-PAD-', '-PAD-', '-PAD-', '-PAD-', '-PAD-', '-PAD-', '-PAD-', '-PAD-', '-PAD-', '-PAD-']]\n"
          ]
        }
      ],
      "source": [
        "#print(len(predictions))\n",
        "log_tokens = logits_to_tokens(predictions, {i: t for t, i in tag2index.items()})\n",
        "print(log_tokens)"
      ]
    },
    {
      "cell_type": "code",
      "execution_count": 83,
      "id": "74b160eb-4901-4278-a3ec-32fac5bf6d0d",
      "metadata": {
        "colab": {
          "base_uri": "https://localhost:8080/"
        },
        "id": "74b160eb-4901-4278-a3ec-32fac5bf6d0d",
        "outputId": "8a5edb48-119a-48a2-b870-548cdab5d608"
      },
      "outputs": [
        {
          "output_type": "stream",
          "name": "stdout",
          "text": [
            "Requirement already satisfied: tabulate in /usr/local/lib/python3.10/dist-packages (0.9.0)\n",
            "La    federación    Nacional    de     cafeteros    de     Colombia    es    dirigida    por    Horacio    Sánchez\n",
            "----  ------------  ----------  -----  -----------  -----  ----------  ----  ----------  -----  ---------  ---------\n",
            "O     B-ORG         I-ORG       I-ORG  I-ORG        I-ORG  I-ORG       O     O           O      -PAD-      -PAD-\n",
            "\n",
            "\n",
            "y    se    ubica    en    las    ciudades    de    Cali    y    Medellín    con    el    instituto    colombiano    del    café\n",
            "---  ----  -------  ----  -----  ----------  ----  ------  ---  ----------  -----  ----  -----------  ------------  -----  ------\n",
            "O    O     O        O     O      O           O     B-LOC   O    O           O      O     O            O             O      O\n"
          ]
        }
      ],
      "source": [
        "!pip install tabulate\n",
        "from tabulate import tabulate\n",
        "\n",
        "heads1 = test_sample2[0]\n",
        "body1 = [log_tokens[0][:len(test_sample2[0])]]\n",
        "\n",
        "heads2 = test_sample2[1]\n",
        "body2 = [log_tokens[1][:len(test_sample2[1])]]\n",
        "\n",
        "print(tabulate(body1, headers=heads1))\n",
        "\n",
        "print (\"\\n\")\n",
        "\n",
        "print(tabulate(body2, headers=heads2))\n",
        "\n",
        "## postagging Freeling 4.1\n",
        "\n",
        "## El      hombre   bajo     corre    bajo  el      puente   con  bajo  índice   de  adrenalina  .\n",
        "## DA0MS0  NCMS000  AQ0MS00  VMIP3S0  SP    DA0MS0  NCMS000  SP   SP    NCMS000  SP  NCFS000     Fp\n",
        "\n",
        "\n",
        "## pos tagger Stanford NLP\n",
        "\n",
        "## El      hombre   bajo     corre    bajo  el      puente   con    bajo   índice  de    adrenalina  .\n",
        "## da0000  nc0s000  aq0000   vmip000  sp000 da0000  nc0s000  sp000  aq0000 nc0s000 sp000 nc0s000     fp"
      ]
    }
  ],
  "metadata": {
    "kernelspec": {
      "display_name": "Python 3",
      "name": "python3"
    },
    "language_info": {
      "codemirror_mode": {
        "name": "ipython",
        "version": 3
      },
      "file_extension": ".py",
      "mimetype": "text/x-python",
      "name": "python",
      "nbconvert_exporter": "python",
      "pygments_lexer": "ipython3",
      "version": "3.10.13"
    },
    "colab": {
      "provenance": [],
      "gpuType": "V28"
    },
    "accelerator": "TPU",
    "widgets": {
      "application/vnd.jupyter.widget-state+json": {
        "74e5372d175f4aa7832461a3319c60a3": {
          "model_module": "@jupyter-widgets/controls",
          "model_name": "HBoxModel",
          "model_module_version": "1.5.0",
          "state": {
            "_dom_classes": [],
            "_model_module": "@jupyter-widgets/controls",
            "_model_module_version": "1.5.0",
            "_model_name": "HBoxModel",
            "_view_count": null,
            "_view_module": "@jupyter-widgets/controls",
            "_view_module_version": "1.5.0",
            "_view_name": "HBoxView",
            "box_style": "",
            "children": [
              "IPY_MODEL_38cca586cdf9423e866567059e23b109",
              "IPY_MODEL_f91c35031c9a44c6a7faeed411d68926",
              "IPY_MODEL_99b1df1067bd49f79e1327aeafd591d2"
            ],
            "layout": "IPY_MODEL_5c164f7c3c074e788dd2f3c4c5df932b"
          }
        },
        "38cca586cdf9423e866567059e23b109": {
          "model_module": "@jupyter-widgets/controls",
          "model_name": "HTMLModel",
          "model_module_version": "1.5.0",
          "state": {
            "_dom_classes": [],
            "_model_module": "@jupyter-widgets/controls",
            "_model_module_version": "1.5.0",
            "_model_name": "HTMLModel",
            "_view_count": null,
            "_view_module": "@jupyter-widgets/controls",
            "_view_module_version": "1.5.0",
            "_view_name": "HTMLView",
            "description": "",
            "description_tooltip": null,
            "layout": "IPY_MODEL_ad82e4759ece43a4b41d51622546e85c",
            "placeholder": "​",
            "style": "IPY_MODEL_dc9666daf4c84e8395f2e7c78d4f8df8",
            "value": ""
          }
        },
        "f91c35031c9a44c6a7faeed411d68926": {
          "model_module": "@jupyter-widgets/controls",
          "model_name": "FloatProgressModel",
          "model_module_version": "1.5.0",
          "state": {
            "_dom_classes": [],
            "_model_module": "@jupyter-widgets/controls",
            "_model_module_version": "1.5.0",
            "_model_name": "FloatProgressModel",
            "_view_count": null,
            "_view_module": "@jupyter-widgets/controls",
            "_view_module_version": "1.5.0",
            "_view_name": "ProgressView",
            "bar_style": "success",
            "description": "",
            "description_tooltip": null,
            "layout": "IPY_MODEL_8487427337b4415b8122db52f7914f42",
            "max": 1,
            "min": 0,
            "orientation": "horizontal",
            "style": "IPY_MODEL_20b342fffc2d48fc89425b1a35cd7c10",
            "value": 1
          }
        },
        "99b1df1067bd49f79e1327aeafd591d2": {
          "model_module": "@jupyter-widgets/controls",
          "model_name": "HTMLModel",
          "model_module_version": "1.5.0",
          "state": {
            "_dom_classes": [],
            "_model_module": "@jupyter-widgets/controls",
            "_model_module_version": "1.5.0",
            "_model_name": "HTMLModel",
            "_view_count": null,
            "_view_module": "@jupyter-widgets/controls",
            "_view_module_version": "1.5.0",
            "_view_name": "HTMLView",
            "description": "",
            "description_tooltip": null,
            "layout": "IPY_MODEL_a62fa21217e64dd190c9db6450f38c66",
            "placeholder": "​",
            "style": "IPY_MODEL_040f5ed0ce854d95b1ff0d9a3895dc60",
            "value": " 220714/? [00:11&lt;00:00, 18478.86it/s]"
          }
        },
        "5c164f7c3c074e788dd2f3c4c5df932b": {
          "model_module": "@jupyter-widgets/base",
          "model_name": "LayoutModel",
          "model_module_version": "1.2.0",
          "state": {
            "_model_module": "@jupyter-widgets/base",
            "_model_module_version": "1.2.0",
            "_model_name": "LayoutModel",
            "_view_count": null,
            "_view_module": "@jupyter-widgets/base",
            "_view_module_version": "1.2.0",
            "_view_name": "LayoutView",
            "align_content": null,
            "align_items": null,
            "align_self": null,
            "border": null,
            "bottom": null,
            "display": null,
            "flex": null,
            "flex_flow": null,
            "grid_area": null,
            "grid_auto_columns": null,
            "grid_auto_flow": null,
            "grid_auto_rows": null,
            "grid_column": null,
            "grid_gap": null,
            "grid_row": null,
            "grid_template_areas": null,
            "grid_template_columns": null,
            "grid_template_rows": null,
            "height": null,
            "justify_content": null,
            "justify_items": null,
            "left": null,
            "margin": null,
            "max_height": null,
            "max_width": null,
            "min_height": null,
            "min_width": null,
            "object_fit": null,
            "object_position": null,
            "order": null,
            "overflow": null,
            "overflow_x": null,
            "overflow_y": null,
            "padding": null,
            "right": null,
            "top": null,
            "visibility": null,
            "width": null
          }
        },
        "ad82e4759ece43a4b41d51622546e85c": {
          "model_module": "@jupyter-widgets/base",
          "model_name": "LayoutModel",
          "model_module_version": "1.2.0",
          "state": {
            "_model_module": "@jupyter-widgets/base",
            "_model_module_version": "1.2.0",
            "_model_name": "LayoutModel",
            "_view_count": null,
            "_view_module": "@jupyter-widgets/base",
            "_view_module_version": "1.2.0",
            "_view_name": "LayoutView",
            "align_content": null,
            "align_items": null,
            "align_self": null,
            "border": null,
            "bottom": null,
            "display": null,
            "flex": null,
            "flex_flow": null,
            "grid_area": null,
            "grid_auto_columns": null,
            "grid_auto_flow": null,
            "grid_auto_rows": null,
            "grid_column": null,
            "grid_gap": null,
            "grid_row": null,
            "grid_template_areas": null,
            "grid_template_columns": null,
            "grid_template_rows": null,
            "height": null,
            "justify_content": null,
            "justify_items": null,
            "left": null,
            "margin": null,
            "max_height": null,
            "max_width": null,
            "min_height": null,
            "min_width": null,
            "object_fit": null,
            "object_position": null,
            "order": null,
            "overflow": null,
            "overflow_x": null,
            "overflow_y": null,
            "padding": null,
            "right": null,
            "top": null,
            "visibility": null,
            "width": null
          }
        },
        "dc9666daf4c84e8395f2e7c78d4f8df8": {
          "model_module": "@jupyter-widgets/controls",
          "model_name": "DescriptionStyleModel",
          "model_module_version": "1.5.0",
          "state": {
            "_model_module": "@jupyter-widgets/controls",
            "_model_module_version": "1.5.0",
            "_model_name": "DescriptionStyleModel",
            "_view_count": null,
            "_view_module": "@jupyter-widgets/base",
            "_view_module_version": "1.2.0",
            "_view_name": "StyleView",
            "description_width": ""
          }
        },
        "8487427337b4415b8122db52f7914f42": {
          "model_module": "@jupyter-widgets/base",
          "model_name": "LayoutModel",
          "model_module_version": "1.2.0",
          "state": {
            "_model_module": "@jupyter-widgets/base",
            "_model_module_version": "1.2.0",
            "_model_name": "LayoutModel",
            "_view_count": null,
            "_view_module": "@jupyter-widgets/base",
            "_view_module_version": "1.2.0",
            "_view_name": "LayoutView",
            "align_content": null,
            "align_items": null,
            "align_self": null,
            "border": null,
            "bottom": null,
            "display": null,
            "flex": null,
            "flex_flow": null,
            "grid_area": null,
            "grid_auto_columns": null,
            "grid_auto_flow": null,
            "grid_auto_rows": null,
            "grid_column": null,
            "grid_gap": null,
            "grid_row": null,
            "grid_template_areas": null,
            "grid_template_columns": null,
            "grid_template_rows": null,
            "height": null,
            "justify_content": null,
            "justify_items": null,
            "left": null,
            "margin": null,
            "max_height": null,
            "max_width": null,
            "min_height": null,
            "min_width": null,
            "object_fit": null,
            "object_position": null,
            "order": null,
            "overflow": null,
            "overflow_x": null,
            "overflow_y": null,
            "padding": null,
            "right": null,
            "top": null,
            "visibility": null,
            "width": "20px"
          }
        },
        "20b342fffc2d48fc89425b1a35cd7c10": {
          "model_module": "@jupyter-widgets/controls",
          "model_name": "ProgressStyleModel",
          "model_module_version": "1.5.0",
          "state": {
            "_model_module": "@jupyter-widgets/controls",
            "_model_module_version": "1.5.0",
            "_model_name": "ProgressStyleModel",
            "_view_count": null,
            "_view_module": "@jupyter-widgets/base",
            "_view_module_version": "1.2.0",
            "_view_name": "StyleView",
            "bar_color": null,
            "description_width": ""
          }
        },
        "a62fa21217e64dd190c9db6450f38c66": {
          "model_module": "@jupyter-widgets/base",
          "model_name": "LayoutModel",
          "model_module_version": "1.2.0",
          "state": {
            "_model_module": "@jupyter-widgets/base",
            "_model_module_version": "1.2.0",
            "_model_name": "LayoutModel",
            "_view_count": null,
            "_view_module": "@jupyter-widgets/base",
            "_view_module_version": "1.2.0",
            "_view_name": "LayoutView",
            "align_content": null,
            "align_items": null,
            "align_self": null,
            "border": null,
            "bottom": null,
            "display": null,
            "flex": null,
            "flex_flow": null,
            "grid_area": null,
            "grid_auto_columns": null,
            "grid_auto_flow": null,
            "grid_auto_rows": null,
            "grid_column": null,
            "grid_gap": null,
            "grid_row": null,
            "grid_template_areas": null,
            "grid_template_columns": null,
            "grid_template_rows": null,
            "height": null,
            "justify_content": null,
            "justify_items": null,
            "left": null,
            "margin": null,
            "max_height": null,
            "max_width": null,
            "min_height": null,
            "min_width": null,
            "object_fit": null,
            "object_position": null,
            "order": null,
            "overflow": null,
            "overflow_x": null,
            "overflow_y": null,
            "padding": null,
            "right": null,
            "top": null,
            "visibility": null,
            "width": null
          }
        },
        "040f5ed0ce854d95b1ff0d9a3895dc60": {
          "model_module": "@jupyter-widgets/controls",
          "model_name": "DescriptionStyleModel",
          "model_module_version": "1.5.0",
          "state": {
            "_model_module": "@jupyter-widgets/controls",
            "_model_module_version": "1.5.0",
            "_model_name": "DescriptionStyleModel",
            "_view_count": null,
            "_view_module": "@jupyter-widgets/base",
            "_view_module_version": "1.2.0",
            "_view_name": "StyleView",
            "description_width": ""
          }
        },
        "5dbaa93bef184e3c925c11a16a99f6e4": {
          "model_module": "@jupyter-widgets/controls",
          "model_name": "HBoxModel",
          "model_module_version": "1.5.0",
          "state": {
            "_dom_classes": [],
            "_model_module": "@jupyter-widgets/controls",
            "_model_module_version": "1.5.0",
            "_model_name": "HBoxModel",
            "_view_count": null,
            "_view_module": "@jupyter-widgets/controls",
            "_view_module_version": "1.5.0",
            "_view_name": "HBoxView",
            "box_style": "",
            "children": [
              "IPY_MODEL_8bd9783608824b4986400fc7ab62c9a6",
              "IPY_MODEL_98a07f4dfef34db1ab706a364314322a",
              "IPY_MODEL_78ac89333fe64742b3239e8bff698263"
            ],
            "layout": "IPY_MODEL_26197cb9e2c64b9299a2c4a7a0cd2e40"
          }
        },
        "8bd9783608824b4986400fc7ab62c9a6": {
          "model_module": "@jupyter-widgets/controls",
          "model_name": "HTMLModel",
          "model_module_version": "1.5.0",
          "state": {
            "_dom_classes": [],
            "_model_module": "@jupyter-widgets/controls",
            "_model_module_version": "1.5.0",
            "_model_name": "HTMLModel",
            "_view_count": null,
            "_view_module": "@jupyter-widgets/controls",
            "_view_module_version": "1.5.0",
            "_view_name": "HTMLView",
            "description": "",
            "description_tooltip": null,
            "layout": "IPY_MODEL_7bcdd72192ed4fe18df841dc5a1d50df",
            "placeholder": "​",
            "style": "IPY_MODEL_bc1ac79969204524b6a44640139a9109",
            "value": "100%"
          }
        },
        "98a07f4dfef34db1ab706a364314322a": {
          "model_module": "@jupyter-widgets/controls",
          "model_name": "FloatProgressModel",
          "model_module_version": "1.5.0",
          "state": {
            "_dom_classes": [],
            "_model_module": "@jupyter-widgets/controls",
            "_model_module_version": "1.5.0",
            "_model_name": "FloatProgressModel",
            "_view_count": null,
            "_view_module": "@jupyter-widgets/controls",
            "_view_module_version": "1.5.0",
            "_view_name": "ProgressView",
            "bar_style": "success",
            "description": "",
            "description_tooltip": null,
            "layout": "IPY_MODEL_16e535c68c394939a7f6d4b96aca00b6",
            "max": 28384,
            "min": 0,
            "orientation": "horizontal",
            "style": "IPY_MODEL_5b69427bcd824e74a90add0945a68b05",
            "value": 28384
          }
        },
        "78ac89333fe64742b3239e8bff698263": {
          "model_module": "@jupyter-widgets/controls",
          "model_name": "HTMLModel",
          "model_module_version": "1.5.0",
          "state": {
            "_dom_classes": [],
            "_model_module": "@jupyter-widgets/controls",
            "_model_module_version": "1.5.0",
            "_model_name": "HTMLModel",
            "_view_count": null,
            "_view_module": "@jupyter-widgets/controls",
            "_view_module_version": "1.5.0",
            "_view_name": "HTMLView",
            "description": "",
            "description_tooltip": null,
            "layout": "IPY_MODEL_74f6d885cdc34f3c97ffb7a9aee878d6",
            "placeholder": "​",
            "style": "IPY_MODEL_0ec9285549be453ea5bda49fb353b373",
            "value": " 28384/28384 [00:00&lt;00:00, 251529.46it/s]"
          }
        },
        "26197cb9e2c64b9299a2c4a7a0cd2e40": {
          "model_module": "@jupyter-widgets/base",
          "model_name": "LayoutModel",
          "model_module_version": "1.2.0",
          "state": {
            "_model_module": "@jupyter-widgets/base",
            "_model_module_version": "1.2.0",
            "_model_name": "LayoutModel",
            "_view_count": null,
            "_view_module": "@jupyter-widgets/base",
            "_view_module_version": "1.2.0",
            "_view_name": "LayoutView",
            "align_content": null,
            "align_items": null,
            "align_self": null,
            "border": null,
            "bottom": null,
            "display": null,
            "flex": null,
            "flex_flow": null,
            "grid_area": null,
            "grid_auto_columns": null,
            "grid_auto_flow": null,
            "grid_auto_rows": null,
            "grid_column": null,
            "grid_gap": null,
            "grid_row": null,
            "grid_template_areas": null,
            "grid_template_columns": null,
            "grid_template_rows": null,
            "height": null,
            "justify_content": null,
            "justify_items": null,
            "left": null,
            "margin": null,
            "max_height": null,
            "max_width": null,
            "min_height": null,
            "min_width": null,
            "object_fit": null,
            "object_position": null,
            "order": null,
            "overflow": null,
            "overflow_x": null,
            "overflow_y": null,
            "padding": null,
            "right": null,
            "top": null,
            "visibility": null,
            "width": null
          }
        },
        "7bcdd72192ed4fe18df841dc5a1d50df": {
          "model_module": "@jupyter-widgets/base",
          "model_name": "LayoutModel",
          "model_module_version": "1.2.0",
          "state": {
            "_model_module": "@jupyter-widgets/base",
            "_model_module_version": "1.2.0",
            "_model_name": "LayoutModel",
            "_view_count": null,
            "_view_module": "@jupyter-widgets/base",
            "_view_module_version": "1.2.0",
            "_view_name": "LayoutView",
            "align_content": null,
            "align_items": null,
            "align_self": null,
            "border": null,
            "bottom": null,
            "display": null,
            "flex": null,
            "flex_flow": null,
            "grid_area": null,
            "grid_auto_columns": null,
            "grid_auto_flow": null,
            "grid_auto_rows": null,
            "grid_column": null,
            "grid_gap": null,
            "grid_row": null,
            "grid_template_areas": null,
            "grid_template_columns": null,
            "grid_template_rows": null,
            "height": null,
            "justify_content": null,
            "justify_items": null,
            "left": null,
            "margin": null,
            "max_height": null,
            "max_width": null,
            "min_height": null,
            "min_width": null,
            "object_fit": null,
            "object_position": null,
            "order": null,
            "overflow": null,
            "overflow_x": null,
            "overflow_y": null,
            "padding": null,
            "right": null,
            "top": null,
            "visibility": null,
            "width": null
          }
        },
        "bc1ac79969204524b6a44640139a9109": {
          "model_module": "@jupyter-widgets/controls",
          "model_name": "DescriptionStyleModel",
          "model_module_version": "1.5.0",
          "state": {
            "_model_module": "@jupyter-widgets/controls",
            "_model_module_version": "1.5.0",
            "_model_name": "DescriptionStyleModel",
            "_view_count": null,
            "_view_module": "@jupyter-widgets/base",
            "_view_module_version": "1.2.0",
            "_view_name": "StyleView",
            "description_width": ""
          }
        },
        "16e535c68c394939a7f6d4b96aca00b6": {
          "model_module": "@jupyter-widgets/base",
          "model_name": "LayoutModel",
          "model_module_version": "1.2.0",
          "state": {
            "_model_module": "@jupyter-widgets/base",
            "_model_module_version": "1.2.0",
            "_model_name": "LayoutModel",
            "_view_count": null,
            "_view_module": "@jupyter-widgets/base",
            "_view_module_version": "1.2.0",
            "_view_name": "LayoutView",
            "align_content": null,
            "align_items": null,
            "align_self": null,
            "border": null,
            "bottom": null,
            "display": null,
            "flex": null,
            "flex_flow": null,
            "grid_area": null,
            "grid_auto_columns": null,
            "grid_auto_flow": null,
            "grid_auto_rows": null,
            "grid_column": null,
            "grid_gap": null,
            "grid_row": null,
            "grid_template_areas": null,
            "grid_template_columns": null,
            "grid_template_rows": null,
            "height": null,
            "justify_content": null,
            "justify_items": null,
            "left": null,
            "margin": null,
            "max_height": null,
            "max_width": null,
            "min_height": null,
            "min_width": null,
            "object_fit": null,
            "object_position": null,
            "order": null,
            "overflow": null,
            "overflow_x": null,
            "overflow_y": null,
            "padding": null,
            "right": null,
            "top": null,
            "visibility": null,
            "width": null
          }
        },
        "5b69427bcd824e74a90add0945a68b05": {
          "model_module": "@jupyter-widgets/controls",
          "model_name": "ProgressStyleModel",
          "model_module_version": "1.5.0",
          "state": {
            "_model_module": "@jupyter-widgets/controls",
            "_model_module_version": "1.5.0",
            "_model_name": "ProgressStyleModel",
            "_view_count": null,
            "_view_module": "@jupyter-widgets/base",
            "_view_module_version": "1.2.0",
            "_view_name": "StyleView",
            "bar_color": null,
            "description_width": ""
          }
        },
        "74f6d885cdc34f3c97ffb7a9aee878d6": {
          "model_module": "@jupyter-widgets/base",
          "model_name": "LayoutModel",
          "model_module_version": "1.2.0",
          "state": {
            "_model_module": "@jupyter-widgets/base",
            "_model_module_version": "1.2.0",
            "_model_name": "LayoutModel",
            "_view_count": null,
            "_view_module": "@jupyter-widgets/base",
            "_view_module_version": "1.2.0",
            "_view_name": "LayoutView",
            "align_content": null,
            "align_items": null,
            "align_self": null,
            "border": null,
            "bottom": null,
            "display": null,
            "flex": null,
            "flex_flow": null,
            "grid_area": null,
            "grid_auto_columns": null,
            "grid_auto_flow": null,
            "grid_auto_rows": null,
            "grid_column": null,
            "grid_gap": null,
            "grid_row": null,
            "grid_template_areas": null,
            "grid_template_columns": null,
            "grid_template_rows": null,
            "height": null,
            "justify_content": null,
            "justify_items": null,
            "left": null,
            "margin": null,
            "max_height": null,
            "max_width": null,
            "min_height": null,
            "min_width": null,
            "object_fit": null,
            "object_position": null,
            "order": null,
            "overflow": null,
            "overflow_x": null,
            "overflow_y": null,
            "padding": null,
            "right": null,
            "top": null,
            "visibility": null,
            "width": null
          }
        },
        "0ec9285549be453ea5bda49fb353b373": {
          "model_module": "@jupyter-widgets/controls",
          "model_name": "DescriptionStyleModel",
          "model_module_version": "1.5.0",
          "state": {
            "_model_module": "@jupyter-widgets/controls",
            "_model_module_version": "1.5.0",
            "_model_name": "DescriptionStyleModel",
            "_view_count": null,
            "_view_module": "@jupyter-widgets/base",
            "_view_module_version": "1.2.0",
            "_view_name": "StyleView",
            "description_width": ""
          }
        }
      }
    }
  },
  "nbformat": 4,
  "nbformat_minor": 5
}
